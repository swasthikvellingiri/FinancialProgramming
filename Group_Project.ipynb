{
 "cells": [
  {
   "cell_type": "code",
<<<<<<< HEAD
   "execution_count": 56,
=======
   "execution_count": 614,
>>>>>>> 876faa638b1756e3faa5542cb4ec32a6b91f1710
   "id": "eb47f213",
   "metadata": {},
   "outputs": [],
   "source": [
    "# Import libraries\n",
    "import numpy as np\n",
    "import pandas as pd\n",
    "import matplotlib.pyplot as plt\n",
    "import os\n",
    "import datetime as dt\n",
<<<<<<< HEAD
    "import seaborn as sns\n",
    "\n"
=======
    "import seaborn as sns \n",
    "import scipy.stats as stats\n"
>>>>>>> 876faa638b1756e3faa5542cb4ec32a6b91f1710
   ]
  },
  {
   "cell_type": "code",
<<<<<<< HEAD
<<<<<<< Updated upstream
   "execution_count": 116,
=======
   "execution_count": 111,
>>>>>>> Stashed changes
=======
   "execution_count": 615,
   "id": "93ea66fb",
   "metadata": {},
   "outputs": [],
   "source": [
    "pd. set_option('display.max_rows', 500)"
   ]
  },
  {
   "cell_type": "code",
   "execution_count": 616,
>>>>>>> 876faa638b1756e3faa5542cb4ec32a6b91f1710
   "id": "8b20be18",
   "metadata": {},
   "outputs": [],
   "source": [
    "# Import banking data\n",
    "# Note: This data was extracted on 1999\n",
    "\n",
    "# Each record describes characteristics of a client\n",
    "client = pd.read_csv('./data/raw/data_berka/client.asc', sep=';')\n",
    "\n",
    "# Each record describes static characteristics of an account\n",
    "account = pd.read_csv('./data/raw/data_berka/account.asc', sep=';')\n",
    "\n",
    "# Each record describes a credit card issued to an account\n",
    "card = pd.read_csv('./data/raw/data_berka/card.asc', sep=';')\n",
    "\n",
    "# Each record describes demographic characteristics of a district\n",
    "district = pd.read_csv('./data/raw/data_berka/district.asc', sep=';')\n",
    "\n",
    "# Each record relates together a client with an account\n",
    "# i.e. this relation describes the rights of clients to operate accounts\n",
    "disp = pd.read_csv('./data/raw/data_berka/disp.asc', sep=';')\n",
    "\n",
    "# Each record describes characteristics of a payment order (debits only)\n",
    "order = pd.read_csv('./data/raw/data_berka/order.asc', sep=';')\n",
    "\n",
    "# Each record describes one transaction on an account\n",
    "trans = pd.read_csv('./data/raw/data_berka/trans.asc', sep=';', low_memory=False)\n",
    "\n",
    "# Each record describes a loan granted for a given account\n",
    "loan = pd.read_csv('./data/raw/data_berka/loan.asc', sep=';')"
   ]
  },
  {
   "cell_type": "code",
<<<<<<< HEAD
<<<<<<< Updated upstream
   "execution_count": 117,
=======
   "execution_count": 58,
>>>>>>> Stashed changes
=======
   "execution_count": 617,
>>>>>>> 876faa638b1756e3faa5542cb4ec32a6b91f1710
   "id": "3d166e76",
   "metadata": {},
   "outputs": [],
   "source": [
    "def checkEmpty(df):\n",
    "    empty = {}\n",
    "    for column in df.columns[0:]:\n",
    "            empty[column] = df[column].astype(str).str.contains(r'^\\s*$', na=False)\n",
    "    return empty "
   ]
  },
  {
   "cell_type": "code",
<<<<<<< HEAD
<<<<<<< Updated upstream
   "execution_count": 118,
=======
   "execution_count": 59,
>>>>>>> Stashed changes
=======
   "execution_count": 618,
>>>>>>> 876faa638b1756e3faa5542cb4ec32a6b91f1710
   "id": "7144deab",
   "metadata": {},
   "outputs": [],
   "source": [
    "def fillEmpty(df, empty):\n",
    "    for column in df.columns[0:]:\n",
    "        if df[column].dtype == object:\n",
    "            df.loc[emptyrows[column], column] = 'Other'\n",
    "    return df"
   ]
  },
  {
   "cell_type": "code",
<<<<<<< HEAD
<<<<<<< Updated upstream
   "execution_count": 119,
=======
   "execution_count": 60,
>>>>>>> Stashed changes
=======
   "execution_count": 619,
>>>>>>> 876faa638b1756e3faa5542cb4ec32a6b91f1710
   "id": "14821275",
   "metadata": {},
   "outputs": [],
   "source": [
    "def renameColumn(table, df):\n",
    "    for column in df.columns[1:]:\n",
    "        if table not in column:\n",
    "            column_name =  table + '_' + column\n",
    "            df.rename(columns={column : column_name}, inplace = True)\n",
    "    return df"
   ]
  },
  {
   "cell_type": "markdown",
   "id": "f5cf4de9",
   "metadata": {},
   "source": [
    "# CLIENT DATA"
   ]
  },
  {
   "cell_type": "code",
<<<<<<< HEAD
<<<<<<< Updated upstream
   "execution_count": 120,
=======
   "execution_count": 61,
>>>>>>> Stashed changes
=======
   "execution_count": 620,
>>>>>>> 876faa638b1756e3faa5542cb4ec32a6b91f1710
   "id": "c0ae018c",
   "metadata": {},
   "outputs": [],
   "source": [
    "# Checking data\n",
    "#print(client.head())\n",
    "# Checking structure\n",
    "#print(client.info())\n",
    "\n",
    "client = renameColumn('client', client)\n",
    "\n",
    "# Checking missing columns\n",
    "client['client_birth_year'] = client['client_birth_number'].astype(str).str[:2].astype(int)\n",
    "client['client_birth_year'] = client['client_birth_year'] + 1900\n",
    "#calculate the age of clients\n",
    "client['client_age'] = 1997 - client['client_birth_year']\n",
    "#age group for clients\n",
    "client['client_age_group'] = client['client_age'] // 10 * 10\n",
    "\n",
    "client['client_birth_month'] = client['client_birth_number'].astype(str).str[2:4].astype(int)\n",
    "client['client_gender'] = 'M'\n",
    "client.loc[client['client_birth_month'] > 50, 'client_gender'] = 'F'\n",
    "client.loc[client['client_birth_month'] > 50, 'client_birth_month'] = client['client_birth_month'] - 50\n",
    "client['client_birth_day'] = client['client_birth_number'].astype(str).str[4:6].astype(int)\n",
    "\n",
    "client[\"client_category\"]=np.where(client['client_age_group'] < 21 ,\"Young(< 21)\",\n",
    "                                     (np.where(client['client_age_group'] < 55 , \"Adult(21-55)\" ,\"Senior Citizen(> 55)\")))\n",
    "\n"
   ]
  },
  {
   "cell_type": "code",
<<<<<<< HEAD
<<<<<<< Updated upstream
   "execution_count": 121,
   "id": "bae59e37",
=======
   "execution_count": 62,
   "id": "1f51d3ec",
>>>>>>> Stashed changes
=======
   "execution_count": 621,
   "id": "d825d687",
>>>>>>> 876faa638b1756e3faa5542cb4ec32a6b91f1710
   "metadata": {},
   "outputs": [
    {
     "data": {
      "text/html": [
       "<div>\n",
       "<style scoped>\n",
       "    .dataframe tbody tr th:only-of-type {\n",
       "        vertical-align: middle;\n",
       "    }\n",
       "\n",
       "    .dataframe tbody tr th {\n",
       "        vertical-align: top;\n",
       "    }\n",
       "\n",
       "    .dataframe thead th {\n",
       "        text-align: right;\n",
       "    }\n",
       "</style>\n",
       "<table border=\"1\" class=\"dataframe\">\n",
       "  <thead>\n",
       "    <tr style=\"text-align: right;\">\n",
       "      <th></th>\n",
       "      <th>client_id</th>\n",
       "      <th>client_birth_number</th>\n",
       "      <th>client_district_id</th>\n",
       "      <th>client_birth_year</th>\n",
       "      <th>client_age</th>\n",
       "      <th>client_age_group</th>\n",
       "      <th>client_birth_month</th>\n",
       "      <th>client_gender</th>\n",
       "      <th>client_birth_day</th>\n",
       "      <th>client_category</th>\n",
       "    </tr>\n",
       "  </thead>\n",
       "  <tbody>\n",
       "    <tr>\n",
       "      <th>0</th>\n",
       "      <td>1</td>\n",
       "      <td>706213</td>\n",
       "      <td>18</td>\n",
       "      <td>1970</td>\n",
       "      <td>27</td>\n",
       "      <td>20</td>\n",
       "      <td>12</td>\n",
       "      <td>F</td>\n",
       "      <td>13</td>\n",
       "      <td>Young(&lt; 21)</td>\n",
       "    </tr>\n",
       "    <tr>\n",
       "      <th>1</th>\n",
       "      <td>2</td>\n",
       "      <td>450204</td>\n",
       "      <td>1</td>\n",
       "      <td>1945</td>\n",
       "      <td>52</td>\n",
       "      <td>50</td>\n",
       "      <td>2</td>\n",
       "      <td>M</td>\n",
       "      <td>4</td>\n",
       "      <td>Adult(21-55)</td>\n",
       "    </tr>\n",
       "    <tr>\n",
       "      <th>2</th>\n",
       "      <td>3</td>\n",
       "      <td>406009</td>\n",
       "      <td>1</td>\n",
       "      <td>1940</td>\n",
       "      <td>57</td>\n",
       "      <td>50</td>\n",
       "      <td>10</td>\n",
       "      <td>F</td>\n",
       "      <td>9</td>\n",
       "      <td>Adult(21-55)</td>\n",
       "    </tr>\n",
       "  </tbody>\n",
       "</table>\n",
       "</div>"
      ],
      "text/plain": [
       "   client_id  client_birth_number  client_district_id  client_birth_year  \\\n",
       "0          1               706213                  18               1970   \n",
       "1          2               450204                   1               1945   \n",
       "2          3               406009                   1               1940   \n",
       "\n",
       "   client_age  client_age_group  client_birth_month client_gender  \\\n",
       "0          27                20                  12             F   \n",
       "1          52                50                   2             M   \n",
       "2          57                50                  10             F   \n",
       "\n",
       "   client_birth_day client_category  \n",
       "0                13     Young(< 21)  \n",
       "1                 4    Adult(21-55)  \n",
       "2                 9    Adult(21-55)  "
      ]
     },
<<<<<<< HEAD
<<<<<<< Updated upstream
     "execution_count": 121,
=======
     "execution_count": 62,
>>>>>>> Stashed changes
=======
     "execution_count": 621,
>>>>>>> 876faa638b1756e3faa5542cb4ec32a6b91f1710
     "metadata": {},
     "output_type": "execute_result"
    }
   ],
   "source": [
    "client.head(3)"
   ]
  },
  {
   "cell_type": "markdown",
   "id": "5543b4f7",
   "metadata": {},
   "source": [
    "# ACCOUNT DATA"
   ]
  },
  {
   "cell_type": "code",
<<<<<<< HEAD
   "execution_count": 63,
=======
   "execution_count": 622,
>>>>>>> 876faa638b1756e3faa5542cb4ec32a6b91f1710
   "id": "43920175",
   "metadata": {},
   "outputs": [
    {
     "name": "stdout",
     "output_type": "stream",
     "text": [
      "The number of missing columns are: 0\n"
     ]
    }
   ],
   "source": [
<<<<<<< Updated upstream
    "account = renameColumn('account', account)\n",
=======
    "# Checking data\n",
    "#print(account.head())\n",
    "# Checking structure\n",
    "#print(account.info())\n",
>>>>>>> Stashed changes
    "\n",
    "# Checking missing columns\n",
    "print(\"The number of missing columns are: \" +  str(account.isna().sum().sum()))\n",
    "\n",
    "#Processing Date\n",
    "account['account_year'] = account['account_date'].astype(str).str[:2].astype(int) \n",
    "account['account_year'] = account['account_year'] + 1900\n",
    "account['account_month'] = account['account_date'].astype(str).str[2:4].astype(int)\n",
    "account['account_day'] = account['account_date'].astype(str).str[4:6].astype(int)\n",
    "\n",
    "#getting Length of relationship (LOR) of the accounts\n",
    "account['account_lor'] = 1997 - account['account_year']\n",
    "\n",
    "# Checking empty columns\n",
    "emptyrows = checkEmpty(account)\n",
    "\n",
    "account =  fillEmpty(account, emptyrows)\n"
   ]
  },
  {
   "cell_type": "code",
<<<<<<< HEAD
<<<<<<< Updated upstream
   "execution_count": 402,
   "id": "b1b21157",
=======
   "execution_count": 64,
   "id": "528405ab",
>>>>>>> Stashed changes
=======
   "execution_count": 623,
   "id": "1ce21f68",
>>>>>>> 876faa638b1756e3faa5542cb4ec32a6b91f1710
   "metadata": {},
   "outputs": [
    {
     "data": {
      "text/html": [
       "<div>\n",
       "<style scoped>\n",
       "    .dataframe tbody tr th:only-of-type {\n",
       "        vertical-align: middle;\n",
       "    }\n",
       "\n",
       "    .dataframe tbody tr th {\n",
       "        vertical-align: top;\n",
       "    }\n",
       "\n",
       "    .dataframe thead th {\n",
       "        text-align: right;\n",
       "    }\n",
       "</style>\n",
       "<table border=\"1\" class=\"dataframe\">\n",
       "  <thead>\n",
       "    <tr style=\"text-align: right;\">\n",
       "      <th></th>\n",
       "      <th>account_id</th>\n",
       "      <th>account_district_id</th>\n",
       "      <th>account_frequency</th>\n",
       "      <th>account_date</th>\n",
       "      <th>account_year</th>\n",
       "      <th>account_month</th>\n",
       "      <th>account_day</th>\n",
       "      <th>account_lor</th>\n",
       "    </tr>\n",
       "  </thead>\n",
       "  <tbody>\n",
       "    <tr>\n",
       "      <th>0</th>\n",
       "      <td>576</td>\n",
       "      <td>55</td>\n",
       "      <td>POPLATEK MESICNE</td>\n",
       "      <td>930101</td>\n",
       "      <td>1993</td>\n",
       "      <td>1</td>\n",
       "      <td>1</td>\n",
       "      <td>4</td>\n",
       "    </tr>\n",
       "    <tr>\n",
       "      <th>1</th>\n",
       "      <td>3818</td>\n",
       "      <td>74</td>\n",
       "      <td>POPLATEK MESICNE</td>\n",
       "      <td>930101</td>\n",
       "      <td>1993</td>\n",
       "      <td>1</td>\n",
       "      <td>1</td>\n",
       "      <td>4</td>\n",
       "    </tr>\n",
       "    <tr>\n",
       "      <th>2</th>\n",
       "      <td>704</td>\n",
       "      <td>55</td>\n",
       "      <td>POPLATEK MESICNE</td>\n",
       "      <td>930101</td>\n",
       "      <td>1993</td>\n",
       "      <td>1</td>\n",
       "      <td>1</td>\n",
       "      <td>4</td>\n",
       "    </tr>\n",
       "  </tbody>\n",
       "</table>\n",
       "</div>"
      ],
      "text/plain": [
       "   account_id  account_district_id account_frequency  account_date  \\\n",
       "0         576                   55  POPLATEK MESICNE        930101   \n",
       "1        3818                   74  POPLATEK MESICNE        930101   \n",
       "2         704                   55  POPLATEK MESICNE        930101   \n",
       "\n",
       "   account_year  account_month  account_day  account_lor  \n",
       "0          1993              1            1            4  \n",
       "1          1993              1            1            4  \n",
       "2          1993              1            1            4  "
      ]
     },
<<<<<<< HEAD
     "execution_count": 64,
=======
     "execution_count": 623,
>>>>>>> 876faa638b1756e3faa5542cb4ec32a6b91f1710
     "metadata": {},
     "output_type": "execute_result"
    }
   ],
   "source": [
    "account.head(3)"
   ]
  },
  {
   "cell_type": "markdown",
   "id": "fd7d9df9",
   "metadata": {},
   "source": [
    "# CARD DATA"
   ]
  },
  {
   "cell_type": "code",
<<<<<<< HEAD
   "execution_count": 66,
=======
   "execution_count": 624,
>>>>>>> 876faa638b1756e3faa5542cb4ec32a6b91f1710
   "id": "10ffc7b0",
   "metadata": {},
   "outputs": [
    {
     "name": "stdout",
     "output_type": "stream",
     "text": [
      "The number of missing columns are: 0\n"
     ]
    }
   ],
   "source": [
    "card = renameColumn('card', card)\n",
    "\n",
    "# Checking missing columns\n",
    "print(\"The number of missing columns are: \" +  str(card.isna().sum().sum()))\n",
    "\n",
    "#Processing Date\n",
    "card['card_issued_year'] = card['card_issued'].astype(str).str[:2].astype(int) \n",
    "card['card_issued_year'] = card['card_issued_year'] + 1900\n",
    "card['card_issued_month'] = card['card_issued'].astype(str).str[2:4].astype(int)\n",
    "card['card_issued_day'] = card['card_issued'].astype(str).str[4:6].astype(int)\n",
    "\n",
    "#change the date format\n",
    "card['card_date_issued'] = pd.to_datetime(card['card_issued']).dt.date\n",
    "\n",
<<<<<<< Updated upstream
    "card[\"card_LOR\"] = datetime.datetime(1997,1,1) - (pd.to_datetime(card.card_date_issued))\n",
=======
    "\n",
    "#Taking Subset of Card Data for the year 1997 -  target variable (card_issued)\n",
    "#card = card[card[\"card_issued_year\"] == 1997]\n",
    "\n",
    "\n",
    "card[\"card_LOR\"] = dt.datetime(1997,1,1) - (pd.to_datetime(card.card_date_issued))\n",
>>>>>>> Stashed changes
    "\n",
    "#removing negative values for LOR\n",
    "card['card_LOR'] = abs(card['card_LOR'])\n",
    "\n",
    "#creating target Variable \n",
    "card.loc[card[\"card_issued_year\"] == 1997,'card_issued_97'] = 1\n",
    "\n",
    "\n",
    "\n",
    "# Checking empty columns\n",
    "emptyrows = checkEmpty(card)\n",
    "#for column in emptyrows:\n",
    " ##   print(\"the empty rows in \" + column + \" are: \")\n",
    "#    print(card.loc[emptyrows[column], column])\n",
    "card =  fillEmpty(card, emptyrows)\n",
    "#print(card.head())"
   ]
  },
  {
   "cell_type": "code",
<<<<<<< HEAD
<<<<<<< Updated upstream
   "execution_count": 404,
   "id": "4556e76d",
=======
   "execution_count": 67,
   "id": "a322788a",
>>>>>>> Stashed changes
=======
   "execution_count": 625,
   "id": "c3db1351",
>>>>>>> 876faa638b1756e3faa5542cb4ec32a6b91f1710
   "metadata": {},
   "outputs": [
    {
     "data": {
      "text/plain": [
       "array(['classic', 'junior', 'gold'], dtype=object)"
      ]
     },
<<<<<<< HEAD
     "execution_count": 67,
=======
     "execution_count": 625,
>>>>>>> 876faa638b1756e3faa5542cb4ec32a6b91f1710
     "metadata": {},
     "output_type": "execute_result"
    }
   ],
   "source": [
    "card['card_type'].unique()"
   ]
  },
  {
   "cell_type": "markdown",
   "id": "c16c1398",
   "metadata": {},
   "source": [
    "# DISTRICT DATA"
   ]
  },
  {
   "cell_type": "code",
<<<<<<< HEAD
   "execution_count": 68,
=======
   "execution_count": 626,
>>>>>>> 876faa638b1756e3faa5542cb4ec32a6b91f1710
   "id": "2a515095",
   "metadata": {},
   "outputs": [
    {
     "name": "stdout",
     "output_type": "stream",
     "text": [
      "   A1           A2               A3       A4  A5  A6  A7  A8  A9    A10  \\\n",
      "0   1  Hl.m. Praha           Prague  1204953   0   0   0   1   1  100.0   \n",
      "1   2      Benesov  central Bohemia    88884  80  26   6   2   5   46.7   \n",
      "2   3       Beroun  central Bohemia    75232  55  26   4   1   5   41.7   \n",
      "3   4       Kladno  central Bohemia   149893  63  29   6   2   6   67.4   \n",
      "4   5        Kolin  central Bohemia    95616  65  30   4   1   6   51.4   \n",
      "\n",
      "     A11   A12   A13  A14    A15    A16  \n",
      "0  12541  0.29  0.43  167  85677  99107  \n",
      "1   8507  1.67  1.85  132   2159   2674  \n",
      "2   8980  1.95  2.21  111   2824   2813  \n",
      "3   9753  4.64  5.05  109   5244   5892  \n",
      "4   9307  3.85  4.43  118   2616   3040  \n",
      "<class 'pandas.core.frame.DataFrame'>\n",
      "RangeIndex: 77 entries, 0 to 76\n",
      "Data columns (total 16 columns):\n",
      " #   Column  Non-Null Count  Dtype  \n",
      "---  ------  --------------  -----  \n",
      " 0   A1      77 non-null     int64  \n",
      " 1   A2      77 non-null     object \n",
      " 2   A3      77 non-null     object \n",
      " 3   A4      77 non-null     int64  \n",
      " 4   A5      77 non-null     int64  \n",
      " 5   A6      77 non-null     int64  \n",
      " 6   A7      77 non-null     int64  \n",
      " 7   A8      77 non-null     int64  \n",
      " 8   A9      77 non-null     int64  \n",
      " 9   A10     77 non-null     float64\n",
      " 10  A11     77 non-null     int64  \n",
      " 11  A12     77 non-null     object \n",
      " 12  A13     77 non-null     float64\n",
      " 13  A14     77 non-null     int64  \n",
      " 14  A15     77 non-null     object \n",
      " 15  A16     77 non-null     int64  \n",
      "dtypes: float64(2), int64(10), object(4)\n",
      "memory usage: 9.8+ KB\n",
      "None\n",
      "The number of missing columns are: 0\n",
      "['0.29' '1.67' '1.95' '4.64' '3.85' '2.95' '2.26' '1.25' '3.39' '0.56'\n",
      " '0.45' '3.83' '2.77' '1.42' '3.13' '1.12' '2.38' '2.83' '2.65' '1.51'\n",
      " '1.10' '1.79' '1.39' '2.47' '2.64' '0.65' '1.62' '2.82' '3.38' '3.52'\n",
      " '2.80' '5.75' '6.43' '1.02' '3.33' '4.46' '7.08' '7.34' '6.49' '3.32'\n",
      " '2.41' '1.72' '2.79' '2.28' '1.78' '1.89' '4.83' '2.51' '2.52' '2.53'\n",
      " '1.60' '1.88' '4.69' '3.73' '3.24' '3.45' '4.76' '1.29' '3.79' '5.74'\n",
      " '3.51' '5.77' '4.09' '?' '6.63' '5.93' '3.80' '4.75' '5.38' '4.73' '4.01']\n",
      "['85677' '2159' '2824' '5244' '2616' '2640' '4289' '5179' '2987' '3810'\n",
      " '3475' '3804' '1597' '6604' '1845' '1874' '1003' '1740' '999' '1563'\n",
      " '2299' '1089' '2879' '5198' '1822' '6041' '1029' '1580' '818' '2985'\n",
      " '1328' '4340' '4650' '5323' '3384' '5796' '4147' '2653' '4947' '6949'\n",
      " '6445' '1658' '4085' '2166' '2080' '2854' '6079' '1655' '1660' '2123'\n",
      " '3496' '2564' '1850' '18721' '3659' '3729' '2212' '2595' '1879' '2112'\n",
      " '2719' '1562' '4484' '2157' '2247' '3244' '5623' '?' '9878' '4980' '9672'\n",
      " '4355' '18782' '4063' '3736' '3460']\n",
      "<class 'pandas.core.frame.DataFrame'>\n",
      "RangeIndex: 77 entries, 0 to 76\n",
      "Data columns (total 16 columns):\n",
      " #   Column  Non-Null Count  Dtype  \n",
      "---  ------  --------------  -----  \n",
      " 0   A1      77 non-null     int64  \n",
      " 1   A2      77 non-null     object \n",
      " 2   A3      77 non-null     object \n",
      " 3   A4      77 non-null     int64  \n",
      " 4   A5      77 non-null     int64  \n",
      " 5   A6      77 non-null     int64  \n",
      " 6   A7      77 non-null     int64  \n",
      " 7   A8      77 non-null     int64  \n",
      " 8   A9      77 non-null     int64  \n",
      " 9   A10     77 non-null     float64\n",
      " 10  A11     77 non-null     int64  \n",
      " 11  A12     77 non-null     float64\n",
      " 12  A13     77 non-null     float64\n",
      " 13  A14     77 non-null     int64  \n",
      " 14  A15     77 non-null     int32  \n",
      " 15  A16     77 non-null     int64  \n",
      "dtypes: float64(3), int32(1), int64(10), object(2)\n",
      "memory usage: 9.4+ KB\n",
      "None\n"
     ]
    }
   ],
   "source": [
    "# Checking data\n",
    "print(district.head())\n",
    "\n",
    "# Checking structure\n",
    "print(district.info())\n",
    "\n",
    "# Checking missing columns\n",
    "print(\"The number of missing columns are: \" +  str(district.isna().sum().sum()))\n",
    "\n",
    "#Checking values in A12, A15 column prior to converting to float\n",
    "print(district['A12'].unique())\n",
    "print(district['A15'].unique())\n",
    "\n",
    "#Replacing '?' in A12, A15 column with 0.0 to remove impact\n",
    "district.loc[district['A12'] == '?', 'A12'] = 0.0\n",
    "district.loc[district['A15'] == '?', 'A15'] = 0\n",
    "\n",
    "#Changing to column to Float, int\n",
    "district['A12'] = district['A12'].astype(float)\n",
    "district['A15'] = district['A15'].astype(int)\n",
    "\n",
    "# Checking structure\n",
    "print(district.info())\n"
   ]
  },
  {
   "cell_type": "code",
<<<<<<< HEAD
   "execution_count": 69,
=======
   "execution_count": 627,
>>>>>>> 876faa638b1756e3faa5542cb4ec32a6b91f1710
   "id": "fc9e2456",
   "metadata": {},
   "outputs": [
    {
     "name": "stdout",
     "output_type": "stream",
     "text": [
      "the empty rows in District_Code are: \n",
      "Series([], Name: District_Code, dtype: int64)\n",
      "the empty rows in District_Name are: \n",
      "Series([], Name: District_Name, dtype: object)\n",
      "the empty rows in Region are: \n",
      "Series([], Name: Region, dtype: object)\n",
      "the empty rows in n_inhabitants are: \n",
      "Series([], Name: n_inhabitants, dtype: int64)\n",
      "the empty rows in municipalities_inh_499 are: \n",
      "Series([], Name: municipalities_inh_499, dtype: int64)\n",
      "the empty rows in municipalities_500_1999 are: \n",
      "Series([], Name: municipalities_500_1999, dtype: int64)\n",
      "the empty rows in municipalities_2000_9999 are: \n",
      "Series([], Name: municipalities_2000_9999, dtype: int64)\n",
      "the empty rows in municipalities_10000 are: \n",
      "Series([], Name: municipalities_10000, dtype: int64)\n",
      "the empty rows in n_cities are: \n",
      "Series([], Name: n_cities, dtype: int64)\n",
      "the empty rows in ratio_urban_inh are: \n",
      "Series([], Name: ratio_urban_inh, dtype: float64)\n",
      "the empty rows in average_salary are: \n",
      "Series([], Name: average_salary, dtype: int64)\n",
      "the empty rows in unemploymant_rate_95 are: \n",
      "Series([], Name: unemploymant_rate_95, dtype: float64)\n",
      "the empty rows in unemploymant_rate_96 are: \n",
      "Series([], Name: unemploymant_rate_96, dtype: float64)\n",
      "the empty rows in entrepreneurs_per_1000 are: \n",
      "Series([], Name: entrepreneurs_per_1000, dtype: int64)\n",
      "the empty rows in committed_crimes_95 are: \n",
      "Series([], Name: committed_crimes_95, dtype: int32)\n",
      "the empty rows in committed_crimes_96 are: \n",
      "Series([], Name: committed_crimes_96, dtype: int64)\n",
      "   District_Code District_Name           Region  n_inhabitants  \\\n",
      "0              1   Hl.m. Praha           Prague        1204953   \n",
      "1              2       Benesov  central Bohemia          88884   \n",
      "2              3        Beroun  central Bohemia          75232   \n",
      "3              4        Kladno  central Bohemia         149893   \n",
      "4              5         Kolin  central Bohemia          95616   \n",
      "\n",
      "   municipalities_inh_499  municipalities_500_1999  municipalities_2000_9999  \\\n",
      "0                       0                        0                         0   \n",
      "1                      80                       26                         6   \n",
      "2                      55                       26                         4   \n",
      "3                      63                       29                         6   \n",
      "4                      65                       30                         4   \n",
      "\n",
      "   municipalities_10000  n_cities  ratio_urban_inh  average_salary  \\\n",
      "0                     1         1            100.0           12541   \n",
      "1                     2         5             46.7            8507   \n",
      "2                     1         5             41.7            8980   \n",
      "3                     2         6             67.4            9753   \n",
      "4                     1         6             51.4            9307   \n",
      "\n",
      "   unemploymant_rate_95  unemploymant_rate_96  entrepreneurs_per_1000  \\\n",
      "0                  0.29                  0.43                     167   \n",
      "1                  1.67                  1.85                     132   \n",
      "2                  1.95                  2.21                     111   \n",
      "3                  4.64                  5.05                     109   \n",
      "4                  3.85                  4.43                     118   \n",
      "\n",
      "   committed_crimes_95  committed_crimes_96  \n",
      "0                85677                99107  \n",
      "1                 2159                 2674  \n",
      "2                 2824                 2813  \n",
      "3                 5244                 5892  \n",
      "4                 2616                 3040  \n"
     ]
    }
   ],
   "source": [
    "#Renaming district columns\n",
    "district.rename(columns={'A1' : 'District_Code'}, inplace = True)\n",
    "district.rename(columns={'A2' : 'District_Name'}, inplace = True)\n",
    "district.rename(columns={'A3' : 'Region'}, inplace = True)\n",
    "district.rename(columns={'A4' : 'n_inhabitants'}, inplace = True)\n",
    "district.rename(columns={'A5' : 'municipalities_inh_499'}, inplace = True)\n",
    "district.rename(columns={'A6' : 'municipalities_500_1999'}, inplace = True)\n",
    "district.rename(columns={'A7' : 'municipalities_2000_9999'}, inplace = True)\n",
    "district.rename(columns={'A8' : 'municipalities_10000'}, inplace = True)\n",
    "district.rename(columns={'A9' : 'n_cities'}, inplace = True)\n",
    "district.rename(columns={'A10' : 'ratio_urban_inh'}, inplace = True)\n",
    "district.rename(columns={'A11' : 'average_salary'}, inplace = True)\n",
    "district.rename(columns={'A12' : 'unemploymant_rate_95'}, inplace = True)\n",
    "district.rename(columns={'A13' : 'unemploymant_rate_96'}, inplace = True)\n",
    "district.rename(columns={'A14' : 'entrepreneurs_per_1000'}, inplace = True)\n",
    "district.rename(columns={'A15' : 'committed_crimes_95'}, inplace = True)\n",
    "district.rename(columns={'A16' : 'committed_crimes_96'}, inplace = True)\n",
    "\n",
    "# Checking empty columns\n",
    "emptyrows = checkEmpty(district)\n",
    "for column in emptyrows:\n",
    "    print(\"the empty rows in \" + column + \" are: \")\n",
    "    print(district.loc[emptyrows[column], column])\n",
    "district =  fillEmpty(district, emptyrows)\n",
    "print(district.head())"
   ]
  },
  {
   "cell_type": "code",
<<<<<<< HEAD
   "execution_count": 70,
=======
   "execution_count": 628,
>>>>>>> 876faa638b1756e3faa5542cb4ec32a6b91f1710
   "id": "b1209a84",
   "metadata": {},
   "outputs": [],
   "source": [
    "district.loc[district['unemploymant_rate_96'] > district['unemploymant_rate_95'], 'increase_in_unemploymant_rate'] = district['unemploymant_rate_96'] - district['unemploymant_rate_95']\n",
    "district.loc[district['committed_crimes_96'] > district['committed_crimes_95'], 'increase_in_committed_crimes'] = district['committed_crimes_96'] - district['committed_crimes_95']\n",
    "district.loc[district['unemploymant_rate_96'] < district['unemploymant_rate_95'], 'decrease_in_unemploymant_rate'] = district['unemploymant_rate_95'] - district['unemploymant_rate_96']\n",
    "district.loc[district['committed_crimes_96'] < district['committed_crimes_95'], 'decrease_in_committed_crimes'] = district['committed_crimes_95'] - district['committed_crimes_96']\n",
    "district['increase_in_unemploymant_rate'] = district['increase_in_unemploymant_rate'].fillna(0)\n",
    "district['increase_in_committed_crimes'] = district['increase_in_committed_crimes'].fillna(0)\n",
    "district['decrease_in_unemploymant_rate'] = district['decrease_in_unemploymant_rate'].fillna(0)\n",
    "district['decrease_in_committed_crimes'] = district['decrease_in_committed_crimes'].fillna(0)\n",
    "\n",
    "district.loc[:,'total_municipalities'] = district['municipalities_inh_499'] + district['municipalities_500_1999'] + district['municipalities_2000_9999'] + district['municipalities_10000']\n",
    "district.loc[:, 'number_of_employed_population_96'] =  district['n_inhabitants'] - district['unemploymant_rate_96']/100 * district['n_inhabitants']\n",
    "district.loc[:, 'number_of_employed_urban_population_96'] =  district['number_of_employed_population_96'] - district['number_of_employed_population_96'] / district['ratio_urban_inh']\n",
    "district['number_of_employed_population_96'] = district['number_of_employed_population_96'].astype(int)\n",
    "district['number_of_employed_urban_population_96'] = district['number_of_employed_urban_population_96'].astype(int)\n",
    "#print(district.head())"
   ]
  },
  {
   "cell_type": "code",
<<<<<<< HEAD
<<<<<<< Updated upstream
   "execution_count": 408,
   "id": "aa3be5dd",
=======
   "execution_count": 71,
   "id": "46035d08",
>>>>>>> Stashed changes
=======
   "execution_count": 629,
   "id": "853f4930",
>>>>>>> 876faa638b1756e3faa5542cb4ec32a6b91f1710
   "metadata": {},
   "outputs": [
    {
     "data": {
      "text/html": [
       "<div>\n",
       "<style scoped>\n",
       "    .dataframe tbody tr th:only-of-type {\n",
       "        vertical-align: middle;\n",
       "    }\n",
       "\n",
       "    .dataframe tbody tr th {\n",
       "        vertical-align: top;\n",
       "    }\n",
       "\n",
       "    .dataframe thead th {\n",
       "        text-align: right;\n",
       "    }\n",
       "</style>\n",
       "<table border=\"1\" class=\"dataframe\">\n",
       "  <thead>\n",
       "    <tr style=\"text-align: right;\">\n",
       "      <th></th>\n",
       "      <th>District_Code</th>\n",
       "      <th>District_Name</th>\n",
       "      <th>Region</th>\n",
       "      <th>n_inhabitants</th>\n",
       "      <th>municipalities_inh_499</th>\n",
       "      <th>municipalities_500_1999</th>\n",
       "      <th>municipalities_2000_9999</th>\n",
       "      <th>municipalities_10000</th>\n",
       "      <th>n_cities</th>\n",
       "      <th>ratio_urban_inh</th>\n",
       "      <th>...</th>\n",
       "      <th>entrepreneurs_per_1000</th>\n",
       "      <th>committed_crimes_95</th>\n",
       "      <th>committed_crimes_96</th>\n",
       "      <th>increase_in_unemploymant_rate</th>\n",
       "      <th>increase_in_committed_crimes</th>\n",
       "      <th>decrease_in_unemploymant_rate</th>\n",
       "      <th>decrease_in_committed_crimes</th>\n",
       "      <th>total_municipalities</th>\n",
       "      <th>number_of_employed_population_96</th>\n",
       "      <th>number_of_employed_urban_population_96</th>\n",
       "    </tr>\n",
       "  </thead>\n",
       "  <tbody>\n",
       "    <tr>\n",
       "      <th>0</th>\n",
       "      <td>1</td>\n",
       "      <td>Hl.m. Praha</td>\n",
       "      <td>Prague</td>\n",
       "      <td>1204953</td>\n",
       "      <td>0</td>\n",
       "      <td>0</td>\n",
       "      <td>0</td>\n",
       "      <td>1</td>\n",
       "      <td>1</td>\n",
       "      <td>100.0</td>\n",
       "      <td>...</td>\n",
       "      <td>167</td>\n",
       "      <td>85677</td>\n",
       "      <td>99107</td>\n",
       "      <td>0.14</td>\n",
       "      <td>13430.0</td>\n",
       "      <td>0.0</td>\n",
       "      <td>0.0</td>\n",
       "      <td>1</td>\n",
       "      <td>1199771</td>\n",
       "      <td>1187773</td>\n",
       "    </tr>\n",
       "    <tr>\n",
       "      <th>1</th>\n",
       "      <td>2</td>\n",
       "      <td>Benesov</td>\n",
       "      <td>central Bohemia</td>\n",
       "      <td>88884</td>\n",
       "      <td>80</td>\n",
       "      <td>26</td>\n",
       "      <td>6</td>\n",
       "      <td>2</td>\n",
       "      <td>5</td>\n",
       "      <td>46.7</td>\n",
       "      <td>...</td>\n",
       "      <td>132</td>\n",
       "      <td>2159</td>\n",
       "      <td>2674</td>\n",
       "      <td>0.18</td>\n",
       "      <td>515.0</td>\n",
       "      <td>0.0</td>\n",
       "      <td>0.0</td>\n",
       "      <td>114</td>\n",
       "      <td>87239</td>\n",
       "      <td>85371</td>\n",
       "    </tr>\n",
       "    <tr>\n",
       "      <th>2</th>\n",
       "      <td>3</td>\n",
       "      <td>Beroun</td>\n",
       "      <td>central Bohemia</td>\n",
       "      <td>75232</td>\n",
       "      <td>55</td>\n",
       "      <td>26</td>\n",
       "      <td>4</td>\n",
       "      <td>1</td>\n",
       "      <td>5</td>\n",
       "      <td>41.7</td>\n",
       "      <td>...</td>\n",
       "      <td>111</td>\n",
       "      <td>2824</td>\n",
       "      <td>2813</td>\n",
       "      <td>0.26</td>\n",
       "      <td>0.0</td>\n",
       "      <td>0.0</td>\n",
       "      <td>11.0</td>\n",
       "      <td>86</td>\n",
       "      <td>73569</td>\n",
       "      <td>71805</td>\n",
       "    </tr>\n",
       "  </tbody>\n",
       "</table>\n",
       "<p>3 rows × 23 columns</p>\n",
       "</div>"
      ],
      "text/plain": [
       "   District_Code District_Name           Region  n_inhabitants  \\\n",
       "0              1   Hl.m. Praha           Prague        1204953   \n",
       "1              2       Benesov  central Bohemia          88884   \n",
       "2              3        Beroun  central Bohemia          75232   \n",
       "\n",
       "   municipalities_inh_499  municipalities_500_1999  municipalities_2000_9999  \\\n",
       "0                       0                        0                         0   \n",
       "1                      80                       26                         6   \n",
       "2                      55                       26                         4   \n",
       "\n",
       "   municipalities_10000  n_cities  ratio_urban_inh  ...  \\\n",
       "0                     1         1            100.0  ...   \n",
       "1                     2         5             46.7  ...   \n",
       "2                     1         5             41.7  ...   \n",
       "\n",
       "   entrepreneurs_per_1000  committed_crimes_95  committed_crimes_96  \\\n",
       "0                     167                85677                99107   \n",
       "1                     132                 2159                 2674   \n",
       "2                     111                 2824                 2813   \n",
       "\n",
       "   increase_in_unemploymant_rate  increase_in_committed_crimes  \\\n",
       "0                           0.14                       13430.0   \n",
       "1                           0.18                         515.0   \n",
       "2                           0.26                           0.0   \n",
       "\n",
       "   decrease_in_unemploymant_rate  decrease_in_committed_crimes  \\\n",
       "0                            0.0                           0.0   \n",
       "1                            0.0                           0.0   \n",
       "2                            0.0                          11.0   \n",
       "\n",
       "   total_municipalities  number_of_employed_population_96  \\\n",
       "0                     1                           1199771   \n",
       "1                   114                             87239   \n",
       "2                    86                             73569   \n",
       "\n",
       "   number_of_employed_urban_population_96  \n",
       "0                                 1187773  \n",
       "1                                   85371  \n",
       "2                                   71805  \n",
       "\n",
       "[3 rows x 23 columns]"
      ]
     },
<<<<<<< HEAD
     "execution_count": 71,
=======
     "execution_count": 629,
>>>>>>> 876faa638b1756e3faa5542cb4ec32a6b91f1710
     "metadata": {},
     "output_type": "execute_result"
    }
   ],
   "source": [
    "district.head(3)"
   ]
  },
  {
   "cell_type": "markdown",
   "id": "57de41cd",
   "metadata": {},
   "source": [
    "# DISPOSITION"
   ]
  },
  {
   "cell_type": "code",
<<<<<<< HEAD
   "execution_count": 72,
=======
   "execution_count": 630,
>>>>>>> 876faa638b1756e3faa5542cb4ec32a6b91f1710
   "id": "7e4beae6",
   "metadata": {},
   "outputs": [
    {
     "name": "stdout",
     "output_type": "stream",
     "text": [
      "The number of missing columns are: 0\n"
     ]
    }
   ],
   "source": [
    "# Checking data\n",
    "#print(disp.head())\n",
    "# Checking structure\n",
    "#print(disp.info())\n",
    "#Rename Columns\n",
    "disp = renameColumn('disp', disp)\n",
    "# Checking missing columns\n",
    "print(\"The number of missing columns are: \" +  str(disp.isna().sum().sum()))\n",
    "# Checking empty columns\n",
    "emptyrows = checkEmpty(disp)\n",
    "#for column in emptyrows:\n",
    "#    print(\"the empty rows in \" + column + \" are: \")\n",
    "#    print(disp.loc[emptyrows[column], column])\n",
    "disp =  fillEmpty(disp, emptyrows)\n",
    "#print(disp.head())"
   ]
  },
  {
   "cell_type": "code",
<<<<<<< HEAD
<<<<<<< Updated upstream
   "execution_count": 410,
   "id": "69c1b741",
=======
   "execution_count": 73,
   "id": "a09b472e",
>>>>>>> Stashed changes
=======
   "execution_count": 631,
   "id": "512287f8",
>>>>>>> 876faa638b1756e3faa5542cb4ec32a6b91f1710
   "metadata": {},
   "outputs": [
    {
     "data": {
      "text/html": [
       "<div>\n",
       "<style scoped>\n",
       "    .dataframe tbody tr th:only-of-type {\n",
       "        vertical-align: middle;\n",
       "    }\n",
       "\n",
       "    .dataframe tbody tr th {\n",
       "        vertical-align: top;\n",
       "    }\n",
       "\n",
       "    .dataframe thead th {\n",
       "        text-align: right;\n",
       "    }\n",
       "</style>\n",
       "<table border=\"1\" class=\"dataframe\">\n",
       "  <thead>\n",
       "    <tr style=\"text-align: right;\">\n",
       "      <th></th>\n",
       "      <th>disp_id</th>\n",
       "      <th>disp_client_id</th>\n",
       "      <th>disp_account_id</th>\n",
       "      <th>disp_type</th>\n",
       "    </tr>\n",
       "  </thead>\n",
       "  <tbody>\n",
       "    <tr>\n",
       "      <th>0</th>\n",
       "      <td>1</td>\n",
       "      <td>1</td>\n",
       "      <td>1</td>\n",
       "      <td>OWNER</td>\n",
       "    </tr>\n",
       "    <tr>\n",
       "      <th>1</th>\n",
       "      <td>2</td>\n",
       "      <td>2</td>\n",
       "      <td>2</td>\n",
       "      <td>OWNER</td>\n",
       "    </tr>\n",
       "    <tr>\n",
       "      <th>2</th>\n",
       "      <td>3</td>\n",
       "      <td>3</td>\n",
       "      <td>2</td>\n",
       "      <td>DISPONENT</td>\n",
       "    </tr>\n",
       "  </tbody>\n",
       "</table>\n",
       "</div>"
      ],
      "text/plain": [
       "   disp_id  disp_client_id  disp_account_id  disp_type\n",
       "0        1               1                1      OWNER\n",
       "1        2               2                2      OWNER\n",
       "2        3               3                2  DISPONENT"
      ]
     },
<<<<<<< HEAD
     "execution_count": 73,
=======
     "execution_count": 631,
>>>>>>> 876faa638b1756e3faa5542cb4ec32a6b91f1710
     "metadata": {},
     "output_type": "execute_result"
    }
   ],
   "source": [
    "disp.head(3)"
   ]
  },
  {
   "cell_type": "markdown",
   "id": "0a204b95",
   "metadata": {},
   "source": [
    "# ORDER DATA"
   ]
  },
  {
   "cell_type": "code",
<<<<<<< HEAD
   "execution_count": 74,
=======
   "execution_count": 632,
>>>>>>> 876faa638b1756e3faa5542cb4ec32a6b91f1710
   "id": "12c0d5fa",
   "metadata": {},
   "outputs": [
    {
     "name": "stdout",
     "output_type": "stream",
     "text": [
      "            count      sum\n",
      "account_id                \n",
      "1               1   2452.0\n",
      "2               2  10638.7\n",
      "3               3   5001.0\n",
      "4               2   3363.0\n",
      "5               1   2668.0\n",
      "...           ...      ...\n",
      "11328           1   4674.0\n",
      "11333           1   3286.7\n",
      "11349           2  17884.0\n",
      "11359           3   9274.3\n",
      "11362           5  10687.0\n",
      "\n",
      "[3758 rows x 2 columns]\n",
      "The number of missing columns are: 0\n"
     ]
    }
   ],
   "source": [
    "# Checking data\n",
    "#print(order.head())\n",
    "# Checking structure\n",
    "#print(order.info())\n",
    "order_freq1 = order.groupby(by=['account_id'], as_index=True)['amount'].agg([\"count\",\"sum\"])\n",
    "print(order_freq1)\n",
    "order = pd.merge(order_freq1,order, left_on = 'account_id', right_on = 'account_id', how='inner')\n",
    "order.head()\n",
    "#Rename Columns\n",
    "order = renameColumn('order', order)\n",
    "# Checking missing columns\n",
    "print(\"The number of missing columns are: \" +  str(order.isna().sum().sum()))\n",
    "# Checking empty columns\n",
    "emptyrows = checkEmpty(order)\n",
    "#for column in emptyrows:\n",
    "#    print(\"the empty rows in \" + column + \" are: \")\n",
    "#    print(order.loc[emptyrows[column], column])\n",
    "order =  fillEmpty(order, emptyrows)\n",
    "#print(order.head())"
   ]
  },
  {
   "cell_type": "code",
<<<<<<< HEAD
<<<<<<< Updated upstream
   "execution_count": 448,
   "id": "abd4af87",
=======
   "execution_count": 75,
   "id": "6f1e76b3",
>>>>>>> Stashed changes
=======
   "execution_count": 633,
   "id": "35ffdbca",
>>>>>>> 876faa638b1756e3faa5542cb4ec32a6b91f1710
   "metadata": {},
   "outputs": [],
   "source": [
    "order.rename(columns={'account_id' : 'order_account_id'}, inplace = True)"
   ]
  },
  {
   "cell_type": "code",
<<<<<<< HEAD
<<<<<<< Updated upstream
   "execution_count": 449,
   "id": "ba1e391e",
=======
   "execution_count": 76,
   "id": "9b21eb19",
>>>>>>> Stashed changes
=======
   "execution_count": 634,
   "id": "a7a8f8ca",
>>>>>>> 876faa638b1756e3faa5542cb4ec32a6b91f1710
   "metadata": {},
   "outputs": [
    {
     "data": {
      "text/html": [
       "<div>\n",
       "<style scoped>\n",
       "    .dataframe tbody tr th:only-of-type {\n",
       "        vertical-align: middle;\n",
       "    }\n",
       "\n",
       "    .dataframe tbody tr th {\n",
       "        vertical-align: top;\n",
       "    }\n",
       "\n",
       "    .dataframe thead th {\n",
       "        text-align: right;\n",
       "    }\n",
       "</style>\n",
       "<table border=\"1\" class=\"dataframe\">\n",
       "  <thead>\n",
       "    <tr style=\"text-align: right;\">\n",
       "      <th></th>\n",
       "      <th>order_account_id</th>\n",
       "      <th>order_count</th>\n",
       "      <th>order_sum</th>\n",
       "      <th>order_id</th>\n",
       "      <th>order_bank_to</th>\n",
       "      <th>order_account_to</th>\n",
       "      <th>order_amount</th>\n",
       "      <th>order_k_symbol</th>\n",
       "    </tr>\n",
       "  </thead>\n",
       "  <tbody>\n",
       "    <tr>\n",
       "      <th>0</th>\n",
       "      <td>1</td>\n",
       "      <td>1</td>\n",
       "      <td>2452.0</td>\n",
       "      <td>29401</td>\n",
       "      <td>YZ</td>\n",
       "      <td>87144583</td>\n",
       "      <td>2452.0</td>\n",
       "      <td>SIPO</td>\n",
       "    </tr>\n",
       "    <tr>\n",
       "      <th>1</th>\n",
       "      <td>2</td>\n",
       "      <td>2</td>\n",
       "      <td>10638.7</td>\n",
       "      <td>29402</td>\n",
       "      <td>ST</td>\n",
       "      <td>89597016</td>\n",
       "      <td>3372.7</td>\n",
       "      <td>UVER</td>\n",
       "    </tr>\n",
       "    <tr>\n",
       "      <th>2</th>\n",
       "      <td>2</td>\n",
       "      <td>2</td>\n",
       "      <td>10638.7</td>\n",
       "      <td>29403</td>\n",
       "      <td>QR</td>\n",
       "      <td>13943797</td>\n",
       "      <td>7266.0</td>\n",
       "      <td>SIPO</td>\n",
       "    </tr>\n",
       "  </tbody>\n",
       "</table>\n",
       "</div>"
      ],
      "text/plain": [
       "   order_account_id  order_count  order_sum  order_id order_bank_to  \\\n",
       "0                 1            1     2452.0     29401            YZ   \n",
       "1                 2            2    10638.7     29402            ST   \n",
       "2                 2            2    10638.7     29403            QR   \n",
       "\n",
       "   order_account_to  order_amount order_k_symbol  \n",
       "0          87144583        2452.0           SIPO  \n",
       "1          89597016        3372.7           UVER  \n",
       "2          13943797        7266.0           SIPO  "
      ]
     },
<<<<<<< HEAD
     "execution_count": 76,
=======
     "execution_count": 634,
>>>>>>> 876faa638b1756e3faa5542cb4ec32a6b91f1710
     "metadata": {},
     "output_type": "execute_result"
    }
   ],
   "source": [
    "order.head(3)"
   ]
  },
  {
   "cell_type": "markdown",
   "id": "73dbac5c",
   "metadata": {},
   "source": [
    "# TRANSACTION DATA"
   ]
  },
  {
   "cell_type": "code",
<<<<<<< HEAD
   "execution_count": 77,
=======
   "execution_count": 635,
>>>>>>> 876faa638b1756e3faa5542cb4ec32a6b91f1710
   "id": "35b62691",
   "metadata": {},
   "outputs": [
    {
     "name": "stdout",
     "output_type": "stream",
     "text": [
      "The number of missing columns are: 2208738\n",
      "the empty rows in trans_id are: \n",
      "0\n",
      "the empty rows in trans_account_id are: \n",
      "0\n",
      "the empty rows in trans_date are: \n",
      "0\n",
      "the empty rows in trans_type are: \n",
      "0\n",
      "the empty rows in trans_operation are: \n",
      "183114\n",
      "the empty rows in trans_amount are: \n",
      "0\n",
      "the empty rows in trans_balance are: \n",
      "0\n",
      "the empty rows in trans_k_symbol are: \n",
      "481881\n",
      "the empty rows in trans_bank are: \n",
      "782812\n",
      "the empty rows in trans_account are: \n",
      "760931\n",
      "   trans_id  trans_account_id  trans_date trans_type trans_operation  \\\n",
      "0    695247              2378      930101     PRIJEM           VKLAD   \n",
      "1    171812               576      930101     PRIJEM           VKLAD   \n",
      "2    207264               704      930101     PRIJEM           VKLAD   \n",
      "3   1117247              3818      930101     PRIJEM           VKLAD   \n",
      "4    579373              1972      930102     PRIJEM           VKLAD   \n",
      "\n",
      "   trans_amount  trans_balance trans_k_symbol trans_bank  trans_account  \n",
      "0         700.0          700.0            NaN        NaN            NaN  \n",
      "1         900.0          900.0            NaN        NaN            NaN  \n",
      "2        1000.0         1000.0            NaN        NaN            NaN  \n",
      "3         600.0          600.0            NaN        NaN            NaN  \n",
      "4         400.0          400.0            NaN        NaN            NaN  \n"
     ]
    }
   ],
   "source": [
    "# Checking data\n",
    "#print(trans.head())\n",
    "# Checking structure\n",
    "#print(trans.info())\n",
    "#Rename Columns\n",
    "trans = renameColumn('trans', trans)\n",
    "# Checking missing columns\n",
    "print(\"The number of missing columns are: \" +  str(trans.isna().sum().sum()))\n",
    "\n",
    "emptyrows = checkEmpty(trans)\n",
    "#check na per column \n",
    "for column in emptyrows:\n",
    "    print(\"the empty rows in \" + column + \" are: \")\n",
    "    print(trans[column].isna().sum())\n",
    "\n",
    "# Checking empty columns\n",
    "#for column in emptyrows:\n",
    "#    print(\"the empty rows in \" + column + \" are: \")\n",
    "#    print(trans.loc[emptyrows[column], column])\n",
    "trans =  fillEmpty(trans, emptyrows)\n",
    "print(trans.head())"
   ]
  },
  {
   "cell_type": "code",
<<<<<<< HEAD
<<<<<<< Updated upstream
   "execution_count": 414,
   "id": "9487e457",
=======
   "execution_count": 78,
   "id": "462c915c",
>>>>>>> Stashed changes
=======
   "execution_count": 636,
   "id": "40aa3459",
>>>>>>> 876faa638b1756e3faa5542cb4ec32a6b91f1710
   "metadata": {},
   "outputs": [
    {
     "data": {
      "text/html": [
       "<div>\n",
       "<style scoped>\n",
       "    .dataframe tbody tr th:only-of-type {\n",
       "        vertical-align: middle;\n",
       "    }\n",
       "\n",
       "    .dataframe tbody tr th {\n",
       "        vertical-align: top;\n",
       "    }\n",
       "\n",
       "    .dataframe thead th {\n",
       "        text-align: right;\n",
       "    }\n",
       "</style>\n",
       "<table border=\"1\" class=\"dataframe\">\n",
       "  <thead>\n",
       "    <tr style=\"text-align: right;\">\n",
       "      <th></th>\n",
       "      <th>trans_id</th>\n",
       "      <th>trans_account_id</th>\n",
       "      <th>trans_date</th>\n",
       "      <th>trans_type</th>\n",
       "      <th>trans_operation</th>\n",
       "      <th>trans_amount</th>\n",
       "      <th>trans_balance</th>\n",
       "      <th>trans_k_symbol</th>\n",
       "      <th>trans_bank</th>\n",
       "      <th>trans_account</th>\n",
       "    </tr>\n",
       "  </thead>\n",
       "  <tbody>\n",
       "    <tr>\n",
       "      <th>0</th>\n",
       "      <td>695247</td>\n",
       "      <td>2378</td>\n",
       "      <td>930101</td>\n",
       "      <td>PRIJEM</td>\n",
       "      <td>VKLAD</td>\n",
       "      <td>700.0</td>\n",
       "      <td>700.0</td>\n",
       "      <td>NaN</td>\n",
       "      <td>NaN</td>\n",
       "      <td>NaN</td>\n",
       "    </tr>\n",
       "    <tr>\n",
       "      <th>1</th>\n",
       "      <td>171812</td>\n",
       "      <td>576</td>\n",
       "      <td>930101</td>\n",
       "      <td>PRIJEM</td>\n",
       "      <td>VKLAD</td>\n",
       "      <td>900.0</td>\n",
       "      <td>900.0</td>\n",
       "      <td>NaN</td>\n",
       "      <td>NaN</td>\n",
       "      <td>NaN</td>\n",
       "    </tr>\n",
       "    <tr>\n",
       "      <th>2</th>\n",
       "      <td>207264</td>\n",
       "      <td>704</td>\n",
       "      <td>930101</td>\n",
       "      <td>PRIJEM</td>\n",
       "      <td>VKLAD</td>\n",
       "      <td>1000.0</td>\n",
       "      <td>1000.0</td>\n",
       "      <td>NaN</td>\n",
       "      <td>NaN</td>\n",
       "      <td>NaN</td>\n",
       "    </tr>\n",
       "    <tr>\n",
       "      <th>3</th>\n",
       "      <td>1117247</td>\n",
       "      <td>3818</td>\n",
       "      <td>930101</td>\n",
       "      <td>PRIJEM</td>\n",
       "      <td>VKLAD</td>\n",
       "      <td>600.0</td>\n",
       "      <td>600.0</td>\n",
       "      <td>NaN</td>\n",
       "      <td>NaN</td>\n",
       "      <td>NaN</td>\n",
       "    </tr>\n",
       "    <tr>\n",
       "      <th>4</th>\n",
       "      <td>579373</td>\n",
       "      <td>1972</td>\n",
       "      <td>930102</td>\n",
       "      <td>PRIJEM</td>\n",
       "      <td>VKLAD</td>\n",
       "      <td>400.0</td>\n",
       "      <td>400.0</td>\n",
       "      <td>NaN</td>\n",
       "      <td>NaN</td>\n",
       "      <td>NaN</td>\n",
       "    </tr>\n",
       "  </tbody>\n",
       "</table>\n",
       "</div>"
      ],
      "text/plain": [
       "   trans_id  trans_account_id  trans_date trans_type trans_operation  \\\n",
       "0    695247              2378      930101     PRIJEM           VKLAD   \n",
       "1    171812               576      930101     PRIJEM           VKLAD   \n",
       "2    207264               704      930101     PRIJEM           VKLAD   \n",
       "3   1117247              3818      930101     PRIJEM           VKLAD   \n",
       "4    579373              1972      930102     PRIJEM           VKLAD   \n",
       "\n",
       "   trans_amount  trans_balance trans_k_symbol trans_bank  trans_account  \n",
       "0         700.0          700.0            NaN        NaN            NaN  \n",
       "1         900.0          900.0            NaN        NaN            NaN  \n",
       "2        1000.0         1000.0            NaN        NaN            NaN  \n",
       "3         600.0          600.0            NaN        NaN            NaN  \n",
       "4         400.0          400.0            NaN        NaN            NaN  "
      ]
     },
<<<<<<< HEAD
     "execution_count": 78,
=======
     "execution_count": 636,
>>>>>>> 876faa638b1756e3faa5542cb4ec32a6b91f1710
     "metadata": {},
     "output_type": "execute_result"
    }
   ],
   "source": [
    "trans.head()"
   ]
  },
  {
   "cell_type": "code",
<<<<<<< HEAD
   "execution_count": 79,
=======
   "execution_count": 637,
>>>>>>> 876faa638b1756e3faa5542cb4ec32a6b91f1710
   "id": "4bee1cca",
   "metadata": {},
   "outputs": [],
   "source": [
    "#TRANSACTION MY CODE "
   ]
  },
  {
   "cell_type": "code",
<<<<<<< HEAD
   "execution_count": 80,
=======
   "execution_count": 638,
>>>>>>> 876faa638b1756e3faa5542cb4ec32a6b91f1710
   "id": "55e97a74",
   "metadata": {},
   "outputs": [],
   "source": [
    "#Rename Columns \n",
    "\n",
    "trans.rename(columns={'k_symbol' : 'trans_char'}, inplace = True)\n",
    "trans.rename(columns={'bank' : 'partner_bank'}, inplace = True)\n",
    "trans.rename(columns={'account' : 'partner_account'}, inplace = True)\n",
    "trans.rename(columns={'operation' : 'trans_mode'}, inplace = True)\n",
    "trans.rename(columns={'type' : 'trans_type'}, inplace = True)\n",
    "trans.rename(columns={'date' : 'trans_date'}, inplace = True)\n",
    "\n",
    "\n",
    "# Extract the transaction day\n",
    "trans['trans_day'] = trans['trans_date'].astype(str).str[-2:].astype(int)\n",
    "\n",
    "# Extract the transaction month\n",
    "trans['trans_month'] = trans['trans_date'].astype(str).str[2:4].astype(int)\n",
    "\n",
    "#Extract the transaction year\n",
    "trans['trans_year'] = trans['trans_date'].astype(str).str[:2].astype(int) + 1900\n",
    "\n",
    "\n",
    "#changing the trans_date format\n",
    "trans['trans_date'] = '19' + trans['trans_date'].astype(str)\n",
    "trans['trans_date'] = pd.to_datetime(trans['trans_date'], format='%Y%m%d').dt.strftime(\"%d-%m-%Y\")"
   ]
  },
  {
   "cell_type": "code",
   "execution_count": null,
   "id": "c78db901",
   "metadata": {},
   "outputs": [],
   "source": []
  },
  {
   "cell_type": "code",
<<<<<<< HEAD
   "execution_count": 81,
=======
   "execution_count": 639,
>>>>>>> 876faa638b1756e3faa5542cb4ec32a6b91f1710
   "id": "70c79450",
   "metadata": {},
   "outputs": [
    {
     "data": {
      "text/html": [
       "<div>\n",
       "<style scoped>\n",
       "    .dataframe tbody tr th:only-of-type {\n",
       "        vertical-align: middle;\n",
       "    }\n",
       "\n",
       "    .dataframe tbody tr th {\n",
       "        vertical-align: top;\n",
       "    }\n",
       "\n",
       "    .dataframe thead th {\n",
       "        text-align: right;\n",
       "    }\n",
       "</style>\n",
       "<table border=\"1\" class=\"dataframe\">\n",
       "  <thead>\n",
       "    <tr style=\"text-align: right;\">\n",
       "      <th></th>\n",
       "      <th>trans_id</th>\n",
       "      <th>trans_account_id</th>\n",
       "      <th>trans_date</th>\n",
       "      <th>trans_type</th>\n",
       "      <th>trans_operation</th>\n",
       "      <th>trans_amount</th>\n",
       "      <th>trans_balance</th>\n",
       "      <th>trans_k_symbol</th>\n",
       "      <th>trans_bank</th>\n",
       "      <th>trans_account</th>\n",
       "      <th>trans_day</th>\n",
       "      <th>trans_month</th>\n",
       "      <th>trans_year</th>\n",
       "    </tr>\n",
       "  </thead>\n",
       "  <tbody>\n",
       "    <tr>\n",
       "      <th>0</th>\n",
       "      <td>695247</td>\n",
       "      <td>2378</td>\n",
       "      <td>01-01-1993</td>\n",
       "      <td>PRIJEM</td>\n",
       "      <td>VKLAD</td>\n",
       "      <td>700.0</td>\n",
       "      <td>700.0</td>\n",
       "      <td>NaN</td>\n",
       "      <td>NaN</td>\n",
       "      <td>NaN</td>\n",
       "      <td>1</td>\n",
       "      <td>1</td>\n",
       "      <td>1993</td>\n",
       "    </tr>\n",
       "    <tr>\n",
       "      <th>1</th>\n",
       "      <td>171812</td>\n",
       "      <td>576</td>\n",
       "      <td>01-01-1993</td>\n",
       "      <td>PRIJEM</td>\n",
       "      <td>VKLAD</td>\n",
       "      <td>900.0</td>\n",
       "      <td>900.0</td>\n",
       "      <td>NaN</td>\n",
       "      <td>NaN</td>\n",
       "      <td>NaN</td>\n",
       "      <td>1</td>\n",
       "      <td>1</td>\n",
       "      <td>1993</td>\n",
       "    </tr>\n",
       "  </tbody>\n",
       "</table>\n",
       "</div>"
      ],
      "text/plain": [
       "   trans_id  trans_account_id  trans_date trans_type trans_operation  \\\n",
       "0    695247              2378  01-01-1993     PRIJEM           VKLAD   \n",
       "1    171812               576  01-01-1993     PRIJEM           VKLAD   \n",
       "\n",
       "   trans_amount  trans_balance trans_k_symbol trans_bank  trans_account  \\\n",
       "0         700.0          700.0            NaN        NaN            NaN   \n",
       "1         900.0          900.0            NaN        NaN            NaN   \n",
       "\n",
       "   trans_day  trans_month  trans_year  \n",
       "0          1            1        1993  \n",
       "1          1            1        1993  "
      ]
     },
<<<<<<< HEAD
     "execution_count": 81,
=======
     "execution_count": 639,
>>>>>>> 876faa638b1756e3faa5542cb4ec32a6b91f1710
     "metadata": {},
     "output_type": "execute_result"
    }
   ],
   "source": [
    "trans.head(2)"
   ]
  },
  {
   "cell_type": "code",
<<<<<<< HEAD
   "execution_count": 82,
=======
   "execution_count": 640,
>>>>>>> 876faa638b1756e3faa5542cb4ec32a6b91f1710
   "id": "e962a7fc",
   "metadata": {},
   "outputs": [],
   "source": [
    "trans.rename(columns={'trans_k_symbol' : 'trans_char'}, inplace = True)\n",
    "trans.rename(columns={'trans_bank' : 'partner_bank'}, inplace = True)\n",
    "trans.rename(columns={'trans_account' : 'partner_account'}, inplace = True)\n",
    "trans.rename(columns={'trans_operation' : 'trans_mode'}, inplace = True)\n",
    "trans.rename(columns={'type' : 'trans_type'}, inplace = True)\n",
    "trans.rename(columns={'date' : 'trans_date'}, inplace = True)"
   ]
  },
  {
   "cell_type": "code",
<<<<<<< HEAD
   "execution_count": 83,
=======
   "execution_count": 641,
>>>>>>> 876faa638b1756e3faa5542cb4ec32a6b91f1710
   "id": "2f2bd362",
   "metadata": {},
   "outputs": [],
   "source": [
    "trans.rename(columns={'trans_account_id' : 'account_id'}, inplace = True)"
   ]
  },
  {
   "cell_type": "code",
<<<<<<< HEAD
   "execution_count": 84,
=======
   "execution_count": 642,
>>>>>>> 876faa638b1756e3faa5542cb4ec32a6b91f1710
   "id": "e39b1b7c",
   "metadata": {},
   "outputs": [],
   "source": [
    "trans['date'] = pd.DatetimeIndex(trans['trans_date']).date"
   ]
  },
  {
   "cell_type": "code",
<<<<<<< HEAD
   "execution_count": 85,
=======
   "execution_count": 643,
>>>>>>> 876faa638b1756e3faa5542cb4ec32a6b91f1710
   "id": "c1aa3500",
   "metadata": {},
   "outputs": [
    {
     "data": {
      "text/html": [
       "<div>\n",
       "<style scoped>\n",
       "    .dataframe tbody tr th:only-of-type {\n",
       "        vertical-align: middle;\n",
       "    }\n",
       "\n",
       "    .dataframe tbody tr th {\n",
       "        vertical-align: top;\n",
       "    }\n",
       "\n",
       "    .dataframe thead th {\n",
       "        text-align: right;\n",
       "    }\n",
       "</style>\n",
       "<table border=\"1\" class=\"dataframe\">\n",
       "  <thead>\n",
       "    <tr style=\"text-align: right;\">\n",
       "      <th></th>\n",
       "      <th>trans_id</th>\n",
       "      <th>account_id</th>\n",
       "      <th>trans_date</th>\n",
       "      <th>trans_type</th>\n",
       "      <th>trans_mode</th>\n",
       "      <th>trans_amount</th>\n",
       "      <th>trans_balance</th>\n",
       "      <th>trans_char</th>\n",
       "      <th>partner_bank</th>\n",
       "      <th>partner_account</th>\n",
       "      <th>trans_day</th>\n",
       "      <th>trans_month</th>\n",
       "      <th>trans_year</th>\n",
       "      <th>date</th>\n",
       "    </tr>\n",
       "  </thead>\n",
       "  <tbody>\n",
       "    <tr>\n",
       "      <th>0</th>\n",
       "      <td>695247</td>\n",
       "      <td>2378</td>\n",
       "      <td>01-01-1993</td>\n",
       "      <td>PRIJEM</td>\n",
       "      <td>VKLAD</td>\n",
       "      <td>700.0</td>\n",
       "      <td>700.0</td>\n",
       "      <td>NaN</td>\n",
       "      <td>NaN</td>\n",
       "      <td>NaN</td>\n",
       "      <td>1</td>\n",
       "      <td>1</td>\n",
       "      <td>1993</td>\n",
       "      <td>1993-01-01</td>\n",
       "    </tr>\n",
       "    <tr>\n",
       "      <th>1</th>\n",
       "      <td>171812</td>\n",
       "      <td>576</td>\n",
       "      <td>01-01-1993</td>\n",
       "      <td>PRIJEM</td>\n",
       "      <td>VKLAD</td>\n",
       "      <td>900.0</td>\n",
       "      <td>900.0</td>\n",
       "      <td>NaN</td>\n",
       "      <td>NaN</td>\n",
       "      <td>NaN</td>\n",
       "      <td>1</td>\n",
       "      <td>1</td>\n",
       "      <td>1993</td>\n",
       "      <td>1993-01-01</td>\n",
       "    </tr>\n",
       "    <tr>\n",
       "      <th>2</th>\n",
       "      <td>207264</td>\n",
       "      <td>704</td>\n",
       "      <td>01-01-1993</td>\n",
       "      <td>PRIJEM</td>\n",
       "      <td>VKLAD</td>\n",
       "      <td>1000.0</td>\n",
       "      <td>1000.0</td>\n",
       "      <td>NaN</td>\n",
       "      <td>NaN</td>\n",
       "      <td>NaN</td>\n",
       "      <td>1</td>\n",
       "      <td>1</td>\n",
       "      <td>1993</td>\n",
       "      <td>1993-01-01</td>\n",
       "    </tr>\n",
       "  </tbody>\n",
       "</table>\n",
       "</div>"
      ],
      "text/plain": [
       "   trans_id  account_id  trans_date trans_type trans_mode  trans_amount  \\\n",
       "0    695247        2378  01-01-1993     PRIJEM      VKLAD         700.0   \n",
       "1    171812         576  01-01-1993     PRIJEM      VKLAD         900.0   \n",
       "2    207264         704  01-01-1993     PRIJEM      VKLAD        1000.0   \n",
       "\n",
       "   trans_balance trans_char partner_bank  partner_account  trans_day  \\\n",
       "0          700.0        NaN          NaN              NaN          1   \n",
       "1          900.0        NaN          NaN              NaN          1   \n",
       "2         1000.0        NaN          NaN              NaN          1   \n",
       "\n",
       "   trans_month  trans_year        date  \n",
       "0            1        1993  1993-01-01  \n",
       "1            1        1993  1993-01-01  \n",
       "2            1        1993  1993-01-01  "
      ]
     },
<<<<<<< HEAD
     "execution_count": 85,
=======
     "execution_count": 643,
>>>>>>> 876faa638b1756e3faa5542cb4ec32a6b91f1710
     "metadata": {},
     "output_type": "execute_result"
    }
   ],
   "source": [
    "trans.head(3)"
   ]
  },
  {
   "cell_type": "code",
   "execution_count": 86,
   "id": "5c0e0dec",
   "metadata": {},
   "outputs": [
    {
     "name": "stdout",
     "output_type": "stream",
     "text": [
      "<class 'pandas.core.frame.DataFrame'>\n",
      "RangeIndex: 1056320 entries, 0 to 1056319\n",
      "Data columns (total 14 columns):\n",
      " #   Column           Non-Null Count    Dtype  \n",
      "---  ------           --------------    -----  \n",
      " 0   trans_id         1056320 non-null  int64  \n",
      " 1   account_id       1056320 non-null  int64  \n",
      " 2   trans_date       1056320 non-null  object \n",
      " 3   trans_type       1056320 non-null  object \n",
      " 4   trans_mode       873206 non-null   object \n",
      " 5   trans_amount     1056320 non-null  float64\n",
      " 6   trans_balance    1056320 non-null  float64\n",
      " 7   trans_char       574439 non-null   object \n",
      " 8   partner_bank     273508 non-null   object \n",
      " 9   partner_account  295389 non-null   float64\n",
      " 10  trans_day        1056320 non-null  int32  \n",
      " 11  trans_month      1056320 non-null  int32  \n",
      " 12  trans_year       1056320 non-null  int32  \n",
      " 13  date             1056320 non-null  object \n",
      "dtypes: float64(3), int32(3), int64(2), object(6)\n",
      "memory usage: 100.7+ MB\n"
     ]
    }
   ],
   "source": [
    "trans.info()"
   ]
  },
  {
   "cell_type": "code",
<<<<<<< HEAD
   "execution_count": 87,
=======
   "execution_count": 644,
>>>>>>> 876faa638b1756e3faa5542cb4ec32a6b91f1710
   "id": "bf4aeb86",
   "metadata": {},
   "outputs": [
    {
     "name": "stdout",
     "output_type": "stream",
     "text": [
      "1998-12-31\n"
     ]
    }
   ],
   "source": [
    "# Calculating RECENCY of the transactions\n",
    "\n",
    "\n",
    "recency_df = trans.groupby(by='account_id', as_index=False)['date'].max()\n",
    "\n",
    "#naming extracted last_trans_date column\n",
    "recency_df.columns = ['account_id','last_trans_date']\n",
    "\n",
    "recent_date=recency_df.last_trans_date.max()\n",
    "\n",
    "\n",
    "print(recent_date)\n",
    "\n"
   ]
  },
  {
   "cell_type": "code",
<<<<<<< HEAD
   "execution_count": 88,
=======
   "execution_count": 645,
>>>>>>> 876faa638b1756e3faa5542cb4ec32a6b91f1710
   "id": "ed067dd1",
   "metadata": {},
   "outputs": [
    {
     "data": {
      "text/html": [
       "<div>\n",
       "<style scoped>\n",
       "    .dataframe tbody tr th:only-of-type {\n",
       "        vertical-align: middle;\n",
       "    }\n",
       "\n",
       "    .dataframe tbody tr th {\n",
       "        vertical-align: top;\n",
       "    }\n",
       "\n",
       "    .dataframe thead th {\n",
       "        text-align: right;\n",
       "    }\n",
       "</style>\n",
       "<table border=\"1\" class=\"dataframe\">\n",
       "  <thead>\n",
       "    <tr style=\"text-align: right;\">\n",
       "      <th></th>\n",
       "      <th>account_id</th>\n",
       "      <th>last_trans_date</th>\n",
       "      <th>trans_recency</th>\n",
       "    </tr>\n",
       "  </thead>\n",
       "  <tbody>\n",
       "    <tr>\n",
       "      <th>0</th>\n",
       "      <td>1</td>\n",
       "      <td>1998-12-31</td>\n",
       "      <td>0</td>\n",
       "    </tr>\n",
       "  </tbody>\n",
       "</table>\n",
       "</div>"
      ],
      "text/plain": [
       "   account_id last_trans_date  trans_recency\n",
       "0           1      1998-12-31              0"
      ]
     },
<<<<<<< HEAD
     "execution_count": 88,
=======
     "execution_count": 645,
>>>>>>> 876faa638b1756e3faa5542cb4ec32a6b91f1710
     "metadata": {},
     "output_type": "execute_result"
    }
   ],
   "source": [
    "#Calculating recency from the last date\n",
    "recency_df['trans_recency'] = recency_df['last_trans_date'].apply(lambda x: (recent_date - x).days)\n",
    "recency_df.head(1)"
   ]
  },
  {
   "cell_type": "code",
<<<<<<< HEAD
   "execution_count": 89,
=======
   "execution_count": 646,
>>>>>>> 876faa638b1756e3faa5542cb4ec32a6b91f1710
   "id": "fbca6e0c",
   "metadata": {},
   "outputs": [
    {
     "data": {
      "text/html": [
       "<div>\n",
       "<style scoped>\n",
       "    .dataframe tbody tr th:only-of-type {\n",
       "        vertical-align: middle;\n",
       "    }\n",
       "\n",
       "    .dataframe tbody tr th {\n",
       "        vertical-align: top;\n",
       "    }\n",
       "\n",
       "    .dataframe thead th {\n",
       "        text-align: right;\n",
       "    }\n",
       "</style>\n",
       "<table border=\"1\" class=\"dataframe\">\n",
       "  <thead>\n",
       "    <tr style=\"text-align: right;\">\n",
       "      <th></th>\n",
       "      <th>account_id</th>\n",
       "      <th>trans_frequency</th>\n",
       "    </tr>\n",
       "  </thead>\n",
       "  <tbody>\n",
       "    <tr>\n",
       "      <th>0</th>\n",
       "      <td>1</td>\n",
       "      <td>239</td>\n",
       "    </tr>\n",
       "  </tbody>\n",
       "</table>\n",
       "</div>"
      ],
      "text/plain": [
       "   account_id  trans_frequency\n",
       "0           1              239"
      ]
     },
<<<<<<< HEAD
     "execution_count": 89,
=======
     "execution_count": 646,
>>>>>>> 876faa638b1756e3faa5542cb4ec32a6b91f1710
     "metadata": {},
     "output_type": "execute_result"
    }
   ],
   "source": [
    "# Calculating FREQUENCY (ow often a tansaction is made) of the transaction\n",
    "\n",
    "# Frequency - How often a transaction is made\n",
    "\n",
    "freq_df = trans.groupby(by=['account_id'], as_index=False)['trans_id'].count()\n",
    "freq_df.columns = ['account_id','trans_frequency']\n",
    "freq_df.head(1)\n"
   ]
  },
  {
   "cell_type": "code",
<<<<<<< HEAD
   "execution_count": 90,
=======
   "execution_count": 647,
>>>>>>> 876faa638b1756e3faa5542cb4ec32a6b91f1710
   "id": "98bc773a",
   "metadata": {},
   "outputs": [
    {
     "data": {
      "text/html": [
       "<div>\n",
       "<style scoped>\n",
       "    .dataframe tbody tr th:only-of-type {\n",
       "        vertical-align: middle;\n",
       "    }\n",
       "\n",
       "    .dataframe tbody tr th {\n",
       "        vertical-align: top;\n",
       "    }\n",
       "\n",
       "    .dataframe thead th {\n",
       "        text-align: right;\n",
       "    }\n",
       "</style>\n",
       "<table border=\"1\" class=\"dataframe\">\n",
       "  <thead>\n",
       "    <tr style=\"text-align: right;\">\n",
       "      <th></th>\n",
       "      <th>account_id</th>\n",
       "      <th>monetary</th>\n",
       "    </tr>\n",
       "  </thead>\n",
       "  <tbody>\n",
       "    <tr>\n",
       "      <th>0</th>\n",
       "      <td>1</td>\n",
       "      <td>375174.5</td>\n",
       "    </tr>\n",
       "  </tbody>\n",
       "</table>\n",
       "</div>"
      ],
      "text/plain": [
       "   account_id  monetary\n",
       "0           1  375174.5"
      ]
     },
<<<<<<< HEAD
     "execution_count": 90,
=======
     "execution_count": 647,
>>>>>>> 876faa638b1756e3faa5542cb4ec32a6b91f1710
     "metadata": {},
     "output_type": "execute_result"
    }
   ],
   "source": [
    "# calculating MONETARY of the accounts \n",
    "\n",
    "monetary_df = trans.groupby(by='account_id',as_index=False).agg({'trans_amount': 'sum'})\n",
    "monetary_df.columns = ['account_id','monetary']\n",
    "monetary_df.head(1)"
   ]
  },
  {
   "cell_type": "code",
<<<<<<< HEAD
   "execution_count": 91,
=======
   "execution_count": 648,
>>>>>>> 876faa638b1756e3faa5542cb4ec32a6b91f1710
   "id": "9fd8a97b",
   "metadata": {},
   "outputs": [
    {
     "data": {
      "text/html": [
       "<div>\n",
       "<style scoped>\n",
       "    .dataframe tbody tr th:only-of-type {\n",
       "        vertical-align: middle;\n",
       "    }\n",
       "\n",
       "    .dataframe tbody tr th {\n",
       "        vertical-align: top;\n",
       "    }\n",
       "\n",
       "    .dataframe thead th {\n",
       "        text-align: right;\n",
       "    }\n",
       "</style>\n",
       "<table border=\"1\" class=\"dataframe\">\n",
       "  <thead>\n",
       "    <tr style=\"text-align: right;\">\n",
       "      <th></th>\n",
       "      <th>account_id</th>\n",
       "      <th>last_trans_date</th>\n",
       "      <th>trans_recency</th>\n",
       "      <th>trans_frequency</th>\n",
       "      <th>monetary</th>\n",
       "    </tr>\n",
       "  </thead>\n",
       "  <tbody>\n",
       "    <tr>\n",
       "      <th>0</th>\n",
       "      <td>1</td>\n",
       "      <td>1998-12-31</td>\n",
       "      <td>0</td>\n",
       "      <td>239</td>\n",
       "      <td>375174.5</td>\n",
       "    </tr>\n",
       "  </tbody>\n",
       "</table>\n",
       "</div>"
      ],
      "text/plain": [
       "   account_id last_trans_date  trans_recency  trans_frequency  monetary\n",
       "0           1      1998-12-31              0              239  375174.5"
      ]
     },
<<<<<<< HEAD
     "execution_count": 91,
=======
     "execution_count": 648,
>>>>>>> 876faa638b1756e3faa5542cb4ec32a6b91f1710
     "metadata": {},
     "output_type": "execute_result"
    }
   ],
   "source": [
    "# RFM Table\n",
    "# Merge recency dataframe with frequency dataframe\n",
    "temp_df = recency_df.merge(freq_df,on='account_id')\n",
    "\n",
    "# Merge monetary_df to temp_df \n",
    "rfm_df = temp_df.merge(monetary_df,on='account_id')\n",
    "rfm_df.head(1)"
   ]
  },
  {
   "cell_type": "code",
<<<<<<< HEAD
   "execution_count": 92,
=======
   "execution_count": 649,
>>>>>>> 876faa638b1756e3faa5542cb4ec32a6b91f1710
   "id": "3a4ab0fa",
   "metadata": {},
   "outputs": [
    {
     "data": {
      "text/html": [
       "<div>\n",
       "<style scoped>\n",
       "    .dataframe tbody tr th:only-of-type {\n",
       "        vertical-align: middle;\n",
       "    }\n",
       "\n",
       "    .dataframe tbody tr th {\n",
       "        vertical-align: top;\n",
       "    }\n",
       "\n",
       "    .dataframe thead th {\n",
       "        text-align: right;\n",
       "    }\n",
       "</style>\n",
       "<table border=\"1\" class=\"dataframe\">\n",
       "  <thead>\n",
       "    <tr style=\"text-align: right;\">\n",
       "      <th></th>\n",
       "      <th>account_id</th>\n",
       "      <th>last_trans_date</th>\n",
       "      <th>trans_recency</th>\n",
       "      <th>trans_frequency</th>\n",
       "      <th>monetary</th>\n",
       "      <th>r_rank</th>\n",
       "      <th>f_rank</th>\n",
       "      <th>m_rank</th>\n",
       "      <th>r_rank_norm</th>\n",
       "      <th>f_rank_norm</th>\n",
       "      <th>m_rank_norm</th>\n",
       "      <th>rfm_Score</th>\n",
       "    </tr>\n",
       "  </thead>\n",
       "  <tbody>\n",
       "    <tr>\n",
       "      <th>0</th>\n",
       "      <td>1</td>\n",
       "      <td>1998-12-31</td>\n",
       "      <td>0</td>\n",
       "      <td>239</td>\n",
       "      <td>375174.0</td>\n",
       "      <td>2342.0</td>\n",
       "      <td>2574.0</td>\n",
       "      <td>946.0</td>\n",
       "      <td>100.0</td>\n",
       "      <td>57.0</td>\n",
       "      <td>21.0</td>\n",
       "      <td>43.0</td>\n",
       "    </tr>\n",
       "    <tr>\n",
       "      <th>1</th>\n",
       "      <td>2</td>\n",
       "      <td>1998-12-31</td>\n",
       "      <td>0</td>\n",
       "      <td>478</td>\n",
       "      <td>3151479.0</td>\n",
       "      <td>2342.0</td>\n",
       "      <td>4335.0</td>\n",
       "      <td>4020.0</td>\n",
       "      <td>100.0</td>\n",
       "      <td>96.0</td>\n",
       "      <td>89.0</td>\n",
       "      <td>93.0</td>\n",
       "    </tr>\n",
       "  </tbody>\n",
       "</table>\n",
       "</div>"
      ],
      "text/plain": [
       "   account_id last_trans_date  trans_recency  trans_frequency   monetary  \\\n",
       "0           1      1998-12-31              0              239   375174.0   \n",
       "1           2      1998-12-31              0              478  3151479.0   \n",
       "\n",
       "   r_rank  f_rank  m_rank  r_rank_norm  f_rank_norm  m_rank_norm  rfm_Score  \n",
       "0  2342.0  2574.0   946.0        100.0         57.0         21.0       43.0  \n",
       "1  2342.0  4335.0  4020.0        100.0         96.0         89.0       93.0  "
      ]
     },
<<<<<<< HEAD
     "execution_count": 92,
=======
     "execution_count": 649,
>>>>>>> 876faa638b1756e3faa5542cb4ec32a6b91f1710
     "metadata": {},
     "output_type": "execute_result"
    }
   ],
   "source": [
    "# RFM SCORE - ranking r,f,m  and normalize the values to calculate  the rfm score \n",
    "\n",
    "\n",
    "# Rank each metric Recency , Frequency & Monetary\n",
    "rfm_df['r_rank'] = rfm_df['trans_recency'].rank( ascending=False)\n",
    "rfm_df['f_rank'] = rfm_df['trans_frequency'].rank(ascending=True)\n",
    "rfm_df['m_rank'] = rfm_df['monetary'].rank(ascending=True)\n",
    "\n",
    "\n",
    "# normalize each rank with Max rank\n",
    "rfm_df['r_rank_norm']=(rfm_df['r_rank']/rfm_df['r_rank'].max())*100\n",
    "rfm_df['f_rank_norm']=(rfm_df['f_rank']/rfm_df['f_rank'].max())*100\n",
    "rfm_df['m_rank_norm']=(rfm_df['m_rank']/rfm_df['m_rank'].max())*100\n",
    "\n",
    "\n",
    "# RFM_Score = 0.15*R_rank_norm + 0.28*F_rank_norm + 0.57M_rank_norm**\n",
    "rfm_df['rfm_Score']=0.15*rfm_df['r_rank_norm']+0.28*rfm_df['f_rank_norm']+0.57*rfm_df['m_rank_norm']\n",
    "rfm_df=rfm_df.round(0)\n",
    "rfm_df.head(2)"
   ]
  },
  {
   "cell_type": "code",
<<<<<<< HEAD
   "execution_count": 93,
=======
   "execution_count": 650,
>>>>>>> 876faa638b1756e3faa5542cb4ec32a6b91f1710
   "id": "aa38d6e0",
   "metadata": {},
   "outputs": [],
   "source": [
    "#dropping varibales used to calculate rfm_score\n",
    "rfm_df = rfm_df.drop(columns =['r_rank', 'f_rank','m_rank','r_rank_norm','f_rank_norm','m_rank_norm'])"
   ]
  },
  {
   "cell_type": "code",
<<<<<<< HEAD
   "execution_count": 94,
=======
   "execution_count": 651,
>>>>>>> 876faa638b1756e3faa5542cb4ec32a6b91f1710
   "id": "0d8543db",
   "metadata": {},
   "outputs": [],
   "source": [
    "# # Segment Accounts based on RFM score\n",
    "# 0 - 30 - Low Value\n",
    "# 30 - 70 - Gold\n",
    "# 70 - 100 - Platinum\n",
    "\n",
    "rfm_df[\"account_segment\"]=np.where(rfm_df['rfm_Score'] > 70 ,\"Platinum\",\n",
    "                                   (np.where(rfm_df['rfm_Score'] < 30 , \"Low value\" ,\"Gold\")))\n"
   ]
  },
  {
   "cell_type": "code",
<<<<<<< HEAD
   "execution_count": 95,
=======
   "execution_count": 652,
>>>>>>> 876faa638b1756e3faa5542cb4ec32a6b91f1710
   "id": "0a479a26",
   "metadata": {},
   "outputs": [
    {
     "data": {
      "text/html": [
       "<div>\n",
       "<style scoped>\n",
       "    .dataframe tbody tr th:only-of-type {\n",
       "        vertical-align: middle;\n",
       "    }\n",
       "\n",
       "    .dataframe tbody tr th {\n",
       "        vertical-align: top;\n",
       "    }\n",
       "\n",
       "    .dataframe thead th {\n",
       "        text-align: right;\n",
       "    }\n",
       "</style>\n",
       "<table border=\"1\" class=\"dataframe\">\n",
       "  <thead>\n",
       "    <tr style=\"text-align: right;\">\n",
       "      <th></th>\n",
       "      <th>account_id</th>\n",
       "      <th>last_trans_date</th>\n",
       "      <th>trans_recency</th>\n",
       "      <th>trans_frequency</th>\n",
       "      <th>monetary</th>\n",
       "      <th>rfm_Score</th>\n",
       "      <th>account_segment</th>\n",
       "    </tr>\n",
       "  </thead>\n",
       "  <tbody>\n",
       "    <tr>\n",
       "      <th>0</th>\n",
       "      <td>1</td>\n",
       "      <td>1998-12-31</td>\n",
       "      <td>0</td>\n",
       "      <td>239</td>\n",
       "      <td>375174.0</td>\n",
       "      <td>43.0</td>\n",
       "      <td>Gold</td>\n",
       "    </tr>\n",
       "    <tr>\n",
       "      <th>1</th>\n",
       "      <td>2</td>\n",
       "      <td>1998-12-31</td>\n",
       "      <td>0</td>\n",
       "      <td>478</td>\n",
       "      <td>3151479.0</td>\n",
       "      <td>93.0</td>\n",
       "      <td>Platinum</td>\n",
       "    </tr>\n",
       "  </tbody>\n",
       "</table>\n",
       "</div>"
      ],
      "text/plain": [
       "   account_id last_trans_date  trans_recency  trans_frequency   monetary  \\\n",
       "0           1      1998-12-31              0              239   375174.0   \n",
       "1           2      1998-12-31              0              478  3151479.0   \n",
       "\n",
       "   rfm_Score account_segment  \n",
       "0       43.0            Gold  \n",
       "1       93.0        Platinum  "
      ]
     },
<<<<<<< HEAD
     "execution_count": 95,
=======
     "execution_count": 652,
>>>>>>> 876faa638b1756e3faa5542cb4ec32a6b91f1710
     "metadata": {},
     "output_type": "execute_result"
    }
   ],
   "source": [
    "rfm_df.head(2)"
   ]
  },
  {
   "cell_type": "code",
<<<<<<< HEAD
   "execution_count": 96,
=======
   "execution_count": 653,
>>>>>>> 876faa638b1756e3faa5542cb4ec32a6b91f1710
   "id": "c7ec243b",
   "metadata": {},
   "outputs": [
    {
     "data": {
      "text/html": [
       "<div>\n",
       "<style scoped>\n",
       "    .dataframe tbody tr th:only-of-type {\n",
       "        vertical-align: middle;\n",
       "    }\n",
       "\n",
       "    .dataframe tbody tr th {\n",
       "        vertical-align: top;\n",
       "    }\n",
       "\n",
       "    .dataframe thead th {\n",
       "        text-align: right;\n",
       "    }\n",
       "</style>\n",
       "<table border=\"1\" class=\"dataframe\">\n",
       "  <thead>\n",
       "    <tr style=\"text-align: right;\">\n",
       "      <th></th>\n",
       "      <th>trans_id</th>\n",
       "      <th>account_id</th>\n",
       "      <th>trans_date</th>\n",
       "      <th>trans_type</th>\n",
       "      <th>trans_mode</th>\n",
       "      <th>trans_amount</th>\n",
       "      <th>trans_balance</th>\n",
       "      <th>trans_char</th>\n",
       "      <th>partner_bank</th>\n",
       "      <th>partner_account</th>\n",
       "      <th>trans_day</th>\n",
       "      <th>trans_month</th>\n",
       "      <th>trans_year</th>\n",
       "      <th>date</th>\n",
       "    </tr>\n",
       "  </thead>\n",
       "  <tbody>\n",
       "    <tr>\n",
       "      <th>0</th>\n",
       "      <td>695247</td>\n",
       "      <td>2378</td>\n",
       "      <td>01-01-1993</td>\n",
       "      <td>PRIJEM</td>\n",
       "      <td>VKLAD</td>\n",
       "      <td>700.0</td>\n",
       "      <td>700.0</td>\n",
       "      <td>NaN</td>\n",
       "      <td>NaN</td>\n",
       "      <td>NaN</td>\n",
       "      <td>1</td>\n",
       "      <td>1</td>\n",
       "      <td>1993</td>\n",
       "      <td>1993-01-01</td>\n",
       "    </tr>\n",
       "    <tr>\n",
       "      <th>1</th>\n",
       "      <td>171812</td>\n",
       "      <td>576</td>\n",
       "      <td>01-01-1993</td>\n",
       "      <td>PRIJEM</td>\n",
       "      <td>VKLAD</td>\n",
       "      <td>900.0</td>\n",
       "      <td>900.0</td>\n",
       "      <td>NaN</td>\n",
       "      <td>NaN</td>\n",
       "      <td>NaN</td>\n",
       "      <td>1</td>\n",
       "      <td>1</td>\n",
       "      <td>1993</td>\n",
       "      <td>1993-01-01</td>\n",
       "    </tr>\n",
       "    <tr>\n",
       "      <th>2</th>\n",
       "      <td>207264</td>\n",
       "      <td>704</td>\n",
       "      <td>01-01-1993</td>\n",
       "      <td>PRIJEM</td>\n",
       "      <td>VKLAD</td>\n",
       "      <td>1000.0</td>\n",
       "      <td>1000.0</td>\n",
       "      <td>NaN</td>\n",
       "      <td>NaN</td>\n",
       "      <td>NaN</td>\n",
       "      <td>1</td>\n",
       "      <td>1</td>\n",
       "      <td>1993</td>\n",
       "      <td>1993-01-01</td>\n",
       "    </tr>\n",
       "    <tr>\n",
       "      <th>3</th>\n",
       "      <td>1117247</td>\n",
       "      <td>3818</td>\n",
       "      <td>01-01-1993</td>\n",
       "      <td>PRIJEM</td>\n",
       "      <td>VKLAD</td>\n",
       "      <td>600.0</td>\n",
       "      <td>600.0</td>\n",
       "      <td>NaN</td>\n",
       "      <td>NaN</td>\n",
       "      <td>NaN</td>\n",
       "      <td>1</td>\n",
       "      <td>1</td>\n",
       "      <td>1993</td>\n",
       "      <td>1993-01-01</td>\n",
       "    </tr>\n",
       "    <tr>\n",
       "      <th>4</th>\n",
       "      <td>579373</td>\n",
       "      <td>1972</td>\n",
       "      <td>02-01-1993</td>\n",
       "      <td>PRIJEM</td>\n",
       "      <td>VKLAD</td>\n",
       "      <td>400.0</td>\n",
       "      <td>400.0</td>\n",
       "      <td>NaN</td>\n",
       "      <td>NaN</td>\n",
       "      <td>NaN</td>\n",
       "      <td>2</td>\n",
       "      <td>1</td>\n",
       "      <td>1993</td>\n",
       "      <td>1993-02-01</td>\n",
       "    </tr>\n",
       "    <tr>\n",
       "      <th>...</th>\n",
       "      <td>...</td>\n",
       "      <td>...</td>\n",
       "      <td>...</td>\n",
       "      <td>...</td>\n",
       "      <td>...</td>\n",
       "      <td>...</td>\n",
       "      <td>...</td>\n",
       "      <td>...</td>\n",
       "      <td>...</td>\n",
       "      <td>...</td>\n",
       "      <td>...</td>\n",
       "      <td>...</td>\n",
       "      <td>...</td>\n",
       "      <td>...</td>\n",
       "    </tr>\n",
       "    <tr>\n",
       "      <th>1056315</th>\n",
       "      <td>3626622</td>\n",
       "      <td>2906</td>\n",
       "      <td>31-12-1998</td>\n",
       "      <td>PRIJEM</td>\n",
       "      <td>NaN</td>\n",
       "      <td>62.3</td>\n",
       "      <td>13729.4</td>\n",
       "      <td>UROK</td>\n",
       "      <td>NaN</td>\n",
       "      <td>NaN</td>\n",
       "      <td>31</td>\n",
       "      <td>12</td>\n",
       "      <td>1998</td>\n",
       "      <td>1998-12-31</td>\n",
       "    </tr>\n",
       "    <tr>\n",
       "      <th>1056316</th>\n",
       "      <td>3627616</td>\n",
       "      <td>2935</td>\n",
       "      <td>31-12-1998</td>\n",
       "      <td>PRIJEM</td>\n",
       "      <td>NaN</td>\n",
       "      <td>81.3</td>\n",
       "      <td>19544.9</td>\n",
       "      <td>UROK</td>\n",
       "      <td>NaN</td>\n",
       "      <td>NaN</td>\n",
       "      <td>31</td>\n",
       "      <td>12</td>\n",
       "      <td>1998</td>\n",
       "      <td>1998-12-31</td>\n",
       "    </tr>\n",
       "    <tr>\n",
       "      <th>1056317</th>\n",
       "      <td>3625403</td>\n",
       "      <td>2869</td>\n",
       "      <td>31-12-1998</td>\n",
       "      <td>PRIJEM</td>\n",
       "      <td>NaN</td>\n",
       "      <td>60.2</td>\n",
       "      <td>14638.2</td>\n",
       "      <td>UROK</td>\n",
       "      <td>NaN</td>\n",
       "      <td>NaN</td>\n",
       "      <td>31</td>\n",
       "      <td>12</td>\n",
       "      <td>1998</td>\n",
       "      <td>1998-12-31</td>\n",
       "    </tr>\n",
       "    <tr>\n",
       "      <th>1056318</th>\n",
       "      <td>3626683</td>\n",
       "      <td>2907</td>\n",
       "      <td>31-12-1998</td>\n",
       "      <td>PRIJEM</td>\n",
       "      <td>NaN</td>\n",
       "      <td>107.5</td>\n",
       "      <td>23453.0</td>\n",
       "      <td>UROK</td>\n",
       "      <td>NaN</td>\n",
       "      <td>NaN</td>\n",
       "      <td>31</td>\n",
       "      <td>12</td>\n",
       "      <td>1998</td>\n",
       "      <td>1998-12-31</td>\n",
       "    </tr>\n",
       "    <tr>\n",
       "      <th>1056319</th>\n",
       "      <td>3626540</td>\n",
       "      <td>2902</td>\n",
       "      <td>31-12-1998</td>\n",
       "      <td>PRIJEM</td>\n",
       "      <td>NaN</td>\n",
       "      <td>164.1</td>\n",
       "      <td>41642.9</td>\n",
       "      <td>UROK</td>\n",
       "      <td>NaN</td>\n",
       "      <td>NaN</td>\n",
       "      <td>31</td>\n",
       "      <td>12</td>\n",
       "      <td>1998</td>\n",
       "      <td>1998-12-31</td>\n",
       "    </tr>\n",
       "  </tbody>\n",
       "</table>\n",
       "<p>1056320 rows × 14 columns</p>\n",
       "</div>"
      ],
      "text/plain": [
       "         trans_id  account_id  trans_date trans_type trans_mode  trans_amount  \\\n",
       "0          695247        2378  01-01-1993     PRIJEM      VKLAD         700.0   \n",
       "1          171812         576  01-01-1993     PRIJEM      VKLAD         900.0   \n",
       "2          207264         704  01-01-1993     PRIJEM      VKLAD        1000.0   \n",
       "3         1117247        3818  01-01-1993     PRIJEM      VKLAD         600.0   \n",
       "4          579373        1972  02-01-1993     PRIJEM      VKLAD         400.0   \n",
       "...           ...         ...         ...        ...        ...           ...   \n",
       "1056315   3626622        2906  31-12-1998     PRIJEM        NaN          62.3   \n",
       "1056316   3627616        2935  31-12-1998     PRIJEM        NaN          81.3   \n",
       "1056317   3625403        2869  31-12-1998     PRIJEM        NaN          60.2   \n",
       "1056318   3626683        2907  31-12-1998     PRIJEM        NaN         107.5   \n",
       "1056319   3626540        2902  31-12-1998     PRIJEM        NaN         164.1   \n",
       "\n",
       "         trans_balance trans_char partner_bank  partner_account  trans_day  \\\n",
       "0                700.0        NaN          NaN              NaN          1   \n",
       "1                900.0        NaN          NaN              NaN          1   \n",
       "2               1000.0        NaN          NaN              NaN          1   \n",
       "3                600.0        NaN          NaN              NaN          1   \n",
       "4                400.0        NaN          NaN              NaN          2   \n",
       "...                ...        ...          ...              ...        ...   \n",
       "1056315        13729.4       UROK          NaN              NaN         31   \n",
       "1056316        19544.9       UROK          NaN              NaN         31   \n",
       "1056317        14638.2       UROK          NaN              NaN         31   \n",
       "1056318        23453.0       UROK          NaN              NaN         31   \n",
       "1056319        41642.9       UROK          NaN              NaN         31   \n",
       "\n",
       "         trans_month  trans_year        date  \n",
       "0                  1        1993  1993-01-01  \n",
       "1                  1        1993  1993-01-01  \n",
       "2                  1        1993  1993-01-01  \n",
       "3                  1        1993  1993-01-01  \n",
       "4                  1        1993  1993-02-01  \n",
       "...              ...         ...         ...  \n",
       "1056315           12        1998  1998-12-31  \n",
       "1056316           12        1998  1998-12-31  \n",
       "1056317           12        1998  1998-12-31  \n",
       "1056318           12        1998  1998-12-31  \n",
       "1056319           12        1998  1998-12-31  \n",
       "\n",
       "[1056320 rows x 14 columns]"
      ]
     },
<<<<<<< HEAD
     "execution_count": 96,
=======
     "execution_count": 653,
>>>>>>> 876faa638b1756e3faa5542cb4ec32a6b91f1710
     "metadata": {},
     "output_type": "execute_result"
    }
   ],
   "source": [
    "trans"
   ]
  },
  {
   "cell_type": "code",
<<<<<<< HEAD
   "execution_count": 97,
=======
   "execution_count": 654,
>>>>>>> 876faa638b1756e3faa5542cb4ec32a6b91f1710
   "id": "cfe9a3b7",
   "metadata": {},
   "outputs": [],
   "source": [
    "#renaming the trans_type and trans_mode values \n",
    "\n",
    "trans['trans_type'] = trans['trans_type'].replace(['PRIJEM', 'VYDAJ'], ['Credit', 'Withdrawal'])\n",
    "\n",
    "trans['trans_mode'] = trans['trans_mode'].replace(['VYBER KARTOU', 'VKLAD','PREVOD Z UCTU','VYBER','PREVOD NA UCET'], \n",
    "                                                  ['card_withdrawal', 'credit_cash','credit_otherbank','cash_withdrawal','transfer_otherbank'])\n"
   ]
  },
  {
   "cell_type": "code",
<<<<<<< HEAD
   "execution_count": 98,
=======
   "execution_count": 655,
>>>>>>> 876faa638b1756e3faa5542cb4ec32a6b91f1710
   "id": "9473409b",
   "metadata": {},
   "outputs": [],
   "source": [
    "#Merging rfm_df to the trans96 \n",
    "trans =  pd.merge(trans,rfm_df,'left',on = 'account_id')"
   ]
  },
  {
   "cell_type": "code",
<<<<<<< HEAD
   "execution_count": 99,
=======
   "execution_count": 656,
>>>>>>> 876faa638b1756e3faa5542cb4ec32a6b91f1710
   "id": "b6eab487",
   "metadata": {},
   "outputs": [
    {
     "data": {
      "text/html": [
       "<div>\n",
       "<style scoped>\n",
       "    .dataframe tbody tr th:only-of-type {\n",
       "        vertical-align: middle;\n",
       "    }\n",
       "\n",
       "    .dataframe tbody tr th {\n",
       "        vertical-align: top;\n",
       "    }\n",
       "\n",
       "    .dataframe thead th {\n",
       "        text-align: right;\n",
       "    }\n",
       "</style>\n",
       "<table border=\"1\" class=\"dataframe\">\n",
       "  <thead>\n",
       "    <tr style=\"text-align: right;\">\n",
       "      <th></th>\n",
       "      <th>trans_id</th>\n",
       "      <th>account_id</th>\n",
       "      <th>trans_date</th>\n",
       "      <th>trans_type</th>\n",
       "      <th>trans_mode</th>\n",
       "      <th>trans_amount</th>\n",
       "      <th>trans_balance</th>\n",
       "      <th>trans_char</th>\n",
       "      <th>partner_bank</th>\n",
       "      <th>partner_account</th>\n",
       "      <th>trans_day</th>\n",
       "      <th>trans_month</th>\n",
       "      <th>trans_year</th>\n",
       "      <th>date</th>\n",
       "      <th>last_trans_date</th>\n",
       "      <th>trans_recency</th>\n",
       "      <th>trans_frequency</th>\n",
       "      <th>monetary</th>\n",
       "      <th>rfm_Score</th>\n",
       "      <th>account_segment</th>\n",
       "    </tr>\n",
       "  </thead>\n",
       "  <tbody>\n",
       "    <tr>\n",
       "      <th>0</th>\n",
       "      <td>695247</td>\n",
       "      <td>2378</td>\n",
       "      <td>01-01-1993</td>\n",
       "      <td>Credit</td>\n",
       "      <td>credit_cash</td>\n",
       "      <td>700.0</td>\n",
       "      <td>700.0</td>\n",
       "      <td>NaN</td>\n",
       "      <td>NaN</td>\n",
       "      <td>NaN</td>\n",
       "      <td>1</td>\n",
       "      <td>1</td>\n",
       "      <td>1993</td>\n",
       "      <td>1993-01-01</td>\n",
       "      <td>1998-12-31</td>\n",
       "      <td>0</td>\n",
       "      <td>435</td>\n",
       "      <td>5315970.0</td>\n",
       "      <td>97.0</td>\n",
       "      <td>Platinum</td>\n",
       "    </tr>\n",
       "    <tr>\n",
       "      <th>1</th>\n",
       "      <td>171812</td>\n",
       "      <td>576</td>\n",
       "      <td>01-01-1993</td>\n",
       "      <td>Credit</td>\n",
       "      <td>credit_cash</td>\n",
       "      <td>900.0</td>\n",
       "      <td>900.0</td>\n",
       "      <td>NaN</td>\n",
       "      <td>NaN</td>\n",
       "      <td>NaN</td>\n",
       "      <td>1</td>\n",
       "      <td>1</td>\n",
       "      <td>1993</td>\n",
       "      <td>1993-01-01</td>\n",
       "      <td>1998-12-31</td>\n",
       "      <td>0</td>\n",
       "      <td>358</td>\n",
       "      <td>875619.0</td>\n",
       "      <td>66.0</td>\n",
       "      <td>Gold</td>\n",
       "    </tr>\n",
       "  </tbody>\n",
       "</table>\n",
       "</div>"
      ],
      "text/plain": [
       "   trans_id  account_id  trans_date trans_type   trans_mode  trans_amount  \\\n",
       "0    695247        2378  01-01-1993     Credit  credit_cash         700.0   \n",
       "1    171812         576  01-01-1993     Credit  credit_cash         900.0   \n",
       "\n",
       "   trans_balance trans_char partner_bank  partner_account  trans_day  \\\n",
       "0          700.0        NaN          NaN              NaN          1   \n",
       "1          900.0        NaN          NaN              NaN          1   \n",
       "\n",
       "   trans_month  trans_year        date last_trans_date  trans_recency  \\\n",
       "0            1        1993  1993-01-01      1998-12-31              0   \n",
       "1            1        1993  1993-01-01      1998-12-31              0   \n",
       "\n",
       "   trans_frequency   monetary  rfm_Score account_segment  \n",
       "0              435  5315970.0       97.0        Platinum  \n",
       "1              358   875619.0       66.0            Gold  "
      ]
     },
<<<<<<< HEAD
     "execution_count": 99,
=======
     "execution_count": 656,
>>>>>>> 876faa638b1756e3faa5542cb4ec32a6b91f1710
     "metadata": {},
     "output_type": "execute_result"
    }
   ],
   "source": [
    "trans.head(2)"
   ]
  },
  {
   "cell_type": "code",
<<<<<<< HEAD
   "execution_count": 114,
=======
   "execution_count": 657,
>>>>>>> 876faa638b1756e3faa5542cb4ec32a6b91f1710
   "id": "8a638bbc",
   "metadata": {},
   "outputs": [
    {
<<<<<<< HEAD
     "ename": "KeyError",
     "evalue": "'trans_operation'",
     "output_type": "error",
     "traceback": [
      "\u001b[1;31m---------------------------------------------------------------------------\u001b[0m",
      "\u001b[1;31mKeyError\u001b[0m                                  Traceback (most recent call last)",
      "\u001b[1;32mC:\\tools\\Anaconda3\\lib\\site-packages\\pandas\\core\\indexes\\base.py\u001b[0m in \u001b[0;36mget_loc\u001b[1;34m(self, key, method, tolerance)\u001b[0m\n\u001b[0;32m   3079\u001b[0m             \u001b[1;32mtry\u001b[0m\u001b[1;33m:\u001b[0m\u001b[1;33m\u001b[0m\u001b[1;33m\u001b[0m\u001b[0m\n\u001b[1;32m-> 3080\u001b[1;33m                 \u001b[1;32mreturn\u001b[0m \u001b[0mself\u001b[0m\u001b[1;33m.\u001b[0m\u001b[0m_engine\u001b[0m\u001b[1;33m.\u001b[0m\u001b[0mget_loc\u001b[0m\u001b[1;33m(\u001b[0m\u001b[0mcasted_key\u001b[0m\u001b[1;33m)\u001b[0m\u001b[1;33m\u001b[0m\u001b[1;33m\u001b[0m\u001b[0m\n\u001b[0m\u001b[0;32m   3081\u001b[0m             \u001b[1;32mexcept\u001b[0m \u001b[0mKeyError\u001b[0m \u001b[1;32mas\u001b[0m \u001b[0merr\u001b[0m\u001b[1;33m:\u001b[0m\u001b[1;33m\u001b[0m\u001b[1;33m\u001b[0m\u001b[0m\n",
      "\u001b[1;32mpandas\\_libs\\index.pyx\u001b[0m in \u001b[0;36mpandas._libs.index.IndexEngine.get_loc\u001b[1;34m()\u001b[0m\n",
      "\u001b[1;32mpandas\\_libs\\index.pyx\u001b[0m in \u001b[0;36mpandas._libs.index.IndexEngine.get_loc\u001b[1;34m()\u001b[0m\n",
      "\u001b[1;32mpandas\\_libs\\hashtable_class_helper.pxi\u001b[0m in \u001b[0;36mpandas._libs.hashtable.PyObjectHashTable.get_item\u001b[1;34m()\u001b[0m\n",
      "\u001b[1;32mpandas\\_libs\\hashtable_class_helper.pxi\u001b[0m in \u001b[0;36mpandas._libs.hashtable.PyObjectHashTable.get_item\u001b[1;34m()\u001b[0m\n",
      "\u001b[1;31mKeyError\u001b[0m: 'trans_operation'",
      "\nThe above exception was the direct cause of the following exception:\n",
      "\u001b[1;31mKeyError\u001b[0m                                  Traceback (most recent call last)",
      "\u001b[1;32m<ipython-input-114-71f3e3836d5c>\u001b[0m in \u001b[0;36m<module>\u001b[1;34m\u001b[0m\n\u001b[0;32m      3\u001b[0m \u001b[1;33m\u001b[0m\u001b[0m\n\u001b[0;32m      4\u001b[0m \u001b[1;33m\u001b[0m\u001b[0m\n\u001b[1;32m----> 5\u001b[1;33m \u001b[0mtrans\u001b[0m\u001b[1;33m.\u001b[0m\u001b[0mloc\u001b[0m\u001b[1;33m[\u001b[0m\u001b[0mtrans\u001b[0m\u001b[1;33m[\u001b[0m\u001b[1;34m'trans_operation'\u001b[0m\u001b[1;33m]\u001b[0m \u001b[1;33m==\u001b[0m \u001b[1;34m'cash_credit'\u001b[0m\u001b[1;33m,\u001b[0m \u001b[1;34m'cash_credit'\u001b[0m\u001b[1;33m]\u001b[0m \u001b[1;33m=\u001b[0m \u001b[0mtrans\u001b[0m\u001b[1;33m.\u001b[0m\u001b[0mloc\u001b[0m\u001b[1;33m[\u001b[0m\u001b[0mtrans\u001b[0m\u001b[1;33m[\u001b[0m\u001b[1;34m'trans_operation'\u001b[0m\u001b[1;33m]\u001b[0m \u001b[1;33m==\u001b[0m \u001b[1;34m'cash_credit'\u001b[0m\u001b[1;33m,\u001b[0m\u001b[1;34m'trans_amount'\u001b[0m\u001b[1;33m]\u001b[0m\u001b[1;33m\u001b[0m\u001b[1;33m\u001b[0m\u001b[0m\n\u001b[0m\u001b[0;32m      6\u001b[0m \u001b[1;33m\u001b[0m\u001b[0m\n\u001b[0;32m      7\u001b[0m \u001b[1;33m\u001b[0m\u001b[0m\n",
      "\u001b[1;32mC:\\tools\\Anaconda3\\lib\\site-packages\\pandas\\core\\frame.py\u001b[0m in \u001b[0;36m__getitem__\u001b[1;34m(self, key)\u001b[0m\n\u001b[0;32m   3022\u001b[0m             \u001b[1;32mif\u001b[0m \u001b[0mself\u001b[0m\u001b[1;33m.\u001b[0m\u001b[0mcolumns\u001b[0m\u001b[1;33m.\u001b[0m\u001b[0mnlevels\u001b[0m \u001b[1;33m>\u001b[0m \u001b[1;36m1\u001b[0m\u001b[1;33m:\u001b[0m\u001b[1;33m\u001b[0m\u001b[1;33m\u001b[0m\u001b[0m\n\u001b[0;32m   3023\u001b[0m                 \u001b[1;32mreturn\u001b[0m \u001b[0mself\u001b[0m\u001b[1;33m.\u001b[0m\u001b[0m_getitem_multilevel\u001b[0m\u001b[1;33m(\u001b[0m\u001b[0mkey\u001b[0m\u001b[1;33m)\u001b[0m\u001b[1;33m\u001b[0m\u001b[1;33m\u001b[0m\u001b[0m\n\u001b[1;32m-> 3024\u001b[1;33m             \u001b[0mindexer\u001b[0m \u001b[1;33m=\u001b[0m \u001b[0mself\u001b[0m\u001b[1;33m.\u001b[0m\u001b[0mcolumns\u001b[0m\u001b[1;33m.\u001b[0m\u001b[0mget_loc\u001b[0m\u001b[1;33m(\u001b[0m\u001b[0mkey\u001b[0m\u001b[1;33m)\u001b[0m\u001b[1;33m\u001b[0m\u001b[1;33m\u001b[0m\u001b[0m\n\u001b[0m\u001b[0;32m   3025\u001b[0m             \u001b[1;32mif\u001b[0m \u001b[0mis_integer\u001b[0m\u001b[1;33m(\u001b[0m\u001b[0mindexer\u001b[0m\u001b[1;33m)\u001b[0m\u001b[1;33m:\u001b[0m\u001b[1;33m\u001b[0m\u001b[1;33m\u001b[0m\u001b[0m\n\u001b[0;32m   3026\u001b[0m                 \u001b[0mindexer\u001b[0m \u001b[1;33m=\u001b[0m \u001b[1;33m[\u001b[0m\u001b[0mindexer\u001b[0m\u001b[1;33m]\u001b[0m\u001b[1;33m\u001b[0m\u001b[1;33m\u001b[0m\u001b[0m\n",
      "\u001b[1;32mC:\\tools\\Anaconda3\\lib\\site-packages\\pandas\\core\\indexes\\base.py\u001b[0m in \u001b[0;36mget_loc\u001b[1;34m(self, key, method, tolerance)\u001b[0m\n\u001b[0;32m   3080\u001b[0m                 \u001b[1;32mreturn\u001b[0m \u001b[0mself\u001b[0m\u001b[1;33m.\u001b[0m\u001b[0m_engine\u001b[0m\u001b[1;33m.\u001b[0m\u001b[0mget_loc\u001b[0m\u001b[1;33m(\u001b[0m\u001b[0mcasted_key\u001b[0m\u001b[1;33m)\u001b[0m\u001b[1;33m\u001b[0m\u001b[1;33m\u001b[0m\u001b[0m\n\u001b[0;32m   3081\u001b[0m             \u001b[1;32mexcept\u001b[0m \u001b[0mKeyError\u001b[0m \u001b[1;32mas\u001b[0m \u001b[0merr\u001b[0m\u001b[1;33m:\u001b[0m\u001b[1;33m\u001b[0m\u001b[1;33m\u001b[0m\u001b[0m\n\u001b[1;32m-> 3082\u001b[1;33m                 \u001b[1;32mraise\u001b[0m \u001b[0mKeyError\u001b[0m\u001b[1;33m(\u001b[0m\u001b[0mkey\u001b[0m\u001b[1;33m)\u001b[0m \u001b[1;32mfrom\u001b[0m \u001b[0merr\u001b[0m\u001b[1;33m\u001b[0m\u001b[1;33m\u001b[0m\u001b[0m\n\u001b[0m\u001b[0;32m   3083\u001b[0m \u001b[1;33m\u001b[0m\u001b[0m\n\u001b[0;32m   3084\u001b[0m         \u001b[1;32mif\u001b[0m \u001b[0mtolerance\u001b[0m \u001b[1;32mis\u001b[0m \u001b[1;32mnot\u001b[0m \u001b[1;32mNone\u001b[0m\u001b[1;33m:\u001b[0m\u001b[1;33m\u001b[0m\u001b[1;33m\u001b[0m\u001b[0m\n",
      "\u001b[1;31mKeyError\u001b[0m: 'trans_operation'"
     ]
=======
     "data": {
      "text/html": [
       "<div>\n",
       "<style scoped>\n",
       "    .dataframe tbody tr th:only-of-type {\n",
       "        vertical-align: middle;\n",
       "    }\n",
       "\n",
       "    .dataframe tbody tr th {\n",
       "        vertical-align: top;\n",
       "    }\n",
       "\n",
       "    .dataframe thead th {\n",
       "        text-align: right;\n",
       "    }\n",
       "</style>\n",
       "<table border=\"1\" class=\"dataframe\">\n",
       "  <thead>\n",
       "    <tr style=\"text-align: right;\">\n",
       "      <th></th>\n",
       "      <th>account_id</th>\n",
       "      <th>trans_amount</th>\n",
       "      <th>cash_credit</th>\n",
       "      <th>cash_withdrawal</th>\n",
       "    </tr>\n",
       "  </thead>\n",
       "  <tbody>\n",
       "    <tr>\n",
       "      <th>0</th>\n",
       "      <td>1</td>\n",
       "      <td>375174.5</td>\n",
       "      <td>0.0</td>\n",
       "      <td>82774.0</td>\n",
       "    </tr>\n",
       "    <tr>\n",
       "      <th>1</th>\n",
       "      <td>2</td>\n",
       "      <td>3151479.3</td>\n",
       "      <td>0.0</td>\n",
       "      <td>1001191.0</td>\n",
       "    </tr>\n",
       "    <tr>\n",
       "      <th>2</th>\n",
       "      <td>3</td>\n",
       "      <td>295021.8</td>\n",
       "      <td>0.0</td>\n",
       "      <td>56949.8</td>\n",
       "    </tr>\n",
       "    <tr>\n",
       "      <th>3</th>\n",
       "      <td>4</td>\n",
       "      <td>350971.4</td>\n",
       "      <td>0.0</td>\n",
       "      <td>59813.4</td>\n",
       "    </tr>\n",
       "    <tr>\n",
       "      <th>4</th>\n",
       "      <td>5</td>\n",
       "      <td>166881.4</td>\n",
       "      <td>0.0</td>\n",
       "      <td>32044.4</td>\n",
       "    </tr>\n",
       "    <tr>\n",
       "      <th>...</th>\n",
       "      <td>...</td>\n",
       "      <td>...</td>\n",
       "      <td>...</td>\n",
       "      <td>...</td>\n",
       "    </tr>\n",
       "    <tr>\n",
       "      <th>4495</th>\n",
       "      <td>11333</td>\n",
       "      <td>3295795.5</td>\n",
       "      <td>0.0</td>\n",
       "      <td>1618737.9</td>\n",
       "    </tr>\n",
       "    <tr>\n",
       "      <th>4496</th>\n",
       "      <td>11349</td>\n",
       "      <td>3957372.2</td>\n",
       "      <td>0.0</td>\n",
       "      <td>1271219.0</td>\n",
       "    </tr>\n",
       "    <tr>\n",
       "      <th>4497</th>\n",
       "      <td>11359</td>\n",
       "      <td>2948081.4</td>\n",
       "      <td>0.0</td>\n",
       "      <td>1105500.6</td>\n",
       "    </tr>\n",
       "    <tr>\n",
       "      <th>4498</th>\n",
       "      <td>11362</td>\n",
       "      <td>1330010.5</td>\n",
       "      <td>0.0</td>\n",
       "      <td>336301.8</td>\n",
       "    </tr>\n",
       "    <tr>\n",
       "      <th>4499</th>\n",
       "      <td>11382</td>\n",
       "      <td>2623161.9</td>\n",
       "      <td>0.0</td>\n",
       "      <td>1270743.4</td>\n",
       "    </tr>\n",
       "  </tbody>\n",
       "</table>\n",
       "<p>4500 rows × 4 columns</p>\n",
       "</div>"
      ],
      "text/plain": [
       "      account_id  trans_amount  cash_credit  cash_withdrawal\n",
       "0              1      375174.5          0.0          82774.0\n",
       "1              2     3151479.3          0.0        1001191.0\n",
       "2              3      295021.8          0.0          56949.8\n",
       "3              4      350971.4          0.0          59813.4\n",
       "4              5      166881.4          0.0          32044.4\n",
       "...          ...           ...          ...              ...\n",
       "4495       11333     3295795.5          0.0        1618737.9\n",
       "4496       11349     3957372.2          0.0        1271219.0\n",
       "4497       11359     2948081.4          0.0        1105500.6\n",
       "4498       11362     1330010.5          0.0         336301.8\n",
       "4499       11382     2623161.9          0.0        1270743.4\n",
       "\n",
       "[4500 rows x 4 columns]"
      ]
     },
     "execution_count": 657,
     "metadata": {},
     "output_type": "execute_result"
>>>>>>> 876faa638b1756e3faa5542cb4ec32a6b91f1710
    }
   ],
   "source": [
    "trans[\"cash_credit\"] = 0\n",
    "trans[\"cash_withdrawal\"] = 0\n",
    "\n",
    "\n",
    "trans.loc[trans['trans_operation'] == 'cash_credit', 'cash_credit'] = trans.loc[trans['trans_operation'] == 'cash_credit','trans_amount']\n",
    "\n",
    "\n",
    "trans.loc[trans['trans_operation'] == 'cash_withdrawal', 'cash_withdrawal'] = trans.loc[trans['trans_operation'] == 'cash_withdrawal','trans_amount']\n",
    "\n",
    "\n",
    "trans_temp = trans.groupby(['account_id'], as_index = False).agg({'trans_amount' : 'sum','cash_credit' : 'sum',\n",
    "                                                               'cash_withdrawal' : 'sum','trans_balance': 'mean','trans_amount_mean':'mean'})\n",
    "\n",
    "trans_temp"
   ]
  },
  {
   "cell_type": "code",
<<<<<<< HEAD
   "execution_count": 101,
=======
   "execution_count": 658,
>>>>>>> 876faa638b1756e3faa5542cb4ec32a6b91f1710
   "id": "c6c0ba16",
   "metadata": {},
   "outputs": [],
   "source": [
    "trans_temp.rename(columns={'trans_amount' : 'total_trans_amount'}, inplace = True)\n",
    "trans_temp.rename(columns={'cash_credit' : 'total_cash_credit'}, inplace = True)\n",
    "trans_temp.rename(columns={'cash_withdrawal' : 'total_cash_withdrawal'}, inplace = True)"
   ]
  },
  {
   "cell_type": "code",
<<<<<<< HEAD
   "execution_count": 102,
=======
   "execution_count": 659,
>>>>>>> 876faa638b1756e3faa5542cb4ec32a6b91f1710
   "id": "c275da2d",
   "metadata": {},
   "outputs": [
    {
     "data": {
      "text/html": [
       "<div>\n",
       "<style scoped>\n",
       "    .dataframe tbody tr th:only-of-type {\n",
       "        vertical-align: middle;\n",
       "    }\n",
       "\n",
       "    .dataframe tbody tr th {\n",
       "        vertical-align: top;\n",
       "    }\n",
       "\n",
       "    .dataframe thead th {\n",
       "        text-align: right;\n",
       "    }\n",
       "</style>\n",
       "<table border=\"1\" class=\"dataframe\">\n",
       "  <thead>\n",
       "    <tr style=\"text-align: right;\">\n",
       "      <th></th>\n",
       "      <th>account_id</th>\n",
       "      <th>total_trans_amount</th>\n",
       "      <th>total_cash_credit</th>\n",
       "      <th>total_cash_withdrawal</th>\n",
       "      <th>trans_avgbalance</th>\n",
       "      <th>trans_avgamount</th>\n",
       "    </tr>\n",
       "  </thead>\n",
       "  <tbody>\n",
       "    <tr>\n",
       "      <th>0</th>\n",
       "      <td>1</td>\n",
       "      <td>375174.5</td>\n",
       "      <td>0.0</td>\n",
       "      <td>82774.0</td>\n",
       "      <td>15994.0</td>\n",
       "      <td>1570.0</td>\n",
       "    </tr>\n",
       "    <tr>\n",
       "      <th>1</th>\n",
       "      <td>2</td>\n",
       "      <td>3151479.3</td>\n",
       "      <td>0.0</td>\n",
       "      <td>1001191.0</td>\n",
       "      <td>36541.0</td>\n",
       "      <td>6593.0</td>\n",
       "    </tr>\n",
       "    <tr>\n",
       "      <th>2</th>\n",
       "      <td>3</td>\n",
       "      <td>295021.8</td>\n",
       "      <td>0.0</td>\n",
       "      <td>56949.8</td>\n",
       "      <td>26974.0</td>\n",
       "      <td>2522.0</td>\n",
       "    </tr>\n",
       "    <tr>\n",
       "      <th>3</th>\n",
       "      <td>4</td>\n",
       "      <td>350971.4</td>\n",
       "      <td>0.0</td>\n",
       "      <td>59813.4</td>\n",
       "      <td>21753.0</td>\n",
       "      <td>1887.0</td>\n",
       "    </tr>\n",
       "    <tr>\n",
       "      <th>4</th>\n",
       "      <td>5</td>\n",
       "      <td>166881.4</td>\n",
       "      <td>0.0</td>\n",
       "      <td>32044.4</td>\n",
       "      <td>25090.0</td>\n",
       "      <td>1987.0</td>\n",
       "    </tr>\n",
       "    <tr>\n",
       "      <th>...</th>\n",
       "      <td>...</td>\n",
       "      <td>...</td>\n",
       "      <td>...</td>\n",
       "      <td>...</td>\n",
       "      <td>...</td>\n",
       "      <td>...</td>\n",
       "    </tr>\n",
       "    <tr>\n",
       "      <th>4495</th>\n",
       "      <td>11333</td>\n",
       "      <td>3295795.5</td>\n",
       "      <td>0.0</td>\n",
       "      <td>1618737.9</td>\n",
       "      <td>46304.0</td>\n",
       "      <td>8956.0</td>\n",
       "    </tr>\n",
       "    <tr>\n",
       "      <th>4496</th>\n",
       "      <td>11349</td>\n",
       "      <td>3957372.2</td>\n",
       "      <td>0.0</td>\n",
       "      <td>1271219.0</td>\n",
       "      <td>48769.0</td>\n",
       "      <td>13018.0</td>\n",
       "    </tr>\n",
       "    <tr>\n",
       "      <th>4497</th>\n",
       "      <td>11359</td>\n",
       "      <td>2948081.4</td>\n",
       "      <td>0.0</td>\n",
       "      <td>1105500.6</td>\n",
       "      <td>36106.0</td>\n",
       "      <td>7799.0</td>\n",
       "    </tr>\n",
       "    <tr>\n",
       "      <th>4498</th>\n",
       "      <td>11362</td>\n",
       "      <td>1330010.5</td>\n",
       "      <td>0.0</td>\n",
       "      <td>336301.8</td>\n",
       "      <td>30470.0</td>\n",
       "      <td>3866.0</td>\n",
       "    </tr>\n",
       "    <tr>\n",
       "      <th>4499</th>\n",
       "      <td>11382</td>\n",
       "      <td>2623161.9</td>\n",
       "      <td>0.0</td>\n",
       "      <td>1270743.4</td>\n",
       "      <td>36380.0</td>\n",
       "      <td>10368.0</td>\n",
       "    </tr>\n",
       "  </tbody>\n",
       "</table>\n",
       "<p>4500 rows × 6 columns</p>\n",
       "</div>"
      ],
      "text/plain": [
       "      account_id  total_trans_amount  total_cash_credit  \\\n",
       "0              1            375174.5                0.0   \n",
       "1              2           3151479.3                0.0   \n",
       "2              3            295021.8                0.0   \n",
       "3              4            350971.4                0.0   \n",
       "4              5            166881.4                0.0   \n",
       "...          ...                 ...                ...   \n",
       "4495       11333           3295795.5                0.0   \n",
       "4496       11349           3957372.2                0.0   \n",
       "4497       11359           2948081.4                0.0   \n",
       "4498       11362           1330010.5                0.0   \n",
       "4499       11382           2623161.9                0.0   \n",
       "\n",
       "      total_cash_withdrawal  trans_avgbalance  trans_avgamount  \n",
       "0                   82774.0           15994.0           1570.0  \n",
       "1                 1001191.0           36541.0           6593.0  \n",
       "2                   56949.8           26974.0           2522.0  \n",
       "3                   59813.4           21753.0           1887.0  \n",
       "4                   32044.4           25090.0           1987.0  \n",
       "...                     ...               ...              ...  \n",
       "4495              1618737.9           46304.0           8956.0  \n",
       "4496              1271219.0           48769.0          13018.0  \n",
       "4497              1105500.6           36106.0           7799.0  \n",
       "4498               336301.8           30470.0           3866.0  \n",
       "4499              1270743.4           36380.0          10368.0  \n",
       "\n",
       "[4500 rows x 6 columns]"
      ]
     },
<<<<<<< HEAD
     "execution_count": 102,
=======
     "execution_count": 659,
>>>>>>> 876faa638b1756e3faa5542cb4ec32a6b91f1710
     "metadata": {},
     "output_type": "execute_result"
    }
   ],
   "source": [
    "#average balance and amount transacted per account \n",
    "\n",
    "avg_df = trans.groupby(by='account_id', as_index=False).agg({'trans_balance': 'mean','trans_amount':'mean' })\n",
    "\n",
    "avg_df.columns = ['account_id','trans_avgbalance','trans_avgamount']\n",
    "\n",
    "\n",
    "avg_df.trans_avgbalance = avg_df.trans_avgbalance.round()\n",
    "\n",
    "avg_df.trans_avgamount = avg_df.trans_avgamount.round()\n",
    "\n",
    "\n",
    "df = pd.merge(trans_temp,avg_df,'left',on = 'account_id')\n",
    "df"
   ]
  },
  {
   "cell_type": "code",
<<<<<<< HEAD
   "execution_count": 103,
=======
   "execution_count": 660,
>>>>>>> 876faa638b1756e3faa5542cb4ec32a6b91f1710
   "id": "be683f77",
   "metadata": {},
   "outputs": [],
   "source": [
    "trans_df = pd.merge(trans,df,'inner',on = 'account_id')"
   ]
  },
  {
   "cell_type": "code",
<<<<<<< HEAD
   "execution_count": 104,
=======
   "execution_count": 674,
>>>>>>> 876faa638b1756e3faa5542cb4ec32a6b91f1710
   "id": "3e3f92f7",
   "metadata": {},
   "outputs": [
    {
     "data": {
      "text/html": [
       "<div>\n",
       "<style scoped>\n",
       "    .dataframe tbody tr th:only-of-type {\n",
       "        vertical-align: middle;\n",
       "    }\n",
       "\n",
       "    .dataframe tbody tr th {\n",
       "        vertical-align: top;\n",
       "    }\n",
       "\n",
       "    .dataframe thead th {\n",
       "        text-align: right;\n",
       "    }\n",
       "</style>\n",
       "<table border=\"1\" class=\"dataframe\">\n",
       "  <thead>\n",
       "    <tr style=\"text-align: right;\">\n",
       "      <th></th>\n",
       "      <th>trans_id</th>\n",
<<<<<<< HEAD
       "      <th>account_id</th>\n",
       "      <th>trans_date</th>\n",
       "      <th>trans_type</th>\n",
       "      <th>trans_mode</th>\n",
       "      <th>trans_amount</th>\n",
       "      <th>trans_balance</th>\n",
       "      <th>trans_char</th>\n",
       "      <th>partner_bank</th>\n",
       "      <th>partner_account</th>\n",
       "      <th>...</th>\n",
       "      <th>monetary</th>\n",
       "      <th>rfm_Score</th>\n",
       "      <th>account_segment</th>\n",
       "      <th>cash_credit</th>\n",
       "      <th>cash_withdrawal</th>\n",
       "      <th>total_trans_amount</th>\n",
       "      <th>total_cash_credit</th>\n",
       "      <th>total_cash_withdrawal</th>\n",
       "      <th>trans_avgbalance</th>\n",
       "      <th>trans_avgamount</th>\n",
       "    </tr>\n",
       "  </thead>\n",
       "  <tbody>\n",
       "    <tr>\n",
       "      <th>0</th>\n",
       "      <td>695247</td>\n",
       "      <td>2378</td>\n",
       "      <td>01-01-1993</td>\n",
       "      <td>Credit</td>\n",
       "      <td>credit_cash</td>\n",
       "      <td>700.0</td>\n",
       "      <td>700.0</td>\n",
       "      <td>NaN</td>\n",
       "      <td>NaN</td>\n",
       "      <td>NaN</td>\n",
       "      <td>...</td>\n",
       "      <td>5315970.0</td>\n",
       "      <td>97.0</td>\n",
       "      <td>Platinum</td>\n",
       "      <td>0.0</td>\n",
       "      <td>0.0</td>\n",
       "      <td>5315969.9</td>\n",
       "      <td>0.0</td>\n",
       "      <td>1928858.0</td>\n",
       "      <td>54666.0</td>\n",
       "      <td>12221.0</td>\n",
       "    </tr>\n",
       "    <tr>\n",
       "      <th>1</th>\n",
       "      <td>171812</td>\n",
       "      <td>576</td>\n",
       "      <td>01-01-1993</td>\n",
       "      <td>Credit</td>\n",
       "      <td>credit_cash</td>\n",
       "      <td>900.0</td>\n",
       "      <td>900.0</td>\n",
       "      <td>NaN</td>\n",
       "      <td>NaN</td>\n",
       "      <td>NaN</td>\n",
       "      <td>...</td>\n",
       "      <td>875619.0</td>\n",
       "      <td>66.0</td>\n",
       "      <td>Gold</td>\n",
       "      <td>0.0</td>\n",
       "      <td>0.0</td>\n",
       "      <td>875619.3</td>\n",
       "      <td>0.0</td>\n",
       "      <td>171018.2</td>\n",
       "      <td>28105.0</td>\n",
       "      <td>2446.0</td>\n",
       "    </tr>\n",
       "  </tbody>\n",
       "</table>\n",
       "<p>2 rows × 27 columns</p>\n",
       "</div>"
      ],
      "text/plain": [
       "   trans_id  account_id  trans_date trans_type   trans_mode  trans_amount  \\\n",
       "0    695247        2378  01-01-1993     Credit  credit_cash         700.0   \n",
       "1    171812         576  01-01-1993     Credit  credit_cash         900.0   \n",
       "\n",
       "   trans_balance trans_char partner_bank  partner_account  ...   monetary  \\\n",
       "0          700.0        NaN          NaN              NaN  ...  5315970.0   \n",
       "1          900.0        NaN          NaN              NaN  ...   875619.0   \n",
       "\n",
       "   rfm_Score  account_segment cash_credit cash_withdrawal  total_trans_amount  \\\n",
       "0       97.0         Platinum         0.0             0.0           5315969.9   \n",
       "1       66.0             Gold         0.0             0.0            875619.3   \n",
       "\n",
       "   total_cash_credit  total_cash_withdrawal  trans_avgbalance trans_avgamount  \n",
       "0                0.0              1928858.0           54666.0         12221.0  \n",
       "1                0.0               171018.2           28105.0          2446.0  \n",
       "\n",
       "[2 rows x 27 columns]"
      ]
     },
     "execution_count": 104,
     "metadata": {},
     "output_type": "execute_result"
    }
   ],
   "source": [
    "trans_df.head(2)"
   ]
  },
  {
   "cell_type": "code",
   "execution_count": 105,
   "id": "7f0574a1",
   "metadata": {},
   "outputs": [],
   "source": [
    "trans = trans_df"
   ]
  },
  {
   "cell_type": "code",
   "execution_count": 106,
   "id": "07f55228",
   "metadata": {},
   "outputs": [],
   "source": [
    "trans.rename(columns={'account_id' : 'trans_account_id'}, inplace = True)\n",
    "\n",
    "trans.rename(columns={'trans_char' : 'trans_k_symbol'}, inplace = True)\n",
    "trans.rename(columns={'trans_mode' : 'trans_operation'}, inplace = True)"
   ]
  },
  {
   "cell_type": "code",
   "execution_count": 107,
   "id": "df9006f5",
   "metadata": {},
   "outputs": [
    {
     "data": {
      "text/html": [
       "<div>\n",
       "<style scoped>\n",
       "    .dataframe tbody tr th:only-of-type {\n",
       "        vertical-align: middle;\n",
       "    }\n",
       "\n",
       "    .dataframe tbody tr th {\n",
       "        vertical-align: top;\n",
       "    }\n",
       "\n",
       "    .dataframe thead th {\n",
       "        text-align: right;\n",
       "    }\n",
       "</style>\n",
       "<table border=\"1\" class=\"dataframe\">\n",
       "  <thead>\n",
       "    <tr style=\"text-align: right;\">\n",
       "      <th></th>\n",
       "      <th>trans_id</th>\n",
=======
>>>>>>> 876faa638b1756e3faa5542cb4ec32a6b91f1710
       "      <th>trans_account_id</th>\n",
       "      <th>trans_date</th>\n",
       "      <th>trans_type</th>\n",
       "      <th>trans_operation</th>\n",
       "      <th>trans_amount</th>\n",
       "      <th>trans_balance</th>\n",
       "      <th>trans_k_symbol</th>\n",
       "      <th>partner_bank</th>\n",
       "      <th>partner_account</th>\n",
       "      <th>...</th>\n",
       "      <th>monetary</th>\n",
       "      <th>rfm_Score</th>\n",
       "      <th>account_segment</th>\n",
       "      <th>cash_credit</th>\n",
       "      <th>cash_withdrawal</th>\n",
       "      <th>total_trans_amount</th>\n",
       "      <th>total_cash_credit</th>\n",
       "      <th>total_cash_withdrawal</th>\n",
       "      <th>trans_avgbalance</th>\n",
       "      <th>trans_avgamount</th>\n",
       "    </tr>\n",
       "  </thead>\n",
       "  <tbody>\n",
       "    <tr>\n",
       "      <th>0</th>\n",
       "      <td>695247</td>\n",
       "      <td>2378</td>\n",
       "      <td>01-01-1993</td>\n",
       "      <td>Credit</td>\n",
       "      <td>credit_cash</td>\n",
       "      <td>700.0</td>\n",
       "      <td>700.0</td>\n",
       "      <td>NaN</td>\n",
       "      <td>NaN</td>\n",
       "      <td>NaN</td>\n",
       "      <td>...</td>\n",
       "      <td>5315970.0</td>\n",
       "      <td>97.0</td>\n",
       "      <td>Platinum</td>\n",
       "      <td>0.0</td>\n",
       "      <td>0.0</td>\n",
       "      <td>5315969.9</td>\n",
       "      <td>0.0</td>\n",
       "      <td>1928858.0</td>\n",
       "      <td>54666.0</td>\n",
       "      <td>12221.0</td>\n",
       "    </tr>\n",
       "    <tr>\n",
       "      <th>1</th>\n",
       "      <td>695250</td>\n",
       "      <td>2378</td>\n",
       "      <td>22-01-1993</td>\n",
       "      <td>Credit</td>\n",
       "      <td>credit_cash</td>\n",
       "      <td>7268.0</td>\n",
       "      <td>7968.0</td>\n",
       "      <td>NaN</td>\n",
       "      <td>NaN</td>\n",
       "      <td>NaN</td>\n",
       "      <td>...</td>\n",
       "      <td>5315970.0</td>\n",
       "      <td>97.0</td>\n",
       "      <td>Platinum</td>\n",
       "      <td>0.0</td>\n",
       "      <td>0.0</td>\n",
       "      <td>5315969.9</td>\n",
       "      <td>0.0</td>\n",
       "      <td>1928858.0</td>\n",
       "      <td>54666.0</td>\n",
       "      <td>12221.0</td>\n",
       "    </tr>\n",
       "    <tr>\n",
       "      <th>2</th>\n",
       "      <td>695266</td>\n",
       "      <td>2378</td>\n",
       "      <td>23-01-1993</td>\n",
       "      <td>Credit</td>\n",
       "      <td>credit_cash</td>\n",
       "      <td>14440.0</td>\n",
       "      <td>22408.0</td>\n",
       "      <td>NaN</td>\n",
       "      <td>NaN</td>\n",
       "      <td>NaN</td>\n",
       "      <td>...</td>\n",
       "      <td>5315970.0</td>\n",
       "      <td>97.0</td>\n",
       "      <td>Platinum</td>\n",
       "      <td>0.0</td>\n",
       "      <td>0.0</td>\n",
       "      <td>5315969.9</td>\n",
       "      <td>0.0</td>\n",
       "      <td>1928858.0</td>\n",
       "      <td>54666.0</td>\n",
       "      <td>12221.0</td>\n",
       "    </tr>\n",
       "    <tr>\n",
       "      <th>3</th>\n",
       "      <td>695262</td>\n",
       "      <td>2378</td>\n",
       "      <td>24-01-1993</td>\n",
       "      <td>Credit</td>\n",
       "      <td>credit_cash</td>\n",
       "      <td>49752.0</td>\n",
       "      <td>72160.0</td>\n",
       "      <td>NaN</td>\n",
       "      <td>NaN</td>\n",
       "      <td>NaN</td>\n",
       "      <td>...</td>\n",
       "      <td>5315970.0</td>\n",
       "      <td>97.0</td>\n",
       "      <td>Platinum</td>\n",
       "      <td>0.0</td>\n",
       "      <td>0.0</td>\n",
       "      <td>5315969.9</td>\n",
       "      <td>0.0</td>\n",
       "      <td>1928858.0</td>\n",
       "      <td>54666.0</td>\n",
       "      <td>12221.0</td>\n",
       "    </tr>\n",
       "    <tr>\n",
       "      <th>4</th>\n",
       "      <td>695265</td>\n",
       "      <td>2378</td>\n",
       "      <td>26-01-1993</td>\n",
       "      <td>Credit</td>\n",
       "      <td>credit_cash</td>\n",
       "      <td>21899.0</td>\n",
       "      <td>94059.0</td>\n",
       "      <td>NaN</td>\n",
       "      <td>NaN</td>\n",
       "      <td>NaN</td>\n",
       "      <td>...</td>\n",
       "      <td>5315970.0</td>\n",
       "      <td>97.0</td>\n",
       "      <td>Platinum</td>\n",
       "      <td>0.0</td>\n",
       "      <td>0.0</td>\n",
       "      <td>5315969.9</td>\n",
       "      <td>0.0</td>\n",
       "      <td>1928858.0</td>\n",
       "      <td>54666.0</td>\n",
       "      <td>12221.0</td>\n",
       "    </tr>\n",
       "  </tbody>\n",
       "</table>\n",
       "<p>5 rows × 27 columns</p>\n",
       "</div>"
      ],
      "text/plain": [
       "   trans_id  trans_account_id  trans_date trans_type trans_operation  \\\n",
       "0    695247              2378  01-01-1993     Credit     credit_cash   \n",
       "1    695250              2378  22-01-1993     Credit     credit_cash   \n",
       "2    695266              2378  23-01-1993     Credit     credit_cash   \n",
       "3    695262              2378  24-01-1993     Credit     credit_cash   \n",
       "4    695265              2378  26-01-1993     Credit     credit_cash   \n",
       "\n",
       "   trans_amount  trans_balance trans_k_symbol partner_bank  partner_account  \\\n",
       "0         700.0          700.0            NaN          NaN              NaN   \n",
       "1        7268.0         7968.0            NaN          NaN              NaN   \n",
       "2       14440.0        22408.0            NaN          NaN              NaN   \n",
       "3       49752.0        72160.0            NaN          NaN              NaN   \n",
       "4       21899.0        94059.0            NaN          NaN              NaN   \n",
       "\n",
       "   ...   monetary  rfm_Score  account_segment cash_credit cash_withdrawal  \\\n",
       "0  ...  5315970.0       97.0         Platinum         0.0             0.0   \n",
       "1  ...  5315970.0       97.0         Platinum         0.0             0.0   \n",
       "2  ...  5315970.0       97.0         Platinum         0.0             0.0   \n",
       "3  ...  5315970.0       97.0         Platinum         0.0             0.0   \n",
       "4  ...  5315970.0       97.0         Platinum         0.0             0.0   \n",
       "\n",
       "   total_trans_amount  total_cash_credit  total_cash_withdrawal  \\\n",
       "0           5315969.9                0.0              1928858.0   \n",
       "1           5315969.9                0.0              1928858.0   \n",
       "2           5315969.9                0.0              1928858.0   \n",
       "3           5315969.9                0.0              1928858.0   \n",
       "4           5315969.9                0.0              1928858.0   \n",
       "\n",
       "   trans_avgbalance trans_avgamount  \n",
       "0           54666.0         12221.0  \n",
       "1           54666.0         12221.0  \n",
       "2           54666.0         12221.0  \n",
       "3           54666.0         12221.0  \n",
       "4           54666.0         12221.0  \n",
       "\n",
       "[5 rows x 27 columns]"
      ]
     },
<<<<<<< HEAD
     "execution_count": 107,
=======
     "execution_count": 674,
>>>>>>> 876faa638b1756e3faa5542cb4ec32a6b91f1710
     "metadata": {},
     "output_type": "execute_result"
    }
   ],
   "source": [
    "trans_df.head()"
   ]
  },
  {
   "cell_type": "code",
   "execution_count": 662,
   "id": "7f0574a1",
   "metadata": {},
   "outputs": [],
   "source": [
    "trans = trans_df"
   ]
  },
  {
   "cell_type": "code",
   "execution_count": 663,
   "id": "07f55228",
   "metadata": {},
   "outputs": [],
   "source": [
    "trans.rename(columns={'account_id' : 'trans_account_id'}, inplace = True)\n",
    "\n",
    "trans.rename(columns={'trans_char' : 'trans_k_symbol'}, inplace = True)\n",
    "trans.rename(columns={'trans_mode' : 'trans_operation'}, inplace = True)"
   ]
  },
  {
   "cell_type": "code",
   "execution_count": 664,
   "id": "df9006f5",
   "metadata": {},
   "outputs": [
    {
     "name": "stdout",
     "output_type": "stream",
     "text": [
      "<class 'pandas.core.frame.DataFrame'>\n",
      "Int64Index: 1056320 entries, 0 to 1056319\n",
      "Data columns (total 27 columns):\n",
      " #   Column                 Non-Null Count    Dtype  \n",
      "---  ------                 --------------    -----  \n",
      " 0   trans_id               1056320 non-null  int64  \n",
      " 1   trans_account_id       1056320 non-null  int64  \n",
      " 2   trans_date             1056320 non-null  object \n",
      " 3   trans_type             1056320 non-null  object \n",
      " 4   trans_operation        873206 non-null   object \n",
      " 5   trans_amount           1056320 non-null  float64\n",
      " 6   trans_balance          1056320 non-null  float64\n",
      " 7   trans_k_symbol         574439 non-null   object \n",
      " 8   partner_bank           273508 non-null   object \n",
      " 9   partner_account        295389 non-null   float64\n",
      " 10  trans_day              1056320 non-null  int32  \n",
      " 11  trans_month            1056320 non-null  int32  \n",
      " 12  trans_year             1056320 non-null  int32  \n",
      " 13  date                   1056320 non-null  object \n",
      " 14  last_trans_date        1056320 non-null  object \n",
      " 15  trans_recency          1056320 non-null  int64  \n",
      " 16  trans_frequency        1056320 non-null  int64  \n",
      " 17  monetary               1056320 non-null  float64\n",
      " 18  rfm_Score              1056320 non-null  float64\n",
      " 19  account_segment        1056320 non-null  object \n",
      " 20  cash_credit            1056320 non-null  float64\n",
      " 21  cash_withdrawal        1056320 non-null  float64\n",
      " 22  total_trans_amount     1056320 non-null  float64\n",
      " 23  total_cash_credit      1056320 non-null  float64\n",
      " 24  total_cash_withdrawal  1056320 non-null  float64\n",
      " 25  trans_avgbalance       1056320 non-null  float64\n",
      " 26  trans_avgamount        1056320 non-null  float64\n",
      "dtypes: float64(12), int32(3), int64(4), object(8)\n",
      "memory usage: 213.6+ MB\n"
     ]
    }
   ],
   "source": [
    "trans.info()"
   ]
  },
  {
   "cell_type": "markdown",
   "id": "78b4a3e2",
   "metadata": {},
   "source": [
    "# LOAN DATA"
   ]
  },
  {
   "cell_type": "code",
<<<<<<< HEAD
   "execution_count": 108,
=======
   "execution_count": 665,
>>>>>>> 876faa638b1756e3faa5542cb4ec32a6b91f1710
   "id": "4c44b93f",
   "metadata": {},
   "outputs": [
    {
     "name": "stdout",
     "output_type": "stream",
     "text": [
      "The number of missing columns are: 0\n"
     ]
    }
   ],
   "source": [
    "# Checking data\n",
    "#print(loan.head())\n",
    "# Checking structure\n",
    "#print(loan.info())\n",
    "\n",
    "#Rename Columns\n",
    "loan = renameColumn('loan', loan)\n",
    "# Checking missing columns\n",
    "print(\"The number of missing columns are: \" +  str(loan.isna().sum().sum()))\n",
    "\n",
    "\n",
    "#Processing Date\n",
    "loan['loan_year'] = loan['loan_date'].astype(str).str[:2].astype(int) \n",
    "loan['loan_year'] = loan['loan_year'] + 1900\n",
    "loan['loan_month'] = loan['loan_date'].astype(str).str[2:4].astype(int)\n",
    "loan['loan_day'] = loan['loan_date'].astype(str).str[4:6].astype(int)\n",
    "\n",
    "\n",
    "\n",
    "#Current Loan Status\n",
    "loan[\"cur_loan_Status\"] = 'Not Available'\n",
    "loan.loc[loan[\"loan_status\"]==\"A\",\"cur_loan_Status\"]=\"Closed\"\n",
    "loan.loc[loan[\"loan_status\"]==\"B\",\"cur_loan_Status\"]=\"Closed - Defaulted\"\n",
    "loan.loc[loan[\"loan_status\"]==\"C\",\"cur_loan_Status\"]=\"Running\"\n",
    "loan.loc[loan[\"loan_status\"]==\"D\",\"cur_loan_Status\"]=\"Running - in Debt\"\n",
    "\n",
    "loan[\"loan_category\"]=np.where(loan['loan_amount'] < 196940 ,\"Low\",\n",
    "                                     (np.where(loan['loan_amount'] < 393880.0 , \"Medium\" ,\"High\")))\n",
    "\n",
    "\n",
    "#creating target Variable \n",
    "loan.loc[loan[\"loan_year\"] == 1997,'loan_granted'] = 1\n",
    "\n",
    "\n",
    "# Checking empty columns\n",
    "emptyrows = checkEmpty(loan)\n",
    "#for column in emptyrows:\n",
    "#    print(\"the empty rows in \" + column + \" are: \")\n",
    "#    print(loan.loc[emptyrows[column], column])\n",
    "loan =  fillEmpty(loan, emptyrows)\n",
    "#print(loan.head())"
   ]
  },
  {
   "cell_type": "code",
<<<<<<< HEAD
   "execution_count": 115,
=======
   "execution_count": 666,
>>>>>>> 876faa638b1756e3faa5542cb4ec32a6b91f1710
   "id": "eb46ede1",
   "metadata": {},
   "outputs": [
    {
<<<<<<< HEAD
     "name": "stdout",
     "output_type": "stream",
     "text": [
      "<class 'pandas.core.frame.DataFrame'>\n",
      "RangeIndex: 682 entries, 0 to 681\n",
      "Data columns (total 7 columns):\n",
      " #   Column      Non-Null Count  Dtype  \n",
      "---  ------      --------------  -----  \n",
      " 0   loan_id     682 non-null    int64  \n",
      " 1   account_id  682 non-null    int64  \n",
      " 2   date        682 non-null    int64  \n",
      " 3   amount      682 non-null    int64  \n",
      " 4   duration    682 non-null    int64  \n",
      " 5   payments    682 non-null    float64\n",
      " 6   status      682 non-null    object \n",
      "dtypes: float64(1), int64(5), object(1)\n",
      "memory usage: 37.4+ KB\n"
     ]
=======
     "data": {
      "text/html": [
       "<div>\n",
       "<style scoped>\n",
       "    .dataframe tbody tr th:only-of-type {\n",
       "        vertical-align: middle;\n",
       "    }\n",
       "\n",
       "    .dataframe tbody tr th {\n",
       "        vertical-align: top;\n",
       "    }\n",
       "\n",
       "    .dataframe thead th {\n",
       "        text-align: right;\n",
       "    }\n",
       "</style>\n",
       "<table border=\"1\" class=\"dataframe\">\n",
       "  <thead>\n",
       "    <tr style=\"text-align: right;\">\n",
       "      <th></th>\n",
       "      <th>loan_id</th>\n",
       "      <th>loan_account_id</th>\n",
       "      <th>loan_date</th>\n",
       "      <th>loan_amount</th>\n",
       "      <th>loan_duration</th>\n",
       "      <th>loan_payments</th>\n",
       "      <th>loan_status</th>\n",
       "      <th>loan_year</th>\n",
       "      <th>loan_month</th>\n",
       "      <th>loan_day</th>\n",
       "      <th>cur_loan_Status</th>\n",
       "      <th>loan_category</th>\n",
       "      <th>loan_granted</th>\n",
       "    </tr>\n",
       "  </thead>\n",
       "  <tbody>\n",
       "    <tr>\n",
       "      <th>0</th>\n",
       "      <td>5314</td>\n",
       "      <td>1787</td>\n",
       "      <td>930705</td>\n",
       "      <td>96396</td>\n",
       "      <td>12</td>\n",
       "      <td>8033.0</td>\n",
       "      <td>B</td>\n",
       "      <td>1993</td>\n",
       "      <td>7</td>\n",
       "      <td>5</td>\n",
       "      <td>Closed - Defaulted</td>\n",
       "      <td>Low</td>\n",
       "      <td>NaN</td>\n",
       "    </tr>\n",
       "    <tr>\n",
       "      <th>1</th>\n",
       "      <td>5316</td>\n",
       "      <td>1801</td>\n",
       "      <td>930711</td>\n",
       "      <td>165960</td>\n",
       "      <td>36</td>\n",
       "      <td>4610.0</td>\n",
       "      <td>A</td>\n",
       "      <td>1993</td>\n",
       "      <td>7</td>\n",
       "      <td>11</td>\n",
       "      <td>Closed</td>\n",
       "      <td>Low</td>\n",
       "      <td>NaN</td>\n",
       "    </tr>\n",
       "    <tr>\n",
       "      <th>2</th>\n",
       "      <td>6863</td>\n",
       "      <td>9188</td>\n",
       "      <td>930728</td>\n",
       "      <td>127080</td>\n",
       "      <td>60</td>\n",
       "      <td>2118.0</td>\n",
       "      <td>A</td>\n",
       "      <td>1993</td>\n",
       "      <td>7</td>\n",
       "      <td>28</td>\n",
       "      <td>Closed</td>\n",
       "      <td>Low</td>\n",
       "      <td>NaN</td>\n",
       "    </tr>\n",
       "  </tbody>\n",
       "</table>\n",
       "</div>"
      ],
      "text/plain": [
       "   loan_id  loan_account_id  loan_date  loan_amount  loan_duration  \\\n",
       "0     5314             1787     930705        96396             12   \n",
       "1     5316             1801     930711       165960             36   \n",
       "2     6863             9188     930728       127080             60   \n",
       "\n",
       "   loan_payments loan_status  loan_year  loan_month  loan_day  \\\n",
       "0         8033.0           B       1993           7         5   \n",
       "1         4610.0           A       1993           7        11   \n",
       "2         2118.0           A       1993           7        28   \n",
       "\n",
       "      cur_loan_Status loan_category  loan_granted  \n",
       "0  Closed - Defaulted           Low           NaN  \n",
       "1              Closed           Low           NaN  \n",
       "2              Closed           Low           NaN  "
      ]
     },
     "execution_count": 666,
     "metadata": {},
     "output_type": "execute_result"
>>>>>>> 876faa638b1756e3faa5542cb4ec32a6b91f1710
    }
   ],
   "source": [
    "loan.info()"
   ]
  },
  {
   "cell_type": "markdown",
   "id": "c0c3d979",
   "metadata": {},
   "source": [
    "# BASE TABLE -  MERGING "
   ]
  },
  {
   "cell_type": "code",
<<<<<<< HEAD
   "execution_count": 110,
=======
   "execution_count": 667,
>>>>>>> 876faa638b1756e3faa5542cb4ec32a6b91f1710
   "id": "baf788d4",
   "metadata": {},
   "outputs": [
    {
     "name": "stdout",
     "output_type": "stream",
     "text": [
      "<class 'pandas.core.frame.DataFrame'>\n",
      "Int64Index: 104904 entries, 0 to 104903\n",
      "Columns: 103 entries, account_id to loan_granted\n",
      "dtypes: float64(24), int32(21), int64(35), object(22), timedelta64[ns](1)\n",
      "memory usage: 74.8+ MB\n"
     ]
    }
   ],
   "source": [
    "# Merging account and disp table\n",
    "base_table = pd.merge(account, disp, left_on = 'account_id', right_on = 'disp_account_id', how='inner' )\n",
    "# checking for type = 'OWNER'\n",
    "base_table =  base_table[base_table['disp_type'] == 'OWNER']\n",
    "# Merging Account to base_table\n",
    "base_table = base_table.merge(client, left_on = 'disp_client_id', right_on = 'client_id', how='inner')\n",
    "#Merging card to base_table\n",
    "base_table = base_table.merge(card, left_on = 'disp_id', right_on = 'card_disp_id', how='inner')\n",
    "#Merging district to base_table for account\n",
    "# base_table = base_table.merge(district, left_on = 'account_district_id', right_on = 'A1', how='inner')\n",
    "#Merging district to base_table for client\n",
    "base_table = base_table.merge(district, left_on = 'client_district_id', right_on = 'District_Code', how='inner')\n",
    "#Merging order to base_table for client\n",
    "base_table = base_table.merge(order, left_on = 'account_id', right_on = 'order_account_id', how='inner')\n",
    "#Merging trans to base_table for client\n",
    "base_table = base_table.merge(trans, left_on = 'account_id', right_on = 'trans_account_id', how='inner')\n",
    "#Merging loan to base_table for client\n",
    "base_table = base_table.merge(loan, left_on = 'account_id', right_on = 'loan_account_id', how='inner')\n",
    "#print(base_table.head())\n",
    "#print(base_table.info())\n",
    "base_table.info()"
   ]
  },
  {
   "cell_type": "code",
<<<<<<< HEAD
   "execution_count": null,
=======
   "execution_count": 668,
>>>>>>> 876faa638b1756e3faa5542cb4ec32a6b91f1710
   "id": "ba143138",
   "metadata": {},
   "outputs": [],
   "source": [
    "#print(base_table.loc[base_table['loan_year'] == 1996])\n",
    "\n"
   ]
  },
  {
   "cell_type": "markdown",
   "id": "08116c59",
   "metadata": {},
   "source": [
    "# SUMMARY"
   ]
  },
  {
   "cell_type": "code",
<<<<<<< HEAD
   "execution_count": null,
   "id": "e0544e9d",
   "metadata": {},
   "outputs": [],
=======
   "execution_count": 669,
   "id": "e0544e9d",
   "metadata": {},
   "outputs": [
    {
     "name": "stderr",
     "output_type": "stream",
     "text": [
      "C:\\Users\\saisu\\anaconda3\\lib\\site-packages\\pandas\\core\\reshape\\merge.py:648: UserWarning: merging between different levels can give an unintended result (1 levels on the left,2 on the right)\n",
      "  warnings.warn(msg, UserWarning)\n",
      "C:\\Users\\saisu\\anaconda3\\lib\\site-packages\\pandas\\core\\reshape\\merge.py:648: UserWarning: merging between different levels can give an unintended result (1 levels on the left,2 on the right)\n",
      "  warnings.warn(msg, UserWarning)\n",
      "C:\\Users\\saisu\\anaconda3\\lib\\site-packages\\pandas\\core\\reshape\\merge.py:648: UserWarning: merging between different levels can give an unintended result (1 levels on the left,2 on the right)\n",
      "  warnings.warn(msg, UserWarning)\n",
      "C:\\Users\\saisu\\anaconda3\\lib\\site-packages\\pandas\\core\\reshape\\merge.py:648: UserWarning: merging between different levels can give an unintended result (1 levels on the left,2 on the right)\n",
      "  warnings.warn(msg, UserWarning)\n",
      "C:\\Users\\saisu\\anaconda3\\lib\\site-packages\\pandas\\core\\reshape\\merge.py:648: UserWarning: merging between different levels can give an unintended result (1 levels on the left,2 on the right)\n",
      "  warnings.warn(msg, UserWarning)\n",
      "C:\\Users\\saisu\\anaconda3\\lib\\site-packages\\pandas\\core\\reshape\\merge.py:648: UserWarning: merging between different levels can give an unintended result (1 levels on the left,2 on the right)\n",
      "  warnings.warn(msg, UserWarning)\n"
     ]
    }
   ],
>>>>>>> 876faa638b1756e3faa5542cb4ec32a6b91f1710
   "source": [
    "summary_trans_ksymbol_count = base_table.loc[base_table['trans_year'] == 1996].groupby(['District_Code', 'trans_k_symbol'])[['trans_id']].agg(['count'])\n",
    "base_table = pd.merge(base_table, summary_trans_ksymbol_count, left_on = ['District_Code', 'trans_k_symbol'], right_on = ['District_Code', 'trans_k_symbol'], how = 'left')\n",
    "base_table.rename(columns={('trans_id', 'count') : 'district_trans_ksymbol_count'}, inplace = True)\n",
    "summary_trans_kymbol_amount = base_table.loc[base_table['trans_year'] == 1996].groupby(['District_Code', 'trans_k_symbol'])[['trans_amount']].agg(['sum'])\n",
    "base_table = pd.merge(base_table, summary_trans_kymbol_amount, left_on = ['District_Code', 'trans_k_symbol'], right_on = ['District_Code', 'trans_k_symbol'], how = 'left')\n",
    "base_table.rename(columns={('trans_amount', 'sum') : 'district_trans_kymbol_amount'}, inplace = True)\n",
    "#print(summary_trans_ksymbol_count)\n",
    "#print(summary_trans_kymbol_amount)\n",
    "\n",
    "summary_trans_operation_count = base_table.loc[base_table['trans_year'] == 1996].groupby(['District_Code', 'trans_operation'])[['trans_id']].agg(['count'])\n",
    "base_table = pd.merge(base_table, summary_trans_operation_count, left_on = ['District_Code', 'trans_operation'], right_on = ['District_Code', 'trans_operation'], how = 'left')\n",
    "base_table.rename(columns={('trans_id', 'count') : 'district_trans_operation_count'}, inplace = True)\n",
    "summary_trans_operation_amount = base_table.loc[base_table['trans_year'] == 1996].groupby(['District_Code', 'trans_operation'])[['trans_amount']].agg(['sum'])\n",
    "base_table = pd.merge(base_table, summary_trans_operation_amount, left_on = ['District_Code', 'trans_operation'], right_on = ['District_Code', 'trans_operation'], how = 'left')\n",
    "base_table.rename(columns={('trans_amount', 'sum') : 'district_trans_operation_amount'}, inplace = True)\n",
    "#print(summary_trans_operation_count)\n",
    "#print(summary_trans_operation_amount)\n",
    "\n",
    "\n",
    "summary_trans_type_count = base_table.loc[base_table['trans_year'] == 1996].groupby(['District_Code', 'trans_type'])[['trans_id']].agg(['count'])\n",
    "base_table = pd.merge(base_table, summary_trans_type_count, left_on = ['District_Code', 'trans_type'], right_on = ['District_Code', 'trans_type'], how = 'left')\n",
    "base_table.rename(columns={('trans_id', 'count') : 'district_trans_type_count'}, inplace = True)\n",
    "summary_trans_type_amount = base_table.loc[base_table['trans_year'] == 1996].groupby(['District_Code', 'trans_type'])[['trans_amount']].agg(['sum'])\n",
    "base_table = pd.merge(base_table, summary_trans_type_amount, left_on = ['District_Code', 'trans_type'], right_on = ['District_Code', 'trans_type'], how = 'left')\n",
    "base_table.rename(columns={('trans_amount', 'sum') : 'district_trans_type_amount'}, inplace = True)\n",
    "#print(summary_trans_type_count)\n",
    "#print(summary_trans_type_amount)\n",
    "#print(base_table.head())"
   ]
  },
  {
   "cell_type": "code",
<<<<<<< HEAD
   "execution_count": null,
   "id": "66e299ea",
   "metadata": {},
   "outputs": [],
=======
   "execution_count": 670,
   "id": "66e299ea",
   "metadata": {},
   "outputs": [
    {
     "name": "stderr",
     "output_type": "stream",
     "text": [
      "C:\\Users\\saisu\\anaconda3\\lib\\site-packages\\pandas\\core\\reshape\\merge.py:648: UserWarning: merging between different levels can give an unintended result (1 levels on the left,2 on the right)\n",
      "  warnings.warn(msg, UserWarning)\n"
     ]
    },
    {
     "name": "stdout",
     "output_type": "stream",
     "text": [
      "                        card_id\n",
      "                          count\n",
      "District_Code card_type        \n",
      "1             junior       1017\n",
      "2             classic       844\n",
      "              junior       1395\n",
      "5             junior        783\n",
      "14            classic       410\n",
      "15            classic       582\n",
      "27            classic       858\n",
      "28            classic      2415\n",
      "32            classic       254\n",
      "              junior       1929\n",
      "34            classic      2070\n",
      "38            junior       1317\n",
      "39            gold         1610\n",
      "50            classic      3140\n",
      "52            classic      1504\n",
      "55            gold          202\n",
      "58            classic      1740\n",
      "59            classic       427\n",
      "62            classic       283\n",
      "64            classic      1098\n",
      "70            classic      1804\n",
      "74            classic       832\n"
     ]
    }
   ],
>>>>>>> 876faa638b1756e3faa5542cb4ec32a6b91f1710
   "source": [
    "summary_card_type_count = base_table.loc[base_table['card_issued_year'] == 1996].groupby(['District_Code', 'card_type'])[['card_id']].agg(['count'])\n",
    "base_table = pd.merge(base_table, summary_card_type_count, left_on = ['District_Code', 'card_type'], right_on = ['District_Code', 'card_type'], how = 'left')\n",
    "base_table.rename(columns={('card_id', 'count') : 'district_card_type_count'}, inplace = True)\n",
    "print(summary_card_type_count)\n",
    "#print(base_table.head())"
   ]
  },
  {
   "cell_type": "code",
<<<<<<< HEAD
   "execution_count": null,
   "id": "ea4fbe41",
   "metadata": {},
   "outputs": [],
=======
   "execution_count": 671,
   "id": "ea4fbe41",
   "metadata": {},
   "outputs": [
    {
     "name": "stderr",
     "output_type": "stream",
     "text": [
      "C:\\Users\\saisu\\anaconda3\\lib\\site-packages\\pandas\\core\\reshape\\merge.py:648: UserWarning: merging between different levels can give an unintended result (1 levels on the left,2 on the right)\n",
      "  warnings.warn(msg, UserWarning)\n",
      "C:\\Users\\saisu\\anaconda3\\lib\\site-packages\\pandas\\core\\reshape\\merge.py:648: UserWarning: merging between different levels can give an unintended result (1 levels on the left,2 on the right)\n",
      "  warnings.warn(msg, UserWarning)\n"
     ]
    },
    {
     "name": "stdout",
     "output_type": "stream",
     "text": [
      "                          loan_id\n",
      "                            count\n",
      "District_Code loan_status        \n",
      "1             C              1473\n",
      "              D               301\n",
      "9             A              1156\n",
      "12            C               678\n",
      "14            C               795\n",
      "15            A               582\n",
      "19            C               275\n",
      "27            C               388\n",
      "28            C              2415\n",
      "31            A              1096\n",
      "32            A               254\n",
      "37            A               784\n",
      "              C               297\n",
      "38            C              1317\n",
      "39            A              1610\n",
      "40            A               198\n",
      "47            C               296\n",
      "50            C               293\n",
      "52            A               260\n",
      "              C              1504\n",
      "55            C               202\n",
      "61            A              1134\n",
      "62            C               283\n",
      "64            A               407\n",
      "              C               355\n",
      "68            C               426\n",
      "70            A              1939\n",
      "72            A               229\n",
      "74            C               369\n",
      "77            C               424\n",
      "                          loan_amount\n",
      "                                  sum\n",
      "District_Code loan_status            \n",
      "1             C             284525136\n",
      "              D              96613776\n",
      "9             A             108201600\n",
      "12            C             266087880\n",
      "14            C             250632072\n"
     ]
    }
   ],
>>>>>>> 876faa638b1756e3faa5542cb4ec32a6b91f1710
   "source": [
    "summary_loan_status_count = base_table.loc[base_table['loan_year'] == 1996].groupby(['District_Code', 'loan_status'])[['loan_id']].agg(['count'])\n",
    "base_table = pd.merge(base_table, summary_loan_status_count, left_on = ['District_Code', 'loan_status'], right_on = ['District_Code', 'loan_status'], how = 'left')\n",
    "base_table.rename(columns={('loan_id', 'count') : 'district_loan_status_count'}, inplace = True)\n",
    "summary_loan_status_amount = base_table.loc[base_table['loan_year'] == 1996].groupby(['District_Code', 'loan_status'])[['loan_amount']].agg(['sum'])\n",
    "base_table = pd.merge(base_table, summary_loan_status_amount, left_on = ['District_Code', 'loan_status'], right_on = ['District_Code', 'loan_status'], how = 'left')\n",
    "base_table.rename(columns={('loan_amount', 'sum') : 'district_loan_status_amount'}, inplace = True)\n",
    "print(summary_loan_status_count)\n",
    "print(summary_loan_status_amount.head())\n",
    "#print(base_table.head())"
   ]
  },
  {
   "cell_type": "code",
<<<<<<< HEAD
<<<<<<< Updated upstream
   "execution_count": 122,
=======
   "execution_count": 53,
>>>>>>> Stashed changes
=======
   "execution_count": 672,
>>>>>>> 876faa638b1756e3faa5542cb4ec32a6b91f1710
   "id": "3082f640",
   "metadata": {},
   "outputs": [
    {
<<<<<<< Updated upstream
     "name": "stderr",
     "output_type": "stream",
     "text": [
      "C:\\tools\\Anaconda3\\lib\\site-packages\\pandas\\core\\reshape\\merge.py:648: UserWarning: merging between different levels can give an unintended result (1 levels on the left,2 on the right)\n",
      "  warnings.warn(msg, UserWarning)\n"
     ]
    },
    {
     "name": "stdout",
     "output_type": "stream",
     "text": [
      "                                account_id\n",
      "                                     count\n",
      "District_Code account_frequency           \n",
      "1             POPLATEK MESICNE        4194\n",
      "2             POPLATEK MESICNE         338\n",
      "              POPLATEK TYDNE           147\n",
      "5             POPLATEK MESICNE        1179\n",
<<<<<<< HEAD
      "6             POPLATEK MESICNE         105\n",
      "   account_id  account_district_id account_frequency  account_date  \\\n",
      "0       10065                   76  POPLATEK MESICNE        960330   \n",
      "1       10065                   76  POPLATEK MESICNE        960330   \n",
      "2       10065                   76  POPLATEK MESICNE        960330   \n",
      "3       10065                   76  POPLATEK MESICNE        960330   \n",
      "4       10065                   76  POPLATEK MESICNE        960330   \n",
      "\n",
      "   account_year  account_month  account_day  account_lor  disp_id  \\\n",
      "0          1996              3           30            1    12070   \n",
      "1          1996              3           30            1    12070   \n",
      "2          1996              3           30            1    12070   \n",
      "3          1996              3           30            1    12070   \n",
      "4          1996              3           30            1    12070   \n",
      "\n",
      "   disp_client_id  ...  loan_duration loan_payments  loan_status  loan_year  \\\n",
      "0           12378  ...             48        6484.0            C       1997   \n",
      "1           12378  ...             48        6484.0            C       1997   \n",
      "2           12378  ...             48        6484.0            C       1997   \n",
      "3           12378  ...             48        6484.0            C       1997   \n",
      "4           12378  ...             48        6484.0            C       1997   \n",
      "\n",
      "   loan_month  loan_day  cur_loan_Status  loan_category  loan_granted  \\\n",
      "0           9        23          Running         Medium           1.0   \n",
      "1           9        23          Running         Medium           1.0   \n",
      "2           9        23          Running         Medium           1.0   \n",
      "3           9        23          Running         Medium           1.0   \n",
      "4           9        23          Running         Medium           1.0   \n",
      "\n",
      "  district_account_frequency_count  \n",
      "0                            263.0  \n",
      "1                            263.0  \n",
      "2                            263.0  \n",
      "3                            263.0  \n",
      "4                            263.0  \n",
      "\n",
      "[5 rows x 104 columns]\n"
=======
     "ename": "NameError",
     "evalue": "name 'base_table' is not defined",
     "output_type": "error",
     "traceback": [
      "\u001b[1;31m---------------------------------------------------------------------------\u001b[0m",
      "\u001b[1;31mNameError\u001b[0m                                 Traceback (most recent call last)",
      "\u001b[1;32m<ipython-input-53-3ed2287dcedc>\u001b[0m in \u001b[0;36m<module>\u001b[1;34m\u001b[0m\n\u001b[1;32m----> 1\u001b[1;33m \u001b[0msummary_account_frequency_count\u001b[0m \u001b[1;33m=\u001b[0m \u001b[0mbase_table\u001b[0m\u001b[1;33m.\u001b[0m\u001b[0mloc\u001b[0m\u001b[1;33m[\u001b[0m\u001b[0mbase_table\u001b[0m\u001b[1;33m[\u001b[0m\u001b[1;34m'account_year'\u001b[0m\u001b[1;33m]\u001b[0m \u001b[1;33m==\u001b[0m \u001b[1;36m1996\u001b[0m\u001b[1;33m]\u001b[0m\u001b[1;33m.\u001b[0m\u001b[0mgroupby\u001b[0m\u001b[1;33m(\u001b[0m\u001b[1;33m[\u001b[0m\u001b[1;34m'District_Code'\u001b[0m\u001b[1;33m,\u001b[0m \u001b[1;34m'account_frequency'\u001b[0m\u001b[1;33m]\u001b[0m\u001b[1;33m)\u001b[0m\u001b[1;33m[\u001b[0m\u001b[1;33m[\u001b[0m\u001b[1;34m'account_id'\u001b[0m\u001b[1;33m]\u001b[0m\u001b[1;33m]\u001b[0m\u001b[1;33m.\u001b[0m\u001b[0magg\u001b[0m\u001b[1;33m(\u001b[0m\u001b[1;33m[\u001b[0m\u001b[1;34m'count'\u001b[0m\u001b[1;33m]\u001b[0m\u001b[1;33m)\u001b[0m\u001b[1;33m\u001b[0m\u001b[1;33m\u001b[0m\u001b[0m\n\u001b[0m\u001b[0;32m      2\u001b[0m \u001b[0mbase_table\u001b[0m \u001b[1;33m=\u001b[0m \u001b[0mpd\u001b[0m\u001b[1;33m.\u001b[0m\u001b[0mmerge\u001b[0m\u001b[1;33m(\u001b[0m\u001b[0mbase_table\u001b[0m\u001b[1;33m,\u001b[0m \u001b[0msummary_account_frequency_count\u001b[0m\u001b[1;33m,\u001b[0m \u001b[0mleft_on\u001b[0m \u001b[1;33m=\u001b[0m \u001b[1;33m[\u001b[0m\u001b[1;34m'District_Code'\u001b[0m\u001b[1;33m,\u001b[0m \u001b[1;34m'account_frequency'\u001b[0m\u001b[1;33m]\u001b[0m\u001b[1;33m,\u001b[0m \u001b[0mright_on\u001b[0m \u001b[1;33m=\u001b[0m \u001b[1;33m[\u001b[0m\u001b[1;34m'District_Code'\u001b[0m\u001b[1;33m,\u001b[0m \u001b[1;34m'account_frequency'\u001b[0m\u001b[1;33m]\u001b[0m\u001b[1;33m,\u001b[0m \u001b[0mhow\u001b[0m \u001b[1;33m=\u001b[0m \u001b[1;34m'left'\u001b[0m\u001b[1;33m)\u001b[0m\u001b[1;33m\u001b[0m\u001b[1;33m\u001b[0m\u001b[0m\n\u001b[0;32m      3\u001b[0m \u001b[0mbase_table\u001b[0m\u001b[1;33m.\u001b[0m\u001b[0mrename\u001b[0m\u001b[1;33m(\u001b[0m\u001b[0mcolumns\u001b[0m\u001b[1;33m=\u001b[0m\u001b[1;33m{\u001b[0m\u001b[1;33m(\u001b[0m\u001b[1;34m'account_id'\u001b[0m\u001b[1;33m,\u001b[0m \u001b[1;34m'count'\u001b[0m\u001b[1;33m)\u001b[0m \u001b[1;33m:\u001b[0m \u001b[1;34m'district_account_frequency_count'\u001b[0m\u001b[1;33m}\u001b[0m\u001b[1;33m,\u001b[0m \u001b[0minplace\u001b[0m \u001b[1;33m=\u001b[0m \u001b[1;32mTrue\u001b[0m\u001b[1;33m)\u001b[0m\u001b[1;33m\u001b[0m\u001b[1;33m\u001b[0m\u001b[0m\n\u001b[0;32m      4\u001b[0m \u001b[0mprint\u001b[0m\u001b[1;33m(\u001b[0m\u001b[0msummary_account_frequency_count\u001b[0m\u001b[1;33m.\u001b[0m\u001b[0mhead\u001b[0m\u001b[1;33m(\u001b[0m\u001b[1;33m)\u001b[0m\u001b[1;33m)\u001b[0m\u001b[1;33m\u001b[0m\u001b[1;33m\u001b[0m\u001b[0m\n\u001b[0;32m      5\u001b[0m \u001b[0mprint\u001b[0m\u001b[1;33m(\u001b[0m\u001b[0mbase_table\u001b[0m\u001b[1;33m.\u001b[0m\u001b[0mhead\u001b[0m\u001b[1;33m(\u001b[0m\u001b[1;33m)\u001b[0m\u001b[1;33m)\u001b[0m\u001b[1;33m\u001b[0m\u001b[1;33m\u001b[0m\u001b[0m\n",
      "\u001b[1;31mNameError\u001b[0m: name 'base_table' is not defined"
>>>>>>> Stashed changes
=======
      "6             POPLATEK MESICNE         105\n"
>>>>>>> 876faa638b1756e3faa5542cb4ec32a6b91f1710
     ]
    }
   ],
   "source": [
    "summary_account_frequency_count = base_table.loc[base_table['account_year'] == 1996].groupby(['District_Code', 'account_frequency'])[['account_id']].agg(['count'])\n",
    "base_table = pd.merge(base_table, summary_account_frequency_count, left_on = ['District_Code', 'account_frequency'], right_on = ['District_Code', 'account_frequency'], how = 'left')\n",
    "base_table.rename(columns={('account_id', 'count') : 'district_account_frequency_count'}, inplace = True)\n",
    "print(summary_account_frequency_count.head())\n",
    "#print(base_table.head())"
   ]
  },
  {
   "cell_type": "code",
   "execution_count": 51,
   "id": "0378d273",
   "metadata": {},
   "outputs": [
    {
     "ename": "NameError",
     "evalue": "name 'base_table' is not defined",
     "output_type": "error",
     "traceback": [
      "\u001b[1;31m---------------------------------------------------------------------------\u001b[0m",
      "\u001b[1;31mNameError\u001b[0m                                 Traceback (most recent call last)",
      "\u001b[1;32m<ipython-input-51-b422119144f3>\u001b[0m in \u001b[0;36m<module>\u001b[1;34m\u001b[0m\n\u001b[1;32m----> 1\u001b[1;33m \u001b[0mbase_table\u001b[0m\u001b[1;33m.\u001b[0m\u001b[0minfo\u001b[0m\u001b[1;33m(\u001b[0m\u001b[1;33m)\u001b[0m\u001b[1;33m\u001b[0m\u001b[1;33m\u001b[0m\u001b[0m\n\u001b[0m",
      "\u001b[1;31mNameError\u001b[0m: name 'base_table' is not defined"
     ]
    }
   ],
   "source": [
    "base_table.info()"
   ]
  },
  {
   "cell_type": "code",
   "execution_count": 52,
   "id": "3244583b",
   "metadata": {},
   "outputs": [
    {
     "ename": "NameError",
     "evalue": "name 'base_table' is not defined",
     "output_type": "error",
     "traceback": [
      "\u001b[1;31m---------------------------------------------------------------------------\u001b[0m",
      "\u001b[1;31mNameError\u001b[0m                                 Traceback (most recent call last)",
      "\u001b[1;32m<ipython-input-52-06e4213abc00>\u001b[0m in \u001b[0;36m<module>\u001b[1;34m\u001b[0m\n\u001b[1;32m----> 1\u001b[1;33m \u001b[0mbase_table\u001b[0m\u001b[1;33m[\u001b[0m\u001b[1;34m'client_age_group'\u001b[0m\u001b[1;33m]\u001b[0m\u001b[1;33m\u001b[0m\u001b[1;33m\u001b[0m\u001b[0m\n\u001b[0m",
      "\u001b[1;31mNameError\u001b[0m: name 'base_table' is not defined"
     ]
    }
   ],
   "source": [
    "base_table['client_age_group']"
   ]
  },
  {
   "cell_type": "code",
   "execution_count": null,
   "id": "6168fd27",
   "metadata": {},
   "outputs": [],
   "source": []
  },
  {
   "cell_type": "code",
<<<<<<< HEAD
   "execution_count": null,
   "id": "0f11bfac",
   "metadata": {},
   "outputs": [],
   "source": []
  },
  {
   "cell_type": "code",
   "execution_count": null,
   "id": "c9d6e411",
   "metadata": {},
   "outputs": [],
   "source": []
  },
  {
   "cell_type": "code",
   "execution_count": null,
   "id": "ec95622e",
   "metadata": {},
   "outputs": [],
   "source": []
  },
  {
   "cell_type": "markdown",
   "id": "462fa933",
   "metadata": {},
=======
   "execution_count": 673,
   "id": "3244583b",
   "metadata": {},
   "outputs": [
    {
     "ename": "PermissionError",
     "evalue": "[Errno 13] Permission denied: './data/interim\\\\base_table.csv'",
     "output_type": "error",
     "traceback": [
      "\u001b[1;31m---------------------------------------------------------------------------\u001b[0m",
      "\u001b[1;31mPermissionError\u001b[0m                           Traceback (most recent call last)",
      "\u001b[1;32m<ipython-input-673-5d58f6a88150>\u001b[0m in \u001b[0;36m<module>\u001b[1;34m\u001b[0m\n\u001b[1;32m----> 1\u001b[1;33m \u001b[0mbase_table\u001b[0m\u001b[1;33m.\u001b[0m\u001b[0mto_csv\u001b[0m\u001b[1;33m(\u001b[0m\u001b[0mos\u001b[0m\u001b[1;33m.\u001b[0m\u001b[0mpath\u001b[0m\u001b[1;33m.\u001b[0m\u001b[0mjoin\u001b[0m\u001b[1;33m(\u001b[0m\u001b[1;34m'./data/interim'\u001b[0m\u001b[1;33m,\u001b[0m\u001b[1;34mr'base_table.csv'\u001b[0m\u001b[1;33m)\u001b[0m\u001b[1;33m)\u001b[0m\u001b[1;33m\u001b[0m\u001b[1;33m\u001b[0m\u001b[0m\n\u001b[0m",
      "\u001b[1;32m~\\anaconda3\\lib\\site-packages\\pandas\\core\\generic.py\u001b[0m in \u001b[0;36mto_csv\u001b[1;34m(self, path_or_buf, sep, na_rep, float_format, columns, header, index, index_label, mode, encoding, compression, quoting, quotechar, line_terminator, chunksize, date_format, doublequote, escapechar, decimal, errors, storage_options)\u001b[0m\n\u001b[0;32m   3385\u001b[0m         )\n\u001b[0;32m   3386\u001b[0m \u001b[1;33m\u001b[0m\u001b[0m\n\u001b[1;32m-> 3387\u001b[1;33m         return DataFrameRenderer(formatter).to_csv(\n\u001b[0m\u001b[0;32m   3388\u001b[0m             \u001b[0mpath_or_buf\u001b[0m\u001b[1;33m,\u001b[0m\u001b[1;33m\u001b[0m\u001b[1;33m\u001b[0m\u001b[0m\n\u001b[0;32m   3389\u001b[0m             \u001b[0mline_terminator\u001b[0m\u001b[1;33m=\u001b[0m\u001b[0mline_terminator\u001b[0m\u001b[1;33m,\u001b[0m\u001b[1;33m\u001b[0m\u001b[1;33m\u001b[0m\u001b[0m\n",
      "\u001b[1;32m~\\anaconda3\\lib\\site-packages\\pandas\\io\\formats\\format.py\u001b[0m in \u001b[0;36mto_csv\u001b[1;34m(self, path_or_buf, encoding, sep, columns, index_label, mode, compression, quoting, quotechar, line_terminator, chunksize, date_format, doublequote, escapechar, errors, storage_options)\u001b[0m\n\u001b[0;32m   1081\u001b[0m             \u001b[0mformatter\u001b[0m\u001b[1;33m=\u001b[0m\u001b[0mself\u001b[0m\u001b[1;33m.\u001b[0m\u001b[0mfmt\u001b[0m\u001b[1;33m,\u001b[0m\u001b[1;33m\u001b[0m\u001b[1;33m\u001b[0m\u001b[0m\n\u001b[0;32m   1082\u001b[0m         )\n\u001b[1;32m-> 1083\u001b[1;33m         \u001b[0mcsv_formatter\u001b[0m\u001b[1;33m.\u001b[0m\u001b[0msave\u001b[0m\u001b[1;33m(\u001b[0m\u001b[1;33m)\u001b[0m\u001b[1;33m\u001b[0m\u001b[1;33m\u001b[0m\u001b[0m\n\u001b[0m\u001b[0;32m   1084\u001b[0m \u001b[1;33m\u001b[0m\u001b[0m\n\u001b[0;32m   1085\u001b[0m         \u001b[1;32mif\u001b[0m \u001b[0mcreated_buffer\u001b[0m\u001b[1;33m:\u001b[0m\u001b[1;33m\u001b[0m\u001b[1;33m\u001b[0m\u001b[0m\n",
      "\u001b[1;32m~\\anaconda3\\lib\\site-packages\\pandas\\io\\formats\\csvs.py\u001b[0m in \u001b[0;36msave\u001b[1;34m(self)\u001b[0m\n\u001b[0;32m    226\u001b[0m         \"\"\"\n\u001b[0;32m    227\u001b[0m         \u001b[1;31m# apply compression and byte/text conversion\u001b[0m\u001b[1;33m\u001b[0m\u001b[1;33m\u001b[0m\u001b[1;33m\u001b[0m\u001b[0m\n\u001b[1;32m--> 228\u001b[1;33m         with get_handle(\n\u001b[0m\u001b[0;32m    229\u001b[0m             \u001b[0mself\u001b[0m\u001b[1;33m.\u001b[0m\u001b[0mfilepath_or_buffer\u001b[0m\u001b[1;33m,\u001b[0m\u001b[1;33m\u001b[0m\u001b[1;33m\u001b[0m\u001b[0m\n\u001b[0;32m    230\u001b[0m             \u001b[0mself\u001b[0m\u001b[1;33m.\u001b[0m\u001b[0mmode\u001b[0m\u001b[1;33m,\u001b[0m\u001b[1;33m\u001b[0m\u001b[1;33m\u001b[0m\u001b[0m\n",
      "\u001b[1;32m~\\anaconda3\\lib\\site-packages\\pandas\\io\\common.py\u001b[0m in \u001b[0;36mget_handle\u001b[1;34m(path_or_buf, mode, encoding, compression, memory_map, is_text, errors, storage_options)\u001b[0m\n\u001b[0;32m    640\u001b[0m                 \u001b[0merrors\u001b[0m \u001b[1;33m=\u001b[0m \u001b[1;34m\"replace\"\u001b[0m\u001b[1;33m\u001b[0m\u001b[1;33m\u001b[0m\u001b[0m\n\u001b[0;32m    641\u001b[0m             \u001b[1;31m# Encoding\u001b[0m\u001b[1;33m\u001b[0m\u001b[1;33m\u001b[0m\u001b[1;33m\u001b[0m\u001b[0m\n\u001b[1;32m--> 642\u001b[1;33m             handle = open(\n\u001b[0m\u001b[0;32m    643\u001b[0m                 \u001b[0mhandle\u001b[0m\u001b[1;33m,\u001b[0m\u001b[1;33m\u001b[0m\u001b[1;33m\u001b[0m\u001b[0m\n\u001b[0;32m    644\u001b[0m                 \u001b[0mioargs\u001b[0m\u001b[1;33m.\u001b[0m\u001b[0mmode\u001b[0m\u001b[1;33m,\u001b[0m\u001b[1;33m\u001b[0m\u001b[1;33m\u001b[0m\u001b[0m\n",
      "\u001b[1;31mPermissionError\u001b[0m: [Errno 13] Permission denied: './data/interim\\\\base_table.csv'"
     ]
    }
   ],
>>>>>>> 876faa638b1756e3faa5542cb4ec32a6b91f1710
   "source": [
    "# Loan/Card Issued based on Age group"
   ]
  },
  {
   "cell_type": "code",
   "execution_count": null,
   "id": "0e82cc84",
   "metadata": {},
   "outputs": [],
   "source": []
  },
  {
   "cell_type": "code",
   "execution_count": 49,
   "id": "35310d54",
   "metadata": {},
   "outputs": [
    {
     "ename": "NameError",
     "evalue": "name 'base_table' is not defined",
     "output_type": "error",
     "traceback": [
      "\u001b[1;31m---------------------------------------------------------------------------\u001b[0m",
      "\u001b[1;31mNameError\u001b[0m                                 Traceback (most recent call last)",
      "\u001b[1;32m<ipython-input-49-00039f5525a3>\u001b[0m in \u001b[0;36m<module>\u001b[1;34m\u001b[0m\n\u001b[0;32m      1\u001b[0m \u001b[0mfig\u001b[0m\u001b[1;33m,\u001b[0m \u001b[0max\u001b[0m \u001b[1;33m=\u001b[0m \u001b[0mplt\u001b[0m\u001b[1;33m.\u001b[0m\u001b[0msubplots\u001b[0m\u001b[1;33m(\u001b[0m\u001b[1;36m1\u001b[0m\u001b[1;33m,\u001b[0m \u001b[1;36m3\u001b[0m\u001b[1;33m,\u001b[0m \u001b[0mfigsize\u001b[0m\u001b[1;33m=\u001b[0m\u001b[1;33m(\u001b[0m\u001b[1;36m15\u001b[0m\u001b[1;33m,\u001b[0m \u001b[1;36m6\u001b[0m\u001b[1;33m)\u001b[0m\u001b[1;33m,\u001b[0m \u001b[0msharey\u001b[0m\u001b[1;33m=\u001b[0m\u001b[1;32mTrue\u001b[0m\u001b[1;33m)\u001b[0m\u001b[1;33m\u001b[0m\u001b[1;33m\u001b[0m\u001b[0m\n\u001b[0;32m      2\u001b[0m \u001b[1;33m\u001b[0m\u001b[0m\n\u001b[1;32m----> 3\u001b[1;33m \u001b[0mcnt_age_group\u001b[0m \u001b[1;33m=\u001b[0m \u001b[0mbase_table\u001b[0m\u001b[1;33m.\u001b[0m\u001b[0mloc\u001b[0m\u001b[1;33m[\u001b[0m\u001b[0mbase_table\u001b[0m\u001b[1;33m[\u001b[0m\u001b[1;34m'account_year'\u001b[0m\u001b[1;33m]\u001b[0m \u001b[1;33m==\u001b[0m \u001b[1;36m1996\u001b[0m\u001b[1;33m]\u001b[0m\u001b[1;33m[\u001b[0m\u001b[1;34m'client_age_group'\u001b[0m\u001b[1;33m]\u001b[0m\u001b[1;33m.\u001b[0m\u001b[0mvalue_counts\u001b[0m\u001b[1;33m(\u001b[0m\u001b[0mnormalize\u001b[0m\u001b[1;33m=\u001b[0m\u001b[1;32mTrue\u001b[0m\u001b[1;33m)\u001b[0m\u001b[1;33m\u001b[0m\u001b[1;33m\u001b[0m\u001b[0m\n\u001b[0m\u001b[0;32m      4\u001b[0m \u001b[0max\u001b[0m\u001b[1;33m[\u001b[0m\u001b[1;36m0\u001b[0m\u001b[1;33m]\u001b[0m\u001b[1;33m.\u001b[0m\u001b[0mpie\u001b[0m\u001b[1;33m(\u001b[0m\u001b[0mcnt_age_group\u001b[0m\u001b[1;33m,\u001b[0m \u001b[0mlabels\u001b[0m\u001b[1;33m=\u001b[0m\u001b[0mcnt_age_group\u001b[0m\u001b[1;33m.\u001b[0m\u001b[0mindex\u001b[0m\u001b[1;33m,\u001b[0m \u001b[0mautopct\u001b[0m\u001b[1;33m=\u001b[0m\u001b[1;34m'%1.1f%%'\u001b[0m\u001b[1;33m)\u001b[0m\u001b[1;33m\u001b[0m\u001b[1;33m\u001b[0m\u001b[0m\n\u001b[0;32m      5\u001b[0m \u001b[0max\u001b[0m\u001b[1;33m[\u001b[0m\u001b[1;36m0\u001b[0m\u001b[1;33m]\u001b[0m\u001b[1;33m.\u001b[0m\u001b[0mset_title\u001b[0m\u001b[1;33m(\u001b[0m\u001b[1;34m\"Total Customers - Age Group\"\u001b[0m\u001b[1;33m)\u001b[0m\u001b[1;33m\u001b[0m\u001b[1;33m\u001b[0m\u001b[0m\n",
      "\u001b[1;31mNameError\u001b[0m: name 'base_table' is not defined"
     ]
    },
    {
     "data": {
      "image/png": "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\n",
      "text/plain": [
       "<Figure size 1080x432 with 3 Axes>"
      ]
     },
     "metadata": {
      "needs_background": "light"
     },
     "output_type": "display_data"
    }
   ],
   "source": [
    "fig, ax = plt.subplots(1, 3, figsize=(15, 6), sharey=True)\n",
    "\n",
    "cnt_age_group = base_table.loc[base_table['account_year'] == 1996]['client_age_group'].value_counts(normalize=True)\n",
    "ax[0].pie(cnt_age_group, labels=cnt_age_group.index, autopct='%1.1f%%')\n",
    "ax[0].set_title(\"Total Customers - Age Group\")\n",
    "\n",
    "cnt_age_group1 = base_table.loc[base_table['loan_granted'] == 1]['client_age_group'].value_counts(normalize=True)\n",
    "ax[1].pie(cnt_age_group1, labels=cnt_age_group.index, autopct='%1.1f%%')\n",
    "ax[1].set_title(\"Loan Granted - Age Group\")\n",
    "\n",
    "cnt_age_group1 = base_table.loc[base_table['card_issued_97'] == 1]['client_age_group'].value_counts(normalize=True)\n",
    "ax[2].pie(cnt_age_group1, labels=cnt_age_group.index, autopct='%1.1f%%')\n",
    "ax[2].set_title(\"Card Issued - Age Group\")\n",
    "ax[2].legend()\n",
    "\n",
    "plt.show()\n",
    "\n"
   ]
  },
  {
   "cell_type": "code",
   "execution_count": 50,
   "id": "35f37bdc",
   "metadata": {},
   "outputs": [
    {
     "ename": "NameError",
     "evalue": "name 'base_table' is not defined",
     "output_type": "error",
     "traceback": [
      "\u001b[1;31m---------------------------------------------------------------------------\u001b[0m",
      "\u001b[1;31mNameError\u001b[0m                                 Traceback (most recent call last)",
      "\u001b[1;32m<ipython-input-50-22d2f47d7a2d>\u001b[0m in \u001b[0;36m<module>\u001b[1;34m\u001b[0m\n\u001b[1;32m----> 1\u001b[1;33m \u001b[0mplt_count_loan\u001b[0m \u001b[1;33m=\u001b[0m \u001b[0mbase_table\u001b[0m\u001b[1;33m.\u001b[0m\u001b[0mloc\u001b[0m\u001b[1;33m[\u001b[0m\u001b[0mbase_table\u001b[0m\u001b[1;33m[\u001b[0m\u001b[1;34m'account_year'\u001b[0m\u001b[1;33m]\u001b[0m \u001b[1;33m==\u001b[0m \u001b[1;36m1996\u001b[0m\u001b[1;33m]\u001b[0m\u001b[1;33m.\u001b[0m\u001b[0mgroupby\u001b[0m\u001b[1;33m(\u001b[0m\u001b[1;34m'client_age_group'\u001b[0m\u001b[1;33m)\u001b[0m\u001b[1;33m[\u001b[0m\u001b[1;34m'loan_granted'\u001b[0m\u001b[1;33m]\u001b[0m\u001b[1;33m.\u001b[0m\u001b[0msum\u001b[0m\u001b[1;33m(\u001b[0m\u001b[1;33m)\u001b[0m\u001b[1;33m\u001b[0m\u001b[1;33m\u001b[0m\u001b[0m\n\u001b[0m\u001b[0;32m      2\u001b[0m \u001b[0mplt_count_loan1\u001b[0m \u001b[1;33m=\u001b[0m \u001b[0mbase_table\u001b[0m\u001b[1;33m.\u001b[0m\u001b[0mloc\u001b[0m\u001b[1;33m[\u001b[0m\u001b[0mbase_table\u001b[0m\u001b[1;33m[\u001b[0m\u001b[1;34m'account_year'\u001b[0m\u001b[1;33m]\u001b[0m \u001b[1;33m==\u001b[0m \u001b[1;36m1996\u001b[0m\u001b[1;33m]\u001b[0m\u001b[1;33m.\u001b[0m\u001b[0mgroupby\u001b[0m\u001b[1;33m(\u001b[0m\u001b[1;34m'client_age_group'\u001b[0m\u001b[1;33m)\u001b[0m\u001b[1;33m[\u001b[0m\u001b[1;34m'card_issued_97'\u001b[0m\u001b[1;33m]\u001b[0m\u001b[1;33m.\u001b[0m\u001b[0msum\u001b[0m\u001b[1;33m(\u001b[0m\u001b[1;33m)\u001b[0m\u001b[1;33m\u001b[0m\u001b[1;33m\u001b[0m\u001b[0m\n\u001b[0;32m      3\u001b[0m \u001b[0mplt_count_loan\u001b[0m\u001b[1;33m.\u001b[0m\u001b[0mplot\u001b[0m\u001b[1;33m.\u001b[0m\u001b[0mbar\u001b[0m\u001b[1;33m(\u001b[0m\u001b[1;33m)\u001b[0m\u001b[1;33m\u001b[0m\u001b[1;33m\u001b[0m\u001b[0m\n",
      "\u001b[1;31mNameError\u001b[0m: name 'base_table' is not defined"
     ]
    }
   ],
   "source": [
    "plt_count_loan = base_table.loc[base_table['account_year'] == 1996].groupby('client_age_group')['loan_granted'].sum()\n",
    "plt_count_loan1 = base_table.loc[base_table['account_year'] == 1996].groupby('client_age_group')['card_issued_97'].sum()\n",
    "plt_count_loan.plot.bar()"
   ]
  },
  {
   "cell_type": "markdown",
   "id": "dfde189f",
   "metadata": {},
   "source": [
    "# Number of Loans granted per age groups\n"
   ]
  },
  {
   "cell_type": "code",
   "execution_count": 302,
   "id": "f60a1524",
   "metadata": {},
   "outputs": [
    {
     "data": {
      "text/plain": [
       "<AxesSubplot:xlabel='client_age_group'>"
      ]
     },
     "execution_count": 302,
     "metadata": {},
     "output_type": "execute_result"
    },
    {
     "data": {
      "image/png": "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\n",
      "text/plain": [
       "<Figure size 432x288 with 1 Axes>"
      ]
     },
     "metadata": {
      "needs_background": "light"
     },
     "output_type": "display_data"
    }
   ],
   "source": []
  },
  {
   "cell_type": "code",
   "execution_count": 305,
   "id": "2cb779eb",
   "metadata": {},
   "outputs": [
    {
     "data": {
      "text/plain": [
       "client_age_group\n",
       "10    1573.0\n",
       "20    3353.0\n",
       "30    7310.0\n",
       "40    4140.0\n",
       "50    6956.0\n",
       "60    1483.0\n",
       "Name: loan_granted, dtype: float64"
      ]
     },
     "execution_count": 305,
     "metadata": {},
     "output_type": "execute_result"
    }
   ],
   "source": [
    "plt_count_loan"
   ]
  },
  {
   "cell_type": "code",
   "execution_count": 309,
   "id": "f095f014",
   "metadata": {},
   "outputs": [],
   "source": [
    "plt_count_loan_M = base_table.loc[base_table['client_gender'] == \"M\"].groupby('client_age_group')['loan_granted'].sum()\n",
    "plt_count_loan_F = base_table.loc[base_table['client_gender'] == \"F\"].groupby('client_age_group')['loan_granted'].sum()\n",
    "\n"
   ]
  },
  {
   "cell_type": "code",
   "execution_count": null,
   "id": "84147e65",
   "metadata": {},
   "outputs": [],
   "source": []
  },
  {
   "cell_type": "markdown",
   "id": "3c73664d",
   "metadata": {},
   "source": [
    "# Loans issued on the basis of months\n"
   ]
  },
  {
   "cell_type": "code",
   "execution_count": 416,
   "id": "148adf5f",
   "metadata": {},
   "outputs": [
    {
     "data": {
      "text/plain": [
       "<AxesSubplot:xlabel='loan_month', ylabel='Frequency'>"
      ]
     },
     "execution_count": 416,
     "metadata": {},
     "output_type": "execute_result"
    },
    {
     "data": {
      "image/png": "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\n",
      "text/plain": [
       "<Figure size 432x288 with 1 Axes>"
      ]
     },
     "metadata": {
      "needs_background": "light"
     },
     "output_type": "display_data"
    }
   ],
   "source": [
    "plt_count_loan = base_table.loc[base_table['account_year'] == 1996].groupby('loan_month')['loan_granted'].sum()\n",
    "plt_count_loan.plot.bar()\n",
    "\n",
    "\n",
    "plt_count_loan.plot.hist()"
   ]
  },
  {
   "cell_type": "code",
   "execution_count": 403,
   "id": "b80b69b1",
   "metadata": {},
   "outputs": [
    {
     "data": {
      "text/plain": [
       "<AxesSubplot:xlabel='loan_month'>"
      ]
     },
     "execution_count": 403,
     "metadata": {},
     "output_type": "execute_result"
    },
    {
     "data": {
      "image/png": "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\n",
      "text/plain": [
       "<Figure size 432x288 with 1 Axes>"
      ]
     },
     "metadata": {
      "needs_background": "light"
     },
     "output_type": "display_data"
    }
   ],
   "source": [
    "plt_count_loan.plot.line()"
   ]
  },
  {
   "cell_type": "markdown",
   "id": "929f61c5",
   "metadata": {},
   "source": [
    "# Card and loan issued for age groups in one chart. Need to add 0 for not issued (1996)"
   ]
  },
  {
   "cell_type": "code",
   "execution_count": 340,
   "id": "5ee87aac",
   "metadata": {},
   "outputs": [
    {
     "name": "stderr",
     "output_type": "stream",
     "text": [
      "No handles with labels found to put in legend.\n"
     ]
    },
    {
     "data": {
      "image/png": "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\n",
      "text/plain": [
       "<Figure size 432x288 with 1 Axes>"
      ]
     },
     "metadata": {
      "needs_background": "light"
     },
     "output_type": "display_data"
    }
   ],
   "source": [
    "fig, ax = plt.subplots()\n",
    "ax.plot(base_table['client_age_group'], base_table['loan_granted'], label=\"\")\n",
    "ax.plot(base_table['client_age_group'], base_table['card_issued_97'], label=\"\")\n",
    "ax.legend()\n",
    "\n",
    "plt.show()"
   ]
  },
  {
   "cell_type": "code",
   "execution_count": 321,
   "id": "66c64365",
   "metadata": {},
   "outputs": [
    {
     "data": {
      "text/plain": [
       "array([nan,  1.])"
      ]
     },
     "execution_count": 321,
     "metadata": {},
     "output_type": "execute_result"
    }
   ],
   "source": [
    "base_table['card_issued_97'].unique()"
   ]
  },
  {
   "cell_type": "code",
   "execution_count": 415,
   "id": "6689598f",
   "metadata": {},
   "outputs": [],
   "source": [
    "\n",
    "Values = base_table.loc[base_table['card_issued_97'] == 1].groupby('client_age_group')['loan_granted'].count()\n"
   ]
  },
  {
   "cell_type": "markdown",
   "id": "3f7a455f",
   "metadata": {},
   "source": [
    "# Loan Issued based on unemployment rate and committed crimes"
   ]
  },
  {
   "cell_type": "code",
   "execution_count": 358,
   "id": "40992c67",
   "metadata": {},
   "outputs": [
    {
     "data": {
      "text/plain": [
       "<seaborn.axisgrid.FacetGrid at 0x29cd60df5b0>"
      ]
     },
     "execution_count": 358,
     "metadata": {},
     "output_type": "execute_result"
    },
    {
     "data": {
      "image/png": "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\n",
      "text/plain": [
       "<Figure size 433.75x360 with 1 Axes>"
      ]
     },
     "metadata": {
      "needs_background": "light"
     },
     "output_type": "display_data"
    }
   ],
   "source": [
    "sns.lmplot(data=base_table, x=\"unemploymant_rate_96\", y=\"committed_crimes_96\", hue=\"loan_granted\")"
   ]
  },
  {
   "cell_type": "code",
   "execution_count": null,
   "id": "ee76ff3f",
   "metadata": {},
   "outputs": [],
   "source": [
    "sns.pairplot(data=base_table, hue=\"loan_granted\")"
   ]
  },
  {
   "cell_type": "markdown",
   "id": "8de39be9",
   "metadata": {},
   "source": [
    "# Entrepreneurs per 1000/ loan granted"
   ]
  },
  {
   "cell_type": "code",
   "execution_count": 385,
   "id": "5a508eb5",
   "metadata": {},
   "outputs": [
    {
     "data": {
      "text/plain": [
       "<matplotlib.collections.PathCollection at 0x29cee164ee0>"
      ]
     },
     "execution_count": 385,
     "metadata": {},
     "output_type": "execute_result"
    },
    {
     "data": {
      "image/png": "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\n",
      "text/plain": [
       "<Figure size 432x288 with 1 Axes>"
      ]
     },
     "metadata": {
      "needs_background": "light"
     },
     "output_type": "display_data"
    }
   ],
   "source": [
    "fig, ax = plt.subplots()\n",
    "ax.scatter(base_table['entrepreneurs_per_1000'],base_table['loan_granted'], alpha=0.5)"
   ]
  },
  {
   "cell_type": "markdown",
   "id": "f2410df7",
   "metadata": {},
   "source": [
    "# RFM Score based Loan and Card Issue\n"
   ]
  },
  {
   "cell_type": "code",
   "execution_count": 413,
   "id": "e4b1d776",
   "metadata": {},
   "outputs": [
    {
     "data": {
      "text/plain": [
       "<AxesSubplot:xlabel='rfm_Score'>"
      ]
     },
     "execution_count": 413,
     "metadata": {},
     "output_type": "execute_result"
    },
    {
     "data": {
      "image/png": "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\n",
      "text/plain": [
       "<Figure size 432x288 with 1 Axes>"
      ]
     },
     "metadata": {
      "needs_background": "light"
     },
     "output_type": "display_data"
    }
   ],
   "source": [
    "\n",
    "plot_rfm_loan = base_table.groupby('rfm_Score')['loan_granted'].sum()\n",
    "plot_rfm_loan.plot.line()"
   ]
  },
  {
   "cell_type": "code",
   "execution_count": 412,
   "id": "b3507849",
   "metadata": {},
   "outputs": [
    {
     "data": {
      "text/plain": [
       "<AxesSubplot:xlabel='rfm_Score'>"
      ]
     },
     "execution_count": 412,
     "metadata": {},
     "output_type": "execute_result"
    },
    {
     "data": {
      "image/png": "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\n",
      "text/plain": [
       "<Figure size 432x288 with 1 Axes>"
      ]
     },
     "metadata": {
      "needs_background": "light"
     },
     "output_type": "display_data"
    }
   ],
   "source": [
    "plot_rfm_card = base_table.groupby('rfm_Score')['card_issued_97'].sum()\n",
    "plot_rfm_card.plot.line()"
   ]
  },
  {
   "cell_type": "markdown",
   "id": "5c01cef4",
   "metadata": {},
   "source": [
    "# Account Segment"
   ]
  },
  {
   "cell_type": "code",
   "execution_count": 408,
   "id": "af105a81",
   "metadata": {},
   "outputs": [
    {
     "data": {
      "text/plain": [
       "<AxesSubplot:xlabel='account_segment'>"
      ]
     },
     "execution_count": 408,
     "metadata": {},
     "output_type": "execute_result"
    },
    {
     "data": {
      "image/png": "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\n",
      "text/plain": [
       "<Figure size 432x288 with 1 Axes>"
      ]
     },
     "metadata": {
      "needs_background": "light"
     },
     "output_type": "display_data"
    }
   ],
   "source": [
    "plt_count_loan = base_table.loc[base_table['account_year'] == 1996].groupby('account_segment')['loan_granted'].sum()\n",
    "plt_count_loan.plot.line()"
   ]
  },
  {
   "cell_type": "code",
   "execution_count": 425,
   "id": "71668ec0",
   "metadata": {},
   "outputs": [
    {
     "data": {
      "text/plain": [
       "<AxesSubplot:xlabel='account_segment'>"
      ]
     },
     "execution_count": 425,
     "metadata": {},
     "output_type": "execute_result"
    },
    {
     "data": {
      "image/png": "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\n",
      "text/plain": [
       "<Figure size 432x288 with 1 Axes>"
      ]
     },
     "metadata": {
      "needs_background": "light"
     },
     "output_type": "display_data"
    }
   ],
   "source": [
    "plt_count_card = base_table.loc[base_table['account_year'] == 1996].groupby('account_segment')['card_issued_97'].sum()\n",
    "plt_count_card.plot.line()"
   ]
  },
  {
   "cell_type": "markdown",
   "id": "47cf9af3",
   "metadata": {},
   "source": [
    "# Based on Salary"
   ]
  },
  {
   "cell_type": "code",
   "execution_count": 424,
   "id": "70a4fb52",
   "metadata": {},
   "outputs": [
    {
     "data": {
      "text/plain": [
       "<AxesSubplot:xlabel='average_salary'>"
      ]
     },
     "execution_count": 424,
     "metadata": {},
     "output_type": "execute_result"
    },
    {
     "data": {
      "image/png": "iVBORw0KGgoAAAANSUhEUgAAAX0AAAEHCAYAAABCwJb2AAAAOXRFWHRTb2Z0d2FyZQBNYXRwbG90bGliIHZlcnNpb24zLjMuNCwgaHR0cHM6Ly9tYXRwbG90bGliLm9yZy8QVMy6AAAACXBIWXMAAAsTAAALEwEAmpwYAAA4/UlEQVR4nO2de5wkZXnvf8/MLCuiGJHVECBAPOREMQmRlWA0xMg5EU2OaE5M1sSAhpM1Bk/MOcn5BOJJVHSVi5gjIosgyFUuuiKrsLvgLrAX9jIze53Z2dmd+3Xnfu/pW9Vz/qiqnuqat7qru6u6q6ae7+czn6l5+62qt2u6f/XU8z7v8xAzQxAEQYgHdbUegCAIglA9RPQFQRBihIi+IAhCjBDRFwRBiBEi+oIgCDGiodYDKMa5557LF198ca2HIQiCECmam5vHmXmNsz30on/xxRejqamp1sMQBEGIFETUq2oX944gCEKMENEXBEGIESL6giAIMUJEXxAEIUaI6AuCIMSIoqJPRBcS0ctE1EZErUT0BbP9y0Q0SESHzZ+P2Pa5hYg6iKidiD5ka7+CiI6Zr91NRBTM2xIEQRBUeAnZzAL4J2Y+SERvBNBMRC+Zr/0HM3/T3pmI3glgHYDLAPwKgF8Q0a8zswZgI4D1APYBeAHAtQC2+PNWBEEQhGIUtfSZeZiZD5rbcwDaAJxfYJfrADzFzClm7gbQAeBKIjoPwNnMvJeNfM6PAvhYpW9AEARB8E5JPn0iuhjA7wDYbzZ9noiOEtFDRPRms+18AP223QbMtvPNbWe76jzriaiJiJrGxsZKGeKKJZ3V8fF79+CV9tFaD0UQhAjjWfSJ6A0ANgH4R2aeheGqeTuAywEMA7jL6qrYnQu0L29kvp+Z1zLz2jVrlq0ijiUzixkc6pvGXdvaaz0UQRAijCfRJ6JVMAT/CWb+CQAw8wgza8ysA3gAwJVm9wEAF9p2vwDAkNl+gaJd8IBV4Syl6TUeiSAIUcZL9A4BeBBAGzN/y9Z+nq3bxwG0mNubAawjotVEdAmASwEcYOZhAHNEdJV5zOsBPOfT+1jx6OYzkaZLeUtBEMrHS/TO+wD8NYBjRHTYbPtXAJ8kosthuGh6AHwWAJi5lYieAXAcRuTPTWbkDgB8DsDDAM6EEbUjkTse0UxLX0RfEIRKKCr6zLwban/8CwX22QBgg6K9CcC7ShmgYKCbYq+Ld0cQhAqQFbkRgS33DoulLwhC+YjoRwTdFHtdRF8QhAoQ0Y8Iuvj0BUHwARH9iCCWviAIfiCiHxEsA18MfUEQKkFEPyKIpS8Igh+I6EcEK1STxdQXBKECRPQjQs7Sr/E4BEGINiL6EYFzPn2x9AVBKB8R/YhgLcoSzRcEoRJE9COCnhN9UX1BEMpHRD8isFj6giD4gIh+RMjF6dd2GIIgRBwR/YhgZdkU944gCJUgoh8RZCJXEAQ/ENGPCCL2giD4gYh+RJDoHUEQ/EBEPyJYE7ki+YIgVIKIfkSQlbiCIPiBiH5EkDh9QRD8QEQ/ImgSoC8Igg+I6EeE3ERujcchCEK0EdGPCBK1IwiCH4joRwR77RS5AQiCUC4i+hHBHr0jxbMEQSgXEX0fSGY0pLJaoOfQbEqvieoLglAmIvouLKY1pLPeQmb+/vFmfPax5kDHY/foSMy+IAjlIqLvwrr79+Kff3TEU9/h2SR2nhwLdDx2oRdLXxCEcmmo9QDCyvBMEidH5rx15uAXTdl1XhNLXxCEMhFL3wVm9izkjODj5/MmcsXSFwShTET0XdDZu5BbehxkKKUuE7mCIPiAiL4LekmWPpv7BDmepW1x7wiCUC5FRZ+ILiSil4mojYhaiegLZvs5RPQSEZ0yf7/Zts8tRNRBRO1E9CFb+xVEdMx87W4iomDeVuUYln5p4hqkBZ7v3gnsNIIgrHC8WPpZAP/EzO8AcBWAm4jonQBuBrCdmS8FsN38G+Zr6wBcBuBaAPcSUb15rI0A1gO41Py51sf34islWfpW0fIALXC760gsfUEQyqWo6DPzMDMfNLfnALQBOB/AdQAeMbs9AuBj5vZ1AJ5i5hQzdwPoAHAlEZ0H4Gxm3suGgj1q2yd0cBk+/Wyglr5tW3z6grCiaRuexTe3tSORzvp+7JJ8+kR0MYDfAbAfwNuYeRgwbgwA3mp2Ox9Av223AbPtfHPb2R5KDEvfm7habqBquXdkIlcQVi7MjFt/dhwP7OryHjZeAp5Fn4jeAGATgH9k5tlCXRVtXKBdda71RNRERE1jY8EuenKjFA+K1TdIMc5LwyDuHUFYsbx4fAR7uyaQyuqYTmR8P74n0SeiVTAE/wlm/onZPGK6bGD+HjXbBwBcaNv9AgBDZvsFivZlMPP9zLyWmdeuWbPG63vxlVJ8+hZBij6Le0cQVjyprIYNz7dhVT0prWQ/8BK9QwAeBNDGzN+yvbQZwA3m9g0AnrO1ryOi1UR0CYwJ2wOmC2iOiK4yj3m9bZ/QUZKlb/4OciJXl4lcQVjxPLynB32TCdQR4Q2vCyZhgpejvg/AXwM4RkSHzbZ/BXAbgGeI6EYAfQA+AQDM3EpEzwA4DiPy5yZmtlJQfg7AwwDOBLDF/AklOnsP2LR8/9WayBWfviCsPMbmUrh7xynU1xFSWR1nNASzjKqo6DPzbqj98QBwjcs+GwBsULQ3AXhXKQOsFZasMjOKLSfIWfoSpy8IQpl866V2JNIaVtURgkzULityXcjVpC1BxwON3pGJXEFYsbQOzeCpA/2oA5DWgv1+i+i7kIvI8SCw1Y7TF/eOIKwcmBlf/flx1NdR4IkbARF9Jfb4fC+Ts0u5d6rk3hFLXxBWDNtaR7CvaxKE6pRCFdFXkL/6tXj/asTp229EWU2c+oKwEkhlNXz9BSNEM1OlJ3gRfQUlW9VVEH37obMB+/wEQagOP7CFaFYLEX0FpcbEWz2qlYYhI+E7ghB5xuZS+M72pRDNaiGir8Cu8+zFvWPl3gnQ124/dkbcO4IQee56sR2LGQ11VU4wL6KvoOTVr1Xx6S9tBxklJAhC8LQMzuDpxn4QgEyV3bUi+gpKDY+0egQ5wWqP0xefviBEFytEs6G+OiGaTkT0Fdgt/VLq3gZ5x7bfe6ptGQiC4B9bW05jf/ckwNUJ0XQioq/A7scvZXFWOsDJmPx8+uLTF4QoksxUP0TTiYi+gvyQzeL9rYncbIBinBe9I5a+IESSh/Z0o39qsaohmk5E9BXkJzfzbulnstWqnCWWviBEjdG5JO7Z0YGGKodoOhHRV5C3IreEOP0g4+fFpy8I0eaubSeRzGiooZEPQERfCedZ1d4FNsjoHUnDIAjRpWVwBs801SZE04mIvoJ8S794f0uQA43esU8uS5y+IEQGZsatNQzRdCKir6DcjJZVm8gV0ReEyLCl5TQO1DBE04mIvgK9RPdObiI3QEvfHjoqK3IFIRqEIUTTiYi+Ai5xItciyJw49mFoMpErCJHgwd3dGKhxiKYTEX0FpdajXUrDUJ2QzSDdSIIg+MPobBLffbmj6lk0iyGir6DkkE2uxuKspW2ZyBWE8HPntnYkMxrqw2PkAxDRV1JuPv1ga+SKT18QosKxgRn8uHkAhOALnZeKiL4CLjPhWqDuHb20yWVBEGqDEaLZaoRohvCrKqKvIN+V4mEHs3+1QjZlcZYghJcXjp1GY88UACCM31QRfQWl5rnJpWGoUmplce8IQjjJC9EMmVvHQkRfQd7qVw//OMsFFGzlLHHvCELYeXB3NwanwxWi6UREX0GpRcirUjnLbumH1IIQhDgzMmtk0QxbiKYTEX0F+fVove9Xveid8H6gBCGu3LmtHals+EI0nYjoK8jz6Xuw3q3uQVrgdpeO+PQFIVyEOUTTiYi+gnJj4oO0wFkmcgUhlDAzvvKzVqwKaYimExF9BaW6UqqSWjnv6SMCnyxBiAnPHxtGU294QzSdiOgr0EPu05foHUEIB1EI0XQioq8gf/VrKXH6VYrekYlcQQgF39/VhaHpZKhDNJ0UFX0ieoiIRomoxdb2ZSIaJKLD5s9HbK/dQkQdRNRORB+ytV9BRMfM1+4mCu9VKjW5mWWEB2mBa5KGQRBCxchsEt99uTP0IZpOvFj6DwO4VtH+H8x8ufnzAgAQ0TsBrANwmbnPvURUb/bfCGA9gEvNH9UxQwGXO5EbqKVfWhI4QRCC5Y6t0QjRdFJU9Jl5J4BJj8e7DsBTzJxi5m4AHQCuJKLzAJzNzHvZUNRHAXyszDEHTqmuFEbwK3Il4ZoghIcj/dPYdDAaIZpOKvHpf56IjprunzebbecD6Lf1GTDbzje3ne1KiGg9ETURUdPY2FgFQyyP/EgZ7/sFO5G7tC2iLwi1wyp0vqqeQlHztlTKFf2NAN4O4HIAwwDuMttVDzpcoF0JM9/PzGuZee2aNWvKHGL5lB6yafwO1NLPi94J7DSCIBThZ0eH0WyGaEZQ88sTfWYeYWaNmXUADwC40nxpAMCFtq4XABgy2y9QtIeSvBq5XiZyzd9Bi7515xSfviDUhmRGwzciFqLppCzRN330Fh8HYEX2bAawjohWE9ElMCZsDzDzMIA5IrrKjNq5HsBzFYw7UPItfQ87VDl6x8uNSBAE/7l/ZxeGZ6IVoumkoVgHInoSwAcAnEtEAwC+BOADRHQ5DLnrAfBZAGDmViJ6BsBxAFkANzGz5RX/HIxIoDMBbDF/Qkm+/9y7LyVIC1y3nGTsrW6vIAj+cnomiXtf6UB9HSIVoumkqOgz8ycVzQ8W6L8BwAZFexOAd5U0uhpReo3cKkfviOgLQtW5Y9sJpLM6GuoIWiS9+QayIldBXpy+pyIqxu8gLXC7Tz+qC3Jv/dlxPHmgr9bDEISSOdw/jZ8cHIxkiKaTopZ+HMlz75Qg5EFG1djHFFX3zo+a+8HM+OSVv1rroQiCZ5gZt5pZNFdCASOx9BWUm9EyeEufAj9PUKSyGuaS2chGPAjxZfORIRzsmwYQzRBNJyL6Ckq19K0eQUbV2I8dxeCdifk0AEQi37ggWCymNdy25USkQzSdiOgrKLUIea4wejWidxDNkM3x+RSApUlvQYgCKyFE04mIvgK7+8SLK8XqEaQVax9HFIUzJ/rRG7oQU4ZnFrHx1fAXOi8VEX0F9ugYT2GY1uKsABWNIx69MzaXqvUQBKEk7tjajnRWj1wWzWKI6Csot0pVsJa+7TzBnSYwxk2fviBEgUN9U3j20MoI0XQioq/ALt6efPrm7yCjauxPEVH06YulL0SFqGfRLIaIvgK9xMVZFhyoe2cpVWkUffpjuYlcQQg3m48M4dAKCtF0IqKvID9ks7ADnfMmfYMakXNyObjzBMW4WPpCBEiks/jGCgvRdCKir6DkLJsmQfr02RayGcUImFERfSEC3L+zC6dnkrmFkCsREX0FpcTpc94Ea3WKqETSvWOJfhTvWEIsGJ5ZxH2vGIXO0yu4UpGIvoJSUivbJaxqcfoR081kRsN8KlvrYQhCQW7fcgJpbeWFaDoR0VdQSmlCzhPj6tTIjZroTyxIuKYQbg72TeGnh4dWZIimExF9BXkZLYu5d+z7BTMc4zy2xVlRc+/YJ3GjNXIhDug649afrdwQTSci+gryfPqlmNVBT+QqtqOAxOgLYWbzkSEc7p8GEA+jRERfQb57p1jIpn27OhO5UcPKuyMIYcMI0Yx2ofNSEdFXYH/EKxayaXe1BPmRqdbNJQhE9IWw8r1XuzAym0LdCg7RdCKir0AvYXK2GvrLbN5azPSu0ZJ8w71TF5/vlBARhqYX8b1XjRDN1AoO0XQioq+g1Nw7qv38JOqTS5JsTQgjt289gYzGsTNIRPQV2CN2SpnIDUqbnf78iHl3MDqXjPyNS1hZNPdO4bnDQwA4Nr58CxF9Bfkhm4X7VkOAozyJCxjunaVwU0GoLbq+srNoFkNEX0EplbOqETPvHELUPqdj8ynUW8/QURu8sOL46eFBHIlRiKYTEX0FXIroO14OIte9Na8QRddjMqNhIaWhLm6OUyGUJNJZ3L7Cs2gWQ0RfQZ57p0TXShAlE1VjiErYphWuKZIvhIH7XunEyFwKtIIKnZeKiL6C/CpVhfs6pbeUaB+vWIdkXt4WdqzVuFGs9iWsLAanF/G9nV1GFs0VVOi8VET0FeStyC3q3sl/PQjRV1n1QZwnCKxwzUxExiusXG7fcgLZGIZoOhHRV1BKnptlln4g7h1zg+xt0RBRWY0rhIHm3klsPhLPEE0nIvoK7K6IUsSVAGgBfKCsMZDtFhMVS1+SrQm1RtcZX4lRFs1iiOgr0O1FyEuM3gnE0ld8UoM4TxCMz+enYIjGqIWVxLOHBnF0YAaAfP4AEX0lpRQhn0lk8v4OdCLX/JsQnYlRce8ItWQhlcUdW09gVV18QzSdFBV9InqIiEaJqMXWdg4RvUREp8zfb7a9dgsRdRBROxF9yNZ+BREdM1+7m0IcM8W8ZOoXcu8MTi/i6jtfzmsLRvQdqh/QeYJgdC4VubQRwsrhvlclRNOJF0v/YQDXOtpuBrCdmS8FsN38G0T0TgDrAFxm7nMvEdWb+2wEsB7ApeaP85ihId+9495P5a8OVPTt54mIko7NpiRIX6gJA1MJ3G+FaMYoi2Yxioo+M+8EMOlovg7AI+b2IwA+Zmt/iplTzNwNoAPAlUR0HoCzmXkvG07yR237hA6vqZUzig9SMCGby9uKrR8IC2PzKdSLlSXUgNu2nEBWZ/FhOyj3eryNmYcBwPz9VrP9fAD9tn4DZtv55razPZTkr8h175dxLPBgBGOBWzcS+5GjYOknMxoSaUnBIFSfpp5J/PzoMMAsa0Qc+H0TVH27uUC7+iBE64moiYiaxsbGfBucV+zWfaGPi+qRMYgJVpV7JwoTuZb7SyRfqCZGiGarhGi6UK7oj5guG5i/R832AQAX2vpdAGDIbL9A0a6Eme9n5rXMvHbNmjVlDrF8vGbZVEUDZAOM3rEThYncMTNyJwpjFVYOPzk0iGODswAkRFNFuaK/GcAN5vYNAJ6zta8jotVEdAmMCdsDpgtojoiuMqN2rrftEzrsGhUOn35+9E5QbiS/GTct/SBuhIKgIheiGeMsmsVoKNaBiJ4E8AEA5xLRAIAvAbgNwDNEdCOAPgCfAABmbiWiZwAcB5AFcBMza+ahPgcjEuhMAFvMn1CSP5Hr3k8l+kGkR3DG6QMRce9IjL5QZTa+0onRuRRWN9RB7Hw1RUWfmT/p8tI1Lv03ANigaG8C8K6SRlcj8nLvFOinytQXhFWrDA2NhKUfbG3cRDqLa+56FTdf+xu47ndCGxcgVAl7iGYqxlk0iyHRTAq8W/rBT7CeOD2LTz243xpNrj0KfnJnCga/mVxIY3gmiTtfbA/uJEJk+MaWE9AkRLMocn0U6Lwkr4XKIdrdO6Ro84PBqcXcdr57x9fTBELQyday5k13ZDYZ6HmE8NPYM4nnjw4DJGm8iyGir6ASn37W58mj+VRWOZZIuHfmU8rII7+qflnXP6Mx5pKZIr2FlYquM241QzSj8ARca0T0FVQSp5/x2QRfSGnK9ih8uEdmk1AtxvXrfmV3rzX3OheNC3Fh08GBXIimUBwRfQV23S4Yspld/prfOT4SabWlH4UiKuPz6UBTMGRt/6jdHROBnUcIL/OpLO7Y2i4hmiUgoq9AZ/YU7aV07yhuBJVgd+/knSfkCaQS6SwWM+oUDH5dIfuX/FDvlE9HFaLExlc6MDafQp2s+/aMiL6C/MVZ7v3yRJ8UbT6wYPfp29r9njvwGytckxQS77dPHwC6xhd8OaYQHfonE3hgZ7cRohlyIyhMiOgr8CpKKleO/xO5ap++33MHfrOUgmH5a35dIfu1nlnM+HYzEaLBbVtOQGNGnSzCKgkRfQXlpFbOhWz6PpGrdu/4/UThN1bFrCBTMNivtc7AqIRuxob9XRN4/tgwCEAm3F+F0CGiryCrsy1O3x3VRG6Q7h07Yc9nUyhG36/Vks6nqtc6oz+ZO51Io38yUethhBpNZ9z6c6PQedi/B2FERF+BVxdNteP0gzyP3xSqjevXoi3n9d/fHf2wzS9tbsXH792DVFbt1hOATc0DaB2alanbMhHRV2B3G5Qcp++zpe8m+mEPTxubc0/BMOCTJeu81of6ox3Bw8x4rXMC4/NptJ+eq/VwQsl8Kos7tp1AQx0hHfLvQFgR0VeQl0itxBW5fi+amkuqRV8L+URuIUu/Y2zel3M4n3YGJhddekaD/snF3FNQ27CIvop7X+4IfP3HSkdEX0FG05cKoxfsF/zirKha+uPzadeqRb0T/lj6WceNbyGtRWKlshuNPUvuqZNi6S+jfzKB7++SEM1KEdFXoEqZrKIalr59RW7+ecL9oXdLwQAYKXD9QHXj6x735ymiFjTZUkl0Rvh9BMU3trRBY1au/RC8I6KvIKOxq2DZUd0c/LTAdZ2RdIlHS/u88tdvxudTqHdx6g9Ou7thZhYzmEl4S56muunuOjXubYAh5ED3ZO4J06+noZXCvq4JvHDsNAiApMqvDBF9BYZ7p7jqp/Pi9I3+TpdDJSy4WPl+n8dvFlJZJDM66lzunJPz7sVVvvDUIXx84x5PC61UEUyNEY3gmVxIo3NsAQ31xjWbkKpjOTSd8VUJ0fQNEX0FWY1h13y3wij5lr7Rx0/3TiLtHrYXZt/10iSueoxzLvMUzIzm3il0jS1gT0dxi121EK5laMbzOMNEsyN3UKH/fdz4cXO/hGj6SGxFf2oh7ZqD3T6RC7hntAzaveM2iQuEe3GWJfpuDyOpjFrQBqcXc9FKP3itp+h5VJb+yGw0LeSmnkkQLX1+sjp7nltaycwlM7hzW7uEaPpIbEV//WNNuPHhRuVrWT3fp+9WsEQVqePnBKvbalwg3Fk2rbBDtxuTxmp//PGhpZzoez2srlUdI5XVkXS5qYSZxp7JZV9GqQgGfPflTgnR9JnYiv7wTBIHeqZcrPX8Njf3sirLpp8LKaNq6Y8V8NlbTCj6HB9eEv1EWkPfROHMmRmNlY/8rRFz8SQzGo4OzIAcwnZqNN5hm30TCTy4uwv1JCGafhJb0bd8pv2K8EFNzxcTN/95Xu4dc9PXiVyXDJvGecIr+uMe0iwMzyyP4Gkbns2L+Pn+7u6Cx3B72tkdsQiew/3TyOq8LNqpbTje1aC+/kIbdAaIwvtZjyKxFX3LBXCoL38CjZmXCaqbe0flXvDTp1/IvaOF2L85Nu+egsGic3R5HHrr0GzepPnWltMFj5HV8yfcLRp7opWOoclclOVMRHdqJL6x+ns7J7C11fj/y9SGv8RW9K0v2NGBfFdATvDNR20CwC4fOmXCNR8t/ULunTAXRveS4rjHEYc+s5jBwNQiVtUvfSRH51JIFLgGaceEu8XJkWi5RRp7ppRrGrpjWhjGyKIphc6DIpain87quQ+TffIQUEeEuFr6ig+kn9kvC0/khvPLMLOYwe5T40WLnzvTB5/IuTLyd/zhgT7XY7i5dyYXis8phAVNZzT1TirXJZyO6UTuj5r6JfdQgMRS9Bdt0R19DvGxInLsbkS3kE2V6PhZRKWgeyeki7N+cnAAyayOVQ2F/TvOuRRrEtcZlvejpgHXY7jd+LI6e17VW2vaT89hIaXlPeFYROU9+Ik9RDPs+aWiSjxF37bwZTqRbxVaQs5FFmdpOisTivn5ODqf0lzTQYRxIpeZ8cS+PiOmukiaCGdO/bbhWWVY3qnROdfFcaonLQt7HpswY41TVVgmldVjVwLynpc7MLGQdk3hIVROPEXfZumnNc7zzS9ZF0tfNpW2LPPnm4Llt3vH7aMfRl/nvq5JdIzNF53EBQw3kJ3jQ7PQFSt4dQZebh9VHiOTVe1h4GVFbxhw8+cDxifQeZ1WMr0TC3hod7cRoimzt4ERT9F3LHG3+5dzYm5TE5VP361YiuZjPPF8odw7IXz0fXx/r+eVk/Ybb0bT0T4y57oA5xGX1blZXXfNfX2ob7roGGoNM+NA94Trkwyw3P24kpEQzeoQT9HPGGJqScyh/unca5aY2z92qi/lMn+jFafv4+N4IpV1tWTDlnBtdDaJrS2nXec/nGQ0zrkuOsfmkdGWx6lbHOhRu2oK+XyjEPkyOL2IkdkUVjW4fw1bh+IRq/9a5zi2tY5IFs0qEE/RT+cL+1Gb6Od85UUmcpdb+ks5Uwrx3Zc78JXNrZ7GOZ/KukbBhM2n/3RjPzSdS1oub7kurAgqt1wzyYyOU4owzKzu7t6ZSWZC7w9vMtcTFHo6jEMxFcmiWV1iKfrOwiRtti+WJTz2j57Kf+4UKC7Q185rneN4dG+Pp/ww8y6lEoFwib6mM354oA/1dVRwctWJlVumbXgWRIWrlD2oWJ1bKCEZM3B6Jtwhj409k6gjIxeRG10xKKbyjBmi6UxDIQRDLEV/0SG4vbYcL5aYWtY9w+NErkkx0c9oDI2Bb//ipOsEpcVcKus6KRqmFbk7ToxieCaJhhIjLnrGDX/18eFZ1BVJnPvS8ZFlbcVC+vZ0hnsyt7FnsmgNqL6I1/0txqw9i6b4dapCRaJPRD1EdIyIDhNRk9l2DhG9RESnzN9vtvW/hYg6iKidiD5U6eDLxWllT9nioXMhm0XdO/ltlmQVE33rg73x1S585gfqLJ8WC6msayGSMEXvPL7PmMAtNeKia3wezIzWQXXkjp2JhTRmHZEsbjdei/1d4Q3bnElkcHJkvuiNcqUXU/nujg5MSohmVfHD0v9DZr6cmdeaf98MYDszXwpgu/k3iOidANYBuAzAtQDuJaJ6H85fMs4CFemsnhP7tGoit4TonWITmaVYM4l0oTj9cFhFfRMJ7Dw5Vpb/vG8ygdOzSUwvZnCGYnGSkyf256/OddY9cHJ4YLrkMVWL5j5vN6SVXEylZ3wBD0qIZtUJwr1zHYBHzO1HAHzM1v4UM6eYuRtAB4ArAzh/UZzuHWCpWLcyDYPKp+9Mv1ygr51i1qlFVtORyuqufs6wWPpPHOgte9/+yURuEtfLTWyvw12TzhauZTw4FV7XSGPPFAjFXVQruZjK119oA0NCNKtNpaLPAF4komYiWm+2vY2ZhwHA/P1Ws/18AP22fQfMtmUQ0XoiaiKiprGxsQqHuJykwno6bCZeU4myyojNuHwRi2m6qvCKigVzjK6Ls0IQmZLKanimsR9UZDLSjdMzqVz6YC+XZdgxMVvsRpFIa6G5OToxJnG9uTTCPiFdDq91jOPF4xKiWQsqFf33MfO7AXwYwE1EdHWBvqpPuPIbycz3M/NaZl67Zs2aCoe4nERaWzaYI+ZiHpXlpRIONwutmHvHq6W/lHdHfbwwiNmWY6cxlcgo88Z4YTKRxnFHDv2C/R2J1LwUsO8IYSGSZEbDkf5pFI5XWmKlFVPRdMZXJESzZlQk+sw8ZP4eBfAsDHfNCBGdBwDmbytEZQDAhbbdLwAwVMn5y2Uxs9xXblmcKlEuZUVuMdH3upLWEn2378RCSsNBRy2AalPuBK7FQiqL1sFZzzcwZ6rprFbYvQMAu0JYUKVlcAYZjdHg8Wa50oqpPNXYh/bTEqJZK8oWfSI6i4jeaG0D+CMALQA2A7jB7HYDgOfM7c0A1hHRaiK6BMClAA6Ue/5KcKZhAIAeM2xT5TJQTVK6uWkKLakHvFv6lsC5TZB2jy/g0w8dKJhzP0jahmfR1FvZTSed1dE7mfA0iQssv+ZermWjy2reWmIVefF6s+xQFJyJKrPJDL4pIZo1paGCfd8G4Fnzbt0A4IfMvJWIGgE8Q0Q3AugD8AkAYOZWInoGwHEAWQA3MXNNQhNUE7lW2GZGkR1SpS3uln7hc3tNF2uVSnT7XjCMG8Pw9CIufdsbPR3TTx7f12ssLKrg8bzUPZmNG/aZZxhBX84C9iqc9RLCQFPPJBrqvLs2opBSwiv37OjAVCKD1Q0kvvwaUbboM3MXgN9WtE8AuMZlnw0ANpR7Tr9YzGjLJmdTZtimKh/+D/Z045Jzz8KaN67OtS0TffN4vvn0CyRby52S/S3P6JX5VBbPHho0xuDD8bxObgPA6FwSF73lLADeViWPeKjXW010ndHYM1nSRLxzAjuqdI/bs2iKL79WxHJFbiKtKcVqcGpRGZWzpeU0/vrB/XltzicC669iOuTVMi5UQMV+zlrE6z97aBCJtIZVddX/+NgzojoL2KtIZ3VPKS+qRcfYPGaTWc8uLQDLFqVFla+/0AZAQjRrTWxFX8WRgWlX69Fpebv69AtYcKqi6254EX0A+NrzbZ76+QUzL03g+phG2iunTP82M3u+gR7tnyneqUpYcwyl+LNXQjGVPR3juVQa4tapLfEUfZfiJIcHpl3F3GmcuLlpCn05S3HFzKe8WacHuifR67PP9/6dnXj2kLpMYXPvFNpPz3kqlOKFUvP19JoF1XPX0kMEyK4O/9d6lEuTWTSlFAlnANMRLp2Y1XTc+rNWCdEMCfEU/YymXBjTNjTnHlLp6O8u+u7nLcUV49XSBwyXgZ88trcXX3y2Rfna4/t6Ue+xUIoX6ku8eVjunVKuZXOFUUZ+cqB7smiEl4ooF1N5qrEf7SPzEqIZEmIp+kmXnDY9EwvKYucqnFa7F5++KjLITQDmC2TYdHLK55C+qURG6QKbmE/h+WPDvroaUiXePAanjdQK1vX3conCsrhpeGYRg9OLZS1mOx7RWP2ZxQzuelFCNMNELEVftTgLMFZ8pjX15KBTgN0+wFzgwV3lOnKL4ijF0u/x0b2T1fRc7L/zaeZHzQMFK1xVgwlzVa6qwpkbkwvhcI1YRVN0Ll38olpM5TvbT2EqkUGZi7aFAIjdv4KZjURmitdSWd1zSKVf7h23yUgvIZsW9noAlWIvxG239nWd8YTp2qlFmKjFfNIY35IbrvhYNJ0xnUgX7Rc0TWbRlHIM3i6fXXjVoGtsHj94rUdCNENG7EQ/mTG/cS7+xalEWukzcDaVNZGrcu+49J9PLV9L4Iafcdz22gL2lcuvnhpD/9QiCpRzrQrWKlZVAftCfGdHR80jYNxq/XqhL8QZQ934+gttIAClTVsLQRM70VetxrXTM76gfApw3iPcrN1CH2+le8fN0i9QFN3JlI+RHXaL2F5W8olcnp3afoF1NrJ7WlEgXkZDMMot/uUD+/OeZKrJbDKDE8NzZbvGolZMZdepMfyizUi7JUZ+uIiv6LtYfVZIoBNn5EHapYBHIWNS9XTgFoQyl8x4mqQEltf8rQT7DcRy7wxOL2LHidGaW8oWY3Mpz244YOnGsLdrAr9/+w401SAfz8HeKSN3vOf/aj4LESqmktV0KXQeYuIn+qZAun0UJxbUvl+n3rnl0y8kjMoCLS7955JZLyHoxlg0LisMUMWUzdK35hWe3N8HnT2FxFeFwenFpYncEt/2XDKLP7tvL+7YesK3a+aFJrNoSikpJ+xoOiOVjYbwP9nYj5MSohlaYij65YnFcveOrvT9l+recYs3X0i718dVMenTRKXdvTOTyCCd1fFUY1/ZE5BB0DGytJ6iULSUCsPaBu59pRP/7Z7dGJ2rTl6bxp5J1FUY9TQyE34Xj4Rohp/4ib7p3im0hF/1ivOxPKNxydnGSnHvLKa1kla9+lUa0O7emU5k8OLx0xifT5ddKCUIeiYSuZtlGdGPuX9b69Asrr7jZWxvG/FvcArSWR2H+qdLtzQcnBwJf9jm3dtPYVpCNENN7P41iSLuHbcXnRal22N6wZBNj+6djKYjo3FJj8edY/4IQp6ln0xXXCglCPomE0ibs4OVjiqV0XHjI024edNRzwvzSqVlaAbprO65aIobYS+m0jU2j4clRDP0xE70vWRcVH1cl/n0yxAItaW//GylLMyy6Bj1J1Z/yraQqXNsAfu6wleEZHBq0bfsotbVf6qxHzc8dCCQyWpr4rjSG2dnyGP1NzwvIZpRIHai75ZhsxjOePqMpqtvDgWO4TVkc75IfVwVfi3Qsk/k7jw5BqLiNQKqzfh8ynPZyVLY0zmBmzcd8/24jT1TJSeWU9EV4mIqO0+OYfsJCdGMArET/WJx+l4pZ5JKJVSqkDarahazd6Ho98mnby8+PjSdBKF4jYBqM5vMlvWk5YWnm/px3yudvh2PmdHYPelLIfvTIS2mktV0fO15CdGMCvETfZ8s/UKhd26hgEr3jsKKtix9rYRZytFZfyI7phLpvCnrhhoUSimGfXFWENy29QS2HBv25VidYwuYXszgDB+WMoe1mMqTB/okRDNChO8bHTDlir5TYtIu+XsA99h7r+4dy6dfijE7m6xcEJgZ04lMXmhhuXHlQaLp3uZmKuGmHx7EkYHpio/TVEbRFDfCWExlJpHBXS+dlBDNCBE/0S9TLJxGd6EPuNujvMrSLyT6peCHCCbShgVt5bivZTbNYkwFnDlTZ+DP79uL4enK3GaNZRRNcSOMxVS+vf0UZhIZhPCBUHAhdv+qhEsu/WI4v7RGSKW6r9vEp8qnX8i9UwpWTppKsCZxrcd0P/zQQTE2H7x/O5XV8eG7d+Uye5ZDY095RVPc8DOjaqV0jM7jkb09qKtDLoRWCD+xE/1kRisr+4nzsdpw76iP5DbJqGpXT+SWl0vH6ddfSGVLEm7LigxbtI6KvsnqZJ2cTmTw0Xv2lBXDPzqbRN9kwteFbWGK1beyaEqEZrSIneiX7d6xbzMjnXV/YvjWi6eU7Sr/uDJOv8x5hz6bFajpjA/e9Qr+4M6XcdSjb9oS/SDCIf1mqEK3Syl0jS+UFcPfZJZpLGVCvhjtIViVu5DK4qHd3dhhhmhG4OMi2Iid6CfSWlmGif0L/50dHZgs4Ft9fH+vUiCUIZuKG0E57h0AOGkrm9g1No+R2RQGphbx0Xv24N+faynq97fcO1H4DlcrZ47Fns4JfPGn6rrBbjSaRVP8nAvvHKuNe0fXGa91juOfnjmCtV/7BW79+XE01EmIZhRpqPUAqk0yo5WlapaGazrjsX29ANSuGavPM039+Iv3/Gpeu1f3TsKsj1vq98leXenowAyApZxwj+7txZaW0/jep67Auy96s3L/MFSX8kotJjR/uL8PF7/l9Vh/9ds99Q8ihXP/VHULpPdOLGBT8wA2HRzE4PSiMSnNjDPq60IZ2SUUJ3ain0iVaembv/d2TmBsrnhM/N3bTy0TfSsHv/38Kut/PlWme2dySRCODkwvu3GMz6Xwpxtfw7r3XIgvf/QyvG5Vfd7+fhZjCZpyV1ZXytdfOIGL3nIWPnTZLxfsN5/KonVoFnVEvs6RTM4Hf2OeTWbwwtFhbDo4gEazrm89EVY3LOXUEcGPLvET/TILjlhf22cPDXrqPzidROfYPN6+5g25tqzGcKp+xseJ3MGpJZeHZenbsdIKP9XYj+1to3jpf1+NX3r9GbnXpxJpEFWcDHLF87nHm7H58+/Hu85/k2ufw33T0Bm+l5cMqpiKpjP2dIxj08EBbG05jVRWR0MdoaHOuGlpzND8q9Uj1JBY+vTLCT9nZiymNWxp8b5S86s/O573d0ZRbSujLf8SL6SzZQnvxEIqd57W4VnlRLN12LH5FP7Ho015r00nvFfrCgO1GqvOwH/f+FrBtAiN1qIsn2c5/S6m0jE6j9u3nsDv3bYd1z90AD8/OoyMpuMMM6VCVufQpeEQKiOGlr5mhlqWWHyDgZfaRnI3DS9fhJ2nxpDJ6lhlmnsqn76q1u580nt9XDuWFXhqZB7prI7VDVQwZLOpZwpNvZNYe9E5AAxLX77f3khldXzk27uw618+gLNWr1r2elPvJOrrCl//cjk9ncRF555V9v4ziQw2Hx3CpuYBHO6fNjJjErC6oS6XCdTvm5UQHmJn6SczGqiMd80Afnpo0Hzc9baPzsDGVztyf6sEXtU2l8qWZcWmzWX6VoimlwUzn3/iUG57aiEdKddOrYc6mUjjOkUMf0bTcbB3OrCUCSdHSw/bzGo6dpwYwU1PHMTaDS/h337agpbBGTTUkZlJtfLUz0I0iJ/oZ7Wy3rSm63j15FjJX+SH9vTkttVpGBQhm8nSSiXamV3M4ujgDOrImyienk3i8b1GNNLkQros11ec6RhbwGcebsz7XLQNz2Ixo2FVfTAXs23Yu+ifOD2LDc8fx3u/sQN/83ATtrWehqYzzmgQ901ciZXoazoblnUZgjqXNFa3UomqOJ3IoLHb8O+qcvCrLP2FtPei6E6GZxZxdGC6JCv4q88fRyarYSqRKftmE2d2nRrHvz+3FMNvRbwEVT2qs4ilP7mQxg/2dONP7t6Fa//fLnx/VzcmFlJY3VCXE3lJmxBfYuXTt1bjliNrRiQGlbVa9WvPH8dzn3+/8UVz7O50DTAzEmkN5RqJJ07P4cTwHOqJkPX4VJLK6rjl2RbMp7I4IyDrdKXz2L4+XHzuG3Dj+y9BU89koAuXusaXx+qnszpebh/FpuYB7DgxiqzOaKgjI8e9xuK+EXJUXfSJ6FoA3wZQD+D7zHxbtc5dbrhmpRwdmMHsYkZZ4s9p6aeyOjSdUd9Qh3K81rs7xpHVOWfVeeXHzQMArGRrYgWWw1d/fhwXnXMmDvT4UzTFjZFZI2qImdE6NIsfNw/gucODmEpkciGWq+pJ+RQpCFUVfSKqB/BdAP8VwACARiLazMzHC+/pD8m0IbrlTrCVu8iGAdy57YTSveO8EVgx+uXa2wd7LddCeVZd2PK1R42/fawZzPmRMH4znUjjgZ1d+PHBAbSfnsvNw9jPqYvgCy5U29K/EkAHM3cBABE9BeA6AL6L/g0PHUDH6HyeUFuumXKNsEqMt8f39SmzLd65rR2PmhOpwFI643Itxa7xhTICUpeQXCqVYX3cgiwoktYYG8wMl/bwYXHfrCyCynZbbdE/H0C/7e8BAL/r7ERE6wGsN/+cJ6J2c/tcAOMez0Vn/PJ/erfbi6zryhUuVFdXb3/d+tu5j71d1T+vL4FAS2UmWNc1+/5ua3zdxug8v7YwrdedeTbnjYmZmUtL76gae1jJvVdmnRWPJ/riLNWdeXbV72BERCAjKDio6+j2mfRCra5L2AnpdeEPfmPoJGeS5aaUvUjVWG3RV3ktll1oZr4fwP3LdiZqYua1QQwsyhBRU3Z2TK6LDbkmauS6qInTdal2yOYAgAttf18AYKjKYxAEQYgt1Rb9RgCXEtElRHQGgHUANld5DIIgCLGlqu4dZs4S0ecBbIMRsvkQM7eWcIhlLh8BgFwXFXJN1Mh1UROb60ISoicIghAfYpWGQRAEIe6I6AuCIMSImos+Ef0vImolohYiepKIXkdE5xDRS0R0yvz9Zlv/W4iog4jaiehDtvYriOiY+drdRNHNHEZEXzCvRysR/aPZFrtrQkQPEdEoEbXY2ny7DkS0moieNtv3E9HFVX2DZeJyXT5hfl50Ilrr6B/n63InEZ0goqNE9CwR/ZLttVhcl2Uwc81+YCzW6gZwpvn3MwA+DeAOADebbTcDuN3cfieAIwBWA7gEQCeAevO1AwDeC2MtwBYAH67le6vgmrwLQAuA18OYaP8FgEvjeE0AXA3g3QBabG2+XQcAfw/gPnN7HYCna/2eK7gu7wDwnwG8AmCtrT3u1+WPADSY27fH8fPi/Km5pQ9D2M4kogYYQjcEIzXDI+brjwD4mLl9HYCnmDnFzN0AOgBcSUTnATibmfey8R951LZP1HgHgH3MnGDmLIBXAXwcMbwmzLwTwKSj2c/rYD/WjwFcE4WnIdV1YeY2Zm5XdI/7dXnR/B4BwD4Ya4OAGF0XJzUVfWYeBPBNAH0AhgHMMPOLAN7GzMNmn2EAbzV3UaVxON/8GVC0R5EWAFcT0VuI6PUAPgJjQVucr4kdP69Dbh9TGGYAvCWwkdcGuS5L/A0Myx2I8XWpqeib/tjrYDxe/QqAs4joU4V2UbRxgfbIwcxtMB5DXwKwFcYjaKGc0Cv+mniknOsQh2sk1wUAEX0RxvfoCatJ0S0W16XW7p3/AqCbmceYOQPgJwB+D8CI+ZgF8/eo2d8tjcMAlh7b7O2RhJkfZOZ3M/PVMB5XTyHm18SGn9cht4/pXnwTlruTok7srwsR3QDgTwD8lemyAWJ8XWot+n0AriKi15u+sWsAtMFIzXCD2ecGAM+Z25sBrDNn0S+BMcF5wHzMnyOiq8zjXG/bJ3IQ0VvN378K4E8BPImYXxMbfl4H+7H+DMAOmyisFGJ9Xcgo2vQvAD7KzPaSY/G9LrWeSQbwFQAnYPiyH4Mxm/4WANthWLjbAZxj6/9FGDPt7bBFowBYax6jE8A9MFcbR/EHwC4YNQaOALjGbIvdNYFxsxsGkIFhZd3o53UA8DoAP4IxiXcAwK/V+j1XcF0+bm6nAIwA2CbXBTea76EfwGHz5764XRfnj6RhEARBiBG1du8IgiAIVUREXxAEIUaI6AuCIMQIEX1BEIQYIaIvCIIQI0T0BUEQYoSIviCEBCJ6xZkWWRD8RkRfiC1EVF/rMVRC1Mcv1AYRfSEyENFPiajZLBaynog+R0R32F7/NBF9x9z+FBEdIKLDRPQ9SyCJaJ6IbiWi/QDeS0T/TkSNZBStud9WMOM9ZuGNvWYhjhazvd78u9F8/bMFxnseEe00x9BCRL9vtm8koibzfXzFZV9lHyLqMce8G8DNRHTQ9tqlRNRcyTUWVj4i+kKU+BtmvgLGMvl/gJGg709tr/8FgKeJ6B3m9vuY+XIAGoC/MvucBaPIxu8y824A9zDze5j5XQDOhJGYCwB+AODvmPm95v4WN8JIAf4eAO8B8Ldm7hYVfwkjHcLlAH4bRhoAAPgiM68F8FsA/oCIfkuxb6E+SWZ+PzNvADBDRJeb7Z8B8LDLWAQBgIi+EC3+gYiOwCiGcSGMlNxdZnKst8CoHLUHRuK+KwA0EtFh8+9fM4+hAdhkO+YfmqXvjgH4IIDLyCip90Zmfs3s80Nb/z8CcL153P0wcgFd6jLeRgCfIaIvA/hNZp4z2//ctNAPAbgMRhUnJ4X6PG3b/r55jnoYNzr7WAVhGQ21HoAgeIGIPgAjFfd7mTlBRK/ASID1NIA/h5G071lmZtNF8wgz36I4VJKZNfOYrwNwL4zygv2mOL8O6rzpuaEA+J/MvK3YmJl5JxFdDeCPATxGRHfCSKb3zwDew8xTRPSweU77e72kSJ8F2/YmAF8CsANAMzNPFBuXEG/E0heiwpsATJmC/xsArjLbfwKjnN0nsWQBbwfwZ7YU1ecQ0UWKY1pCOk5Eb4CRLhfMPAUzva75+jrbPtsAfI6IVpnH/nUiOks1YPOco8z8AIAHYdRvPRuGaM8Q0dsAfFixq5c+MMeaNMe0EYZLShAKIpa+EBW2Avg7IjoKIxXuPsAQaCI6DuCdzHzAbDtORP8XwItEVAcj1e5NAHrtB2TmaSJ6AMAxAD0w3DEWNwJ4gIgWYBQbnzHbvw/gYgAHzSeKMbjXHv4AgP9DRBkA8wCuZ+ZuIjoEoBVAFwx3VB7MfKRYHwdPwJjbeLFIP0GQ1MqCoIKI3sDM8+b2zQDOY+Yv1HhYSojonwG8iZn/rdZjEcKPWPqCoOaPiegWGN+RXgCfru1w1BDRswDeDmMSWhCKIpa+IFQIEf0mjKpvdlLM/Lu1GI8gFEJEXxAEIUZI9I4gCEKMENEXBEGIESL6giAIMUJEXxAEIUb8fzsfYfkMo2/2AAAAAElFTkSuQmCC\n",
      "text/plain": [
       "<Figure size 432x288 with 1 Axes>"
      ]
     },
     "metadata": {
      "needs_background": "light"
     },
     "output_type": "display_data"
    }
   ],
   "source": [
    "plt_count_card_sal = base_table.loc[base_table['account_year'] == 1996].groupby('average_salary')['card_issued_97'].sum()\n",
    "plt_count_card_sal.plot.area()"
   ]
  },
  {
   "cell_type": "code",
   "execution_count": 426,
   "id": "bebac95f",
   "metadata": {},
   "outputs": [
    {
     "data": {
      "text/plain": [
       "<AxesSubplot:xlabel='average_salary'>"
      ]
     },
     "execution_count": 426,
     "metadata": {},
     "output_type": "execute_result"
    },
    {
     "data": {
      "image/png": "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\n",
      "text/plain": [
       "<Figure size 432x288 with 1 Axes>"
      ]
     },
     "metadata": {
      "needs_background": "light"
     },
     "output_type": "display_data"
    }
   ],
   "source": [
    "plt_count_loan_sal = base_table.loc[base_table['account_year'] == 1996].groupby('average_salary')['loan_granted'].sum()\n",
    "plt_count_loan_sal.plot.area()"
   ]
  },
  {
   "cell_type": "code",
   "execution_count": 432,
   "id": "d3f482a9",
   "metadata": {},
   "outputs": [
    {
     "data": {
      "text/plain": [
       "170"
      ]
     },
     "execution_count": 432,
     "metadata": {},
     "output_type": "execute_result"
    }
   ],
   "source": [
    "len(base_table[\"account_id\"].unique())"
   ]
  },
  {
   "cell_type": "code",
   "execution_count": 438,
   "id": "2324dace",
   "metadata": {},
   "outputs": [
    {
     "name": "stdout",
     "output_type": "stream",
     "text": [
      "<class 'pandas.core.frame.DataFrame'>\n",
      "RangeIndex: 682 entries, 0 to 681\n",
      "Data columns (total 13 columns):\n",
      " #   Column           Non-Null Count  Dtype  \n",
      "---  ------           --------------  -----  \n",
      " 0   loan_id          682 non-null    int64  \n",
      " 1   loan_account_id  682 non-null    int64  \n",
      " 2   loan_date        682 non-null    int64  \n",
      " 3   loan_amount      682 non-null    int64  \n",
      " 4   loan_duration    682 non-null    int64  \n",
      " 5   loan_payments    682 non-null    float64\n",
      " 6   loan_status      682 non-null    object \n",
      " 7   loan_year        682 non-null    int32  \n",
      " 8   loan_month       682 non-null    int32  \n",
      " 9   loan_day         682 non-null    int32  \n",
      " 10  cur_loan_Status  682 non-null    object \n",
      " 11  loan_category    682 non-null    object \n",
      " 12  loan_granted     196 non-null    float64\n",
      "dtypes: float64(2), int32(3), int64(5), object(3)\n",
      "memory usage: 61.4+ KB\n"
     ]
    }
   ],
   "source": [
    "loan.info()"
   ]
  },
  {
   "cell_type": "code",
   "execution_count": 439,
   "id": "f457127d",
   "metadata": {},
   "outputs": [
    {
     "name": "stdout",
     "output_type": "stream",
     "text": [
      "<class 'pandas.core.frame.DataFrame'>\n",
      "RangeIndex: 892 entries, 0 to 891\n",
      "Data columns (total 10 columns):\n",
      " #   Column             Non-Null Count  Dtype          \n",
      "---  ------             --------------  -----          \n",
      " 0   card_id            892 non-null    int64          \n",
      " 1   card_disp_id       892 non-null    int64          \n",
      " 2   card_type          892 non-null    object         \n",
      " 3   card_issued        892 non-null    object         \n",
      " 4   card_issued_year   892 non-null    int32          \n",
      " 5   card_issued_month  892 non-null    int32          \n",
      " 6   card_issued_day    892 non-null    int32          \n",
      " 7   card_date_issued   892 non-null    object         \n",
      " 8   card_LOR           892 non-null    timedelta64[ns]\n",
      " 9   card_issued_97     242 non-null    float64        \n",
      "dtypes: float64(1), int32(3), int64(2), object(3), timedelta64[ns](1)\n",
      "memory usage: 59.4+ KB\n"
     ]
    }
   ],
   "source": [
    "card.info()"
   ]
  },
  {
   "cell_type": "code",
   "execution_count": 447,
   "id": "fccba184",
   "metadata": {},
   "outputs": [
    {
     "data": {
      "text/plain": [
       "1720        1\n",
       "182         2\n",
       "4072        3\n",
       "2426        4\n",
       "3976        5\n",
       "        ...  \n",
       "1320    11333\n",
       "1827    11349\n",
       "1468    11359\n",
       "2090    11362\n",
       "1974    11382\n",
       "Name: account_id, Length: 4500, dtype: int64"
      ]
     },
     "execution_count": 447,
     "metadata": {},
     "output_type": "execute_result"
    }
   ],
   "source": [
    "account[\"account_id\"].sort_values()"
   ]
  },
  {
   "cell_type": "code",
   "execution_count": 441,
   "id": "917f8e1c",
   "metadata": {},
   "outputs": [
    {
     "data": {
      "text/html": [
       "<div>\n",
       "<style scoped>\n",
       "    .dataframe tbody tr th:only-of-type {\n",
       "        vertical-align: middle;\n",
       "    }\n",
       "\n",
       "    .dataframe tbody tr th {\n",
       "        vertical-align: top;\n",
       "    }\n",
       "\n",
       "    .dataframe thead th {\n",
       "        text-align: right;\n",
       "    }\n",
       "</style>\n",
       "<table border=\"1\" class=\"dataframe\">\n",
       "  <thead>\n",
       "    <tr style=\"text-align: right;\">\n",
       "      <th></th>\n",
       "      <th>account_id</th>\n",
       "      <th>account_district_id</th>\n",
       "      <th>account_frequency</th>\n",
       "      <th>account_date</th>\n",
       "      <th>account_year</th>\n",
       "      <th>account_month</th>\n",
       "      <th>account_day</th>\n",
       "      <th>account_lor</th>\n",
       "      <th>disp_id</th>\n",
       "      <th>disp_client_id</th>\n",
       "      <th>...</th>\n",
       "      <th>district_trans_kymbol_amount</th>\n",
       "      <th>district_trans_operation_count</th>\n",
       "      <th>district_trans_operation_amount</th>\n",
       "      <th>district_trans_type_count</th>\n",
       "      <th>district_trans_type_amount</th>\n",
       "      <th>district_card_type_count</th>\n",
       "      <th>district_loan_status_count</th>\n",
       "      <th>district_loan_status_amount</th>\n",
       "      <th>district_account_frequency_count</th>\n",
       "      <th>district_account_frequency_count</th>\n",
       "    </tr>\n",
       "  </thead>\n",
       "  <tbody>\n",
       "    <tr>\n",
       "      <th>0</th>\n",
       "      <td>10065</td>\n",
       "      <td>76</td>\n",
       "      <td>POPLATEK MESICNE</td>\n",
       "      <td>960330</td>\n",
       "      <td>1996</td>\n",
       "      <td>3</td>\n",
       "      <td>30</td>\n",
       "      <td>1</td>\n",
       "      <td>12070</td>\n",
       "      <td>12378</td>\n",
       "      <td>...</td>\n",
       "      <td>NaN</td>\n",
       "      <td>22.0</td>\n",
       "      <td>655930.0</td>\n",
       "      <td>31.0</td>\n",
       "      <td>658444.5</td>\n",
       "      <td>NaN</td>\n",
       "      <td>NaN</td>\n",
       "      <td>NaN</td>\n",
       "      <td>263.0</td>\n",
       "      <td>263.0</td>\n",
       "    </tr>\n",
       "    <tr>\n",
       "      <th>1</th>\n",
       "      <td>10065</td>\n",
       "      <td>76</td>\n",
       "      <td>POPLATEK MESICNE</td>\n",
       "      <td>960330</td>\n",
       "      <td>1996</td>\n",
       "      <td>3</td>\n",
       "      <td>30</td>\n",
       "      <td>1</td>\n",
       "      <td>12070</td>\n",
       "      <td>12378</td>\n",
       "      <td>...</td>\n",
       "      <td>NaN</td>\n",
       "      <td>22.0</td>\n",
       "      <td>655930.0</td>\n",
       "      <td>31.0</td>\n",
       "      <td>658444.5</td>\n",
       "      <td>NaN</td>\n",
       "      <td>NaN</td>\n",
       "      <td>NaN</td>\n",
       "      <td>263.0</td>\n",
       "      <td>263.0</td>\n",
       "    </tr>\n",
       "    <tr>\n",
       "      <th>2</th>\n",
       "      <td>10065</td>\n",
       "      <td>76</td>\n",
       "      <td>POPLATEK MESICNE</td>\n",
       "      <td>960330</td>\n",
       "      <td>1996</td>\n",
       "      <td>3</td>\n",
       "      <td>30</td>\n",
       "      <td>1</td>\n",
       "      <td>12070</td>\n",
       "      <td>12378</td>\n",
       "      <td>...</td>\n",
       "      <td>NaN</td>\n",
       "      <td>22.0</td>\n",
       "      <td>655930.0</td>\n",
       "      <td>31.0</td>\n",
       "      <td>658444.5</td>\n",
       "      <td>NaN</td>\n",
       "      <td>NaN</td>\n",
       "      <td>NaN</td>\n",
       "      <td>263.0</td>\n",
       "      <td>263.0</td>\n",
       "    </tr>\n",
       "    <tr>\n",
       "      <th>3</th>\n",
       "      <td>10065</td>\n",
       "      <td>76</td>\n",
       "      <td>POPLATEK MESICNE</td>\n",
       "      <td>960330</td>\n",
       "      <td>1996</td>\n",
       "      <td>3</td>\n",
       "      <td>30</td>\n",
       "      <td>1</td>\n",
       "      <td>12070</td>\n",
       "      <td>12378</td>\n",
       "      <td>...</td>\n",
       "      <td>2514.5</td>\n",
       "      <td>NaN</td>\n",
       "      <td>NaN</td>\n",
       "      <td>31.0</td>\n",
       "      <td>658444.5</td>\n",
       "      <td>NaN</td>\n",
       "      <td>NaN</td>\n",
       "      <td>NaN</td>\n",
       "      <td>263.0</td>\n",
       "      <td>263.0</td>\n",
       "    </tr>\n",
       "    <tr>\n",
       "      <th>4</th>\n",
       "      <td>10065</td>\n",
       "      <td>76</td>\n",
       "      <td>POPLATEK MESICNE</td>\n",
       "      <td>960330</td>\n",
       "      <td>1996</td>\n",
       "      <td>3</td>\n",
       "      <td>30</td>\n",
       "      <td>1</td>\n",
       "      <td>12070</td>\n",
       "      <td>12378</td>\n",
       "      <td>...</td>\n",
       "      <td>NaN</td>\n",
       "      <td>22.0</td>\n",
       "      <td>655930.0</td>\n",
       "      <td>31.0</td>\n",
       "      <td>658444.5</td>\n",
       "      <td>NaN</td>\n",
       "      <td>NaN</td>\n",
       "      <td>NaN</td>\n",
       "      <td>263.0</td>\n",
       "      <td>263.0</td>\n",
       "    </tr>\n",
       "  </tbody>\n",
       "</table>\n",
       "<p>5 rows × 114 columns</p>\n",
       "</div>"
      ],
      "text/plain": [
       "   account_id  account_district_id account_frequency  account_date  \\\n",
       "0       10065                   76  POPLATEK MESICNE        960330   \n",
       "1       10065                   76  POPLATEK MESICNE        960330   \n",
       "2       10065                   76  POPLATEK MESICNE        960330   \n",
       "3       10065                   76  POPLATEK MESICNE        960330   \n",
       "4       10065                   76  POPLATEK MESICNE        960330   \n",
       "\n",
       "   account_year  account_month  account_day  account_lor  disp_id  \\\n",
       "0          1996              3           30            1    12070   \n",
       "1          1996              3           30            1    12070   \n",
       "2          1996              3           30            1    12070   \n",
       "3          1996              3           30            1    12070   \n",
       "4          1996              3           30            1    12070   \n",
       "\n",
       "   disp_client_id  ...  district_trans_kymbol_amount  \\\n",
       "0           12378  ...                           NaN   \n",
       "1           12378  ...                           NaN   \n",
       "2           12378  ...                           NaN   \n",
       "3           12378  ...                        2514.5   \n",
       "4           12378  ...                           NaN   \n",
       "\n",
       "  district_trans_operation_count  district_trans_operation_amount  \\\n",
       "0                           22.0                         655930.0   \n",
       "1                           22.0                         655930.0   \n",
       "2                           22.0                         655930.0   \n",
       "3                            NaN                              NaN   \n",
       "4                           22.0                         655930.0   \n",
       "\n",
       "   district_trans_type_count  district_trans_type_amount  \\\n",
       "0                       31.0                    658444.5   \n",
       "1                       31.0                    658444.5   \n",
       "2                       31.0                    658444.5   \n",
       "3                       31.0                    658444.5   \n",
       "4                       31.0                    658444.5   \n",
       "\n",
       "   district_card_type_count  district_loan_status_count  \\\n",
       "0                       NaN                         NaN   \n",
       "1                       NaN                         NaN   \n",
       "2                       NaN                         NaN   \n",
       "3                       NaN                         NaN   \n",
       "4                       NaN                         NaN   \n",
       "\n",
       "   district_loan_status_amount district_account_frequency_count  \\\n",
       "0                          NaN                            263.0   \n",
       "1                          NaN                            263.0   \n",
       "2                          NaN                            263.0   \n",
       "3                          NaN                            263.0   \n",
       "4                          NaN                            263.0   \n",
       "\n",
       "  district_account_frequency_count  \n",
       "0                            263.0  \n",
       "1                            263.0  \n",
       "2                            263.0  \n",
       "3                            263.0  \n",
       "4                            263.0  \n",
       "\n",
       "[5 rows x 114 columns]"
      ]
     },
     "execution_count": 441,
     "metadata": {},
     "output_type": "execute_result"
    }
   ],
   "source": [
    "base_table.head()"
   ]
  },
  {
   "cell_type": "code",
   "execution_count": 442,
   "id": "70ae97ce",
   "metadata": {},
   "outputs": [],
   "source": [
    "base_table_cleaned = base_table.drop_duplicates(subset = 'account_id')"
   ]
  },
  {
   "cell_type": "code",
   "execution_count": 448,
   "id": "5d9d745c",
   "metadata": {},
   "outputs": [
    {
     "data": {
      "text/plain": [
       "array([1996], dtype=int64)"
      ]
     },
     "execution_count": 448,
     "metadata": {},
     "output_type": "execute_result"
    }
   ],
   "source": [
    "base_table_cleaned[\"account_year\"].unique()"
   ]
  },
  {
   "cell_type": "code",
   "execution_count": null,
   "id": "e1bb40ce",
   "metadata": {},
   "outputs": [],
   "source": [
    "base_table.head(4)"
   ]
  },
  {
   "cell_type": "code",
   "execution_count": null,
   "id": "b859bb67",
   "metadata": {},
   "outputs": [],
   "source": [
    "card.head(1)"
   ]
  },
  {
   "cell_type": "code",
   "execution_count": null,
   "id": "c880895f",
   "metadata": {},
   "outputs": [],
   "source": [
    "test = base_table.groupby(by = 'account_id', as_index = False).agg({'card_type' : 'count'})\n",
    "\n",
    "test\n"
   ]
  },
  {
   "cell_type": "code",
   "execution_count": null,
   "id": "344ef211",
   "metadata": {},
   "outputs": [],
   "source": [
    "test = base_table.groupby(['account_id', 'card_type'])[['card_id']].agg(['count'])"
   ]
  },
  {
   "cell_type": "code",
   "execution_count": null,
   "id": "f110a81c",
   "metadata": {},
   "outputs": [],
   "source": [
    "test.iloc[50:500]"
   ]
  },
  {
   "cell_type": "code",
   "execution_count": null,
   "id": "4d9e2c9c",
   "metadata": {},
   "outputs": [],
   "source": [
    "district.head(2)"
   ]
  },
  {
   "cell_type": "code",
   "execution_count": null,
   "id": "ccda88f9",
   "metadata": {},
   "outputs": [],
   "source": [
    "plt.figure(figsize=(14,6))\n",
    "ax = sns.countplot(x='Region', data=district)\n",
    "ax.set_xticklabels(ax.get_xticklabels(), rotation=40, ha=\"right\", fontsize=8)\n",
    "plt.title('Distribution of clients per district', fontsize=14, fontweight='bold')\n",
    "plt.show()"
   ]
  },
  {
   "cell_type": "code",
   "execution_count": null,
   "id": "5a4053fe",
   "metadata": {},
   "outputs": [],
   "source": [
    "trans.head(2\n",
    "          )"
   ]
  },
  {
   "cell_type": "code",
   "execution_count": null,
   "id": "7ed7837a",
   "metadata": {},
   "outputs": [],
   "source": [
    "loan.head(2)"
   ]
  },
  {
   "cell_type": "code",
   "execution_count": null,
   "id": "e9837f8e",
   "metadata": {},
   "outputs": [],
   "source": [
    "def distributions(base_table):\n",
    "    fig, (ax1, ax2) = plt.subplots(2,1, figsize=(8,8))\n",
    "    sns.distplot(base_table[\"client_age\"], ax=ax1)\n",
    "    #sns.distplot(base_table[\"total_cash_credit\"], ax=ax2)\n",
    "    sns.distplot(base_table[\"loan_duration\"], ax=ax2)\n",
    "    plt.tight_layout()"
   ]
  },
  {
   "cell_type": "code",
   "execution_count": null,
   "id": "ba570c12",
   "metadata": {},
   "outputs": [],
   "source": [
    "distributions(base_table)"
   ]
  },
  {
   "cell_type": "code",
   "execution_count": null,
   "id": "763eb077",
   "metadata": {},
   "outputs": [],
   "source": [
    "loan.head(1)"
   ]
  },
  {
   "cell_type": "code",
   "execution_count": null,
   "id": "12c8fca1",
   "metadata": {},
   "outputs": [],
   "source": [
    "#correlation matrix\n",
    "loan_df = loan.copy ()\n",
    "loan_df.drop (['loan_id', 'loan_account_id'], axis =1, inplace = True)\n",
    "sns.heatmap (loan_df.corr (), annot = True, fmt=\".2f\");"
   ]
  },
  {
   "cell_type": "code",
   "execution_count": null,
   "id": "5ffb22be",
   "metadata": {},
   "outputs": [],
   "source": [
    "client.head(2)"
   ]
  },
  {
   "cell_type": "code",
   "execution_count": null,
   "id": "97478ae9",
   "metadata": {},
   "outputs": [],
   "source": [
    "year_gender = client.groupby(['client_birth_year', 'client_gender'],as_index=False).count()\n",
    "\n",
    "plot = sns.lineplot(data=year_gender, x= 'client_birth_year', y='client_id', \n",
    "                     hue='client_gender', ci=None)\n",
    "plot.set(xlabel='client_birth_year', ylabel = 'Number of clients acquired')\n"
   ]
  },
  {
   "cell_type": "code",
   "execution_count": null,
   "id": "56241a3c",
   "metadata": {},
   "outputs": [],
   "source": [
    "df3 = base_table.groupby(['account_year','Region', 'client_gender'],as_index=False).count()\n",
    "chart3 = sns.relplot(data=df3, x= 'account_year', y='client_id', \n",
    "                     col='client_gender', hue='Region',\n",
    "                     col_wrap=1,height=4, aspect=3, linewidth=2.5,\n",
    "                     kind=\"line\")\n",
    "chart3.set(xlabel='account_year', ylabel = 'Number of clients acquired')\n",
    "#chart3.set(xticks=np.arange(1993, 1998, 1.0))"
   ]
  },
  {
   "cell_type": "code",
   "execution_count": null,
   "id": "44474dd0",
   "metadata": {},
   "outputs": [],
   "source": [
    "base_table['account_id'].unique().sum()"
   ]
  },
  {
   "cell_type": "code",
   "execution_count": null,
   "id": "37389ab3",
   "metadata": {},
   "outputs": [],
   "source": [
    "base_table.head(2)"
   ]
  },
  {
   "cell_type": "code",
   "execution_count": null,
   "id": "8a232ca8",
   "metadata": {},
   "outputs": [],
   "source": [
    "x = base_table[base_table['account_year'] == 1996]"
   ]
  },
  {
   "cell_type": "code",
   "execution_count": null,
   "id": "17ea9100",
   "metadata": {},
   "outputs": [],
   "source": [
    "x['account_id'].unique().sum()"
   ]
  },
  {
   "cell_type": "code",
   "execution_count": null,
   "id": "a33b3a02",
   "metadata": {},
   "outputs": [],
   "source": [
    "card.head(1)"
   ]
  },
  {
   "cell_type": "code",
   "execution_count": null,
   "id": "ef1aeec9",
   "metadata": {},
   "outputs": [],
   "source": [
    "## Plotting average bal over  cards issued\n",
    "\n",
    "fig,ax = plt.subplots(figsize=(10,10))\n",
    "sns.boxplot(x='card_issued_97',y='trans_avgbalance', data=base_table)\n",
    "plt.xticks()\n",
    "ax.set_title('Average Balane vs Cards Issued', fontsize=14, fontweight='bold')\n",
    "\n",
    "plt.show()"
   ]
  },
  {
   "cell_type": "code",
   "execution_count": null,
   "id": "4c912e47",
   "metadata": {},
   "outputs": [],
   "source": [
    "base_table.iloc[100:200]"
   ]
  },
  {
   "cell_type": "code",
   "execution_count": null,
   "id": "b76e59a8",
   "metadata": {},
   "outputs": [],
   "source": [
    "client.head(1)"
   ]
  },
  {
   "cell_type": "code",
   "execution_count": null,
   "id": "c071e7e2",
   "metadata": {},
   "outputs": [],
   "source": [
    "## Plotting histogram with the Age Group and Gender. \n",
    "plt.figure(figsize=(14,6))\n",
    "ax = sns.countplot(x='client_age_group', hue ='client_gender', data=client,palette=\"Set3\")\n",
    "ax.set_xticklabels(ax.get_xticklabels(), rotation=40, ha=\"right\", fontsize=8)\n",
    "plt.title('Age Group vs Gender', fontsize=14, fontweight='bold')\n",
    "plt.show()"
   ]
  },
  {
   "cell_type": "code",
   "execution_count": null,
   "id": "c2d37075",
   "metadata": {},
   "outputs": [],
   "source": [
    "#bar for the Client category vs Gender \n",
    "plt.figure(figsize=(14,6))\n",
    "ax = sns.countplot(y=\"client_gender\", hue=\"client_category\", data=client,palette=\"Set2\")\n",
    "#ax.set_xticklabels(ax.get_xticklabels(), rotation=40, ha=\"right\", fontsize=8)\n",
    "plt.title('client Category vs Gender', fontsize=14, fontweight='bold')\n",
    "plt.show()\n",
    "#ax = sns.countplot(y=\"gender\", hue=\"client_category\", data=client,palette=\"Set1\")"
   ]
  },
  {
   "cell_type": "code",
   "execution_count": null,
   "id": "b0116c29",
   "metadata": {},
   "outputs": [],
   "source": [
    "trans.head(3)"
   ]
  },
  {
   "cell_type": "code",
   "execution_count": null,
   "id": "a5fe58a3",
   "metadata": {},
   "outputs": [],
   "source": [
    "loan.head(1)"
   ]
  },
  {
   "cell_type": "code",
   "execution_count": null,
   "id": "fdcb6bcb",
   "metadata": {},
   "outputs": [],
   "source": [
    "\n",
    "\n",
    "\n",
    "trans_loan_merge = pd.merge(trans, loan, left_on = 'trans_account_id', right_on = 'loan_account_id', how='inner' )"
   ]
  },
  {
   "cell_type": "code",
   "execution_count": null,
   "id": "d5602091",
   "metadata": {},
   "outputs": [],
   "source": [
    "trans_loan_merge.head(2)"
   ]
  },
  {
   "cell_type": "code",
   "execution_count": null,
   "id": "fba73181",
   "metadata": {},
   "outputs": [],
   "source": [
    "#RFM Score vs Loan granted  \n",
    "\n",
    "fig,ax = plt.subplots(figsize=(10,10))\n",
    "sns.boxplot(x='loan_granted',y='rfm score', data=trans_loan_merge)\n",
    "plt.xticks()\n",
    "ax.set_title('Average Balane vs Cards Issued', fontsize=14, fontweight='bold')\n",
    "\n",
    "plt.show()\n"
   ]
  },
  {
   "cell_type": "code",
   "execution_count": null,
   "id": "a596fa36",
   "metadata": {},
   "outputs": [],
   "source": [
    "#sns.catplot(x=\"trans_month\", y=\"\", hue=\"client_gender\", kind=\"swarm\", data=base_table)"
   ]
  },
  {
   "cell_type": "code",
   "execution_count": null,
   "id": "f1dc67f5",
   "metadata": {},
   "outputs": [],
   "source": [
    "plt.figure(figsize=(14,6))\n",
    "sns.kdeplot(base_table.groupby('account_id')['account_segment'],shade = True , color = \"b\")\n",
    "sns.kdeplot(base_table.groupby('account_id')['account_segment'],shade = True , color = \"b\")\n"
   ]
  },
  {
   "cell_type": "code",
   "execution_count": null,
   "id": "1676c60c",
   "metadata": {},
   "outputs": [],
   "source": []
  },
  {
   "cell_type": "code",
   "execution_count": null,
   "id": "4ae4b419",
   "metadata": {},
   "outputs": [],
   "source": [
    "trans.info()"
   ]
  },
  {
   "cell_type": "code",
   "execution_count": null,
   "id": "4b4e5aa7",
   "metadata": {},
   "outputs": [],
   "source": [
    "order.info()"
   ]
  },
  {
   "cell_type": "code",
   "execution_count": null,
   "id": "524add08",
   "metadata": {},
   "outputs": [],
   "source": [
    "district.head(2)"
   ]
  },
  {
   "cell_type": "code",
   "execution_count": null,
   "id": "47080f43",
   "metadata": {},
   "outputs": [],
   "source": []
  },
  {
   "cell_type": "code",
   "execution_count": null,
   "id": "f704f82c",
   "metadata": {},
   "outputs": [],
   "source": []
  },
  {
   "cell_type": "code",
   "execution_count": null,
   "id": "13b4e3d3",
   "metadata": {},
   "outputs": [],
   "source": []
  },
  {
   "cell_type": "code",
   "execution_count": null,
   "id": "832357ca",
   "metadata": {},
   "outputs": [],
   "source": [
    "newbt = base_table.drop_duplicates('account_id')\n",
    "\n",
    "#newbt.sort_values()\n",
    "\n",
    "newbt.info(\n",
    ")"
   ]
  }
 ],
 "metadata": {
  "kernelspec": {
   "display_name": "Python 3",
   "language": "python",
   "name": "python3"
  },
  "language_info": {
   "codemirror_mode": {
    "name": "ipython",
    "version": 3
   },
   "file_extension": ".py",
   "mimetype": "text/x-python",
   "name": "python",
   "nbconvert_exporter": "python",
   "pygments_lexer": "ipython3",
   "version": "3.8.8"
  }
 },
 "nbformat": 4,
 "nbformat_minor": 5
}
